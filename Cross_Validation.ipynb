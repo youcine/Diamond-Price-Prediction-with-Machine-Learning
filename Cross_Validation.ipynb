{
  "nbformat": 4,
  "nbformat_minor": 0,
  "metadata": {
    "colab": {
      "provenance": [],
      "authorship_tag": "ABX9TyN/3+Ccq4Kb/8LmI3j+p+mt",
      "include_colab_link": true
    },
    "kernelspec": {
      "name": "python3",
      "display_name": "Python 3"
    },
    "language_info": {
      "name": "python"
    }
  },
  "cells": [
    {
      "cell_type": "markdown",
      "metadata": {
        "id": "view-in-github",
        "colab_type": "text"
      },
      "source": [
        "<a href=\"https://colab.research.google.com/github/youcine/Diamond-Price-Prediction-with-Machine-Learning/blob/main/Cross_Validation.ipynb\" target=\"_parent\"><img src=\"https://colab.research.google.com/assets/colab-badge.svg\" alt=\"Open In Colab\"/></a>"
      ]
    },
    {
      "cell_type": "markdown",
      "metadata": {
        "id": "8LlYvlOUKFtk"
      },
      "source": [
        "# **Evaluation Using Cross-Validation**"
      ]
    },
    {
      "cell_type": "markdown",
      "metadata": {
        "id": "qdcBj-gfn91w"
      },
      "source": [
        "**RandomForest**"
      ]
    },
    {
      "cell_type": "code",
      "execution_count": null,
      "metadata": {
        "colab": {
          "base_uri": "https://localhost:8080/"
        },
        "id": "eQ_VrGuOKIrj",
        "outputId": "2f5761e2-339c-41b3-e4df-7a5bd8c7a5dd"
      },
      "outputs": [
        {
          "data": {
            "text/plain": [
              "array([534.66122229, 518.78824222, 538.17376348, 575.76413234,\n",
              "       540.60925556, 526.21698848, 547.88769078, 556.9721835 ,\n",
              "       543.11514972, 519.20602191])"
            ]
          },
          "execution_count": 50,
          "metadata": {},
          "output_type": "execute_result"
        }
      ],
      "source": [
        "scores = cross_val_score(rf, X_train, y_train, scoring =\"neg_mean_squared_error\",cv = 10)\n",
        "rf_rmse_scores = np.sqrt(-scores)\n",
        "rf_rmse_scores"
      ]
    },
    {
      "cell_type": "code",
      "execution_count": null,
      "metadata": {
        "colab": {
          "base_uri": "https://localhost:8080/"
        },
        "id": "5Ea5ZABYKIdN",
        "outputId": "c9ca9423-e34d-4206-db0f-b3a360561e88"
      },
      "outputs": [
        {
          "name": "stdout",
          "output_type": "stream",
          "text": [
            "Scores:  [534.66122229 518.78824222 538.17376348 575.76413234 540.60925556\n",
            " 526.21698848 547.88769078 556.9721835  543.11514972 519.20602191]\n",
            "Mean:  540.1394650281374\n",
            "Standard Deviation:  16.56309745583089\n"
          ]
        }
      ],
      "source": [
        "print(\"Scores: \", rf_rmse_scores)\n",
        "print(\"Mean: \", rf_rmse_scores.mean())\n",
        "print(\"Standard Deviation: \", rf_rmse_scores.std())"
      ]
    },
    {
      "cell_type": "markdown",
      "source": [
        "data 2"
      ],
      "metadata": {
        "id": "CaBtOEsurHUM"
      }
    },
    {
      "cell_type": "code",
      "execution_count": null,
      "metadata": {
        "id": "0GjLT33brEhU"
      },
      "outputs": [],
      "source": [
        "scores = cross_val_score(rf, X2_train, y2_train, scoring =\"neg_mean_squared_error\",cv = 10)\n",
        "rf_rmse_scores = np.sqrt(-scores)\n",
        "rf_rmse_scores"
      ]
    },
    {
      "cell_type": "code",
      "execution_count": null,
      "metadata": {
        "id": "CRDvCkpFrEhW"
      },
      "outputs": [],
      "source": [
        "print(\"Scores: \", rf_rmse_scores)\n",
        "print(\"Mean: \", rf_rmse_scores.mean())\n",
        "print(\"Standard Deviation: \", rf_rmse_scores.std())"
      ]
    },
    {
      "cell_type": "markdown",
      "metadata": {
        "id": "kPHGYpYroF8f"
      },
      "source": [
        "**LGBM**"
      ]
    },
    {
      "cell_type": "code",
      "execution_count": null,
      "metadata": {
        "colab": {
          "base_uri": "https://localhost:8080/"
        },
        "id": "JFigj58iNY-5",
        "outputId": "94b20f22-bff7-4e8e-e120-c698ecd75712"
      },
      "outputs": [
        {
          "name": "stdout",
          "output_type": "stream",
          "text": [
            "[LightGBM] [Info] Total Bins 1153\n",
            "[LightGBM] [Info] Number of data points in the train set: 30268, number of used features: 15\n",
            "[LightGBM] [Info] Start training from score 3841.133673\n",
            "[LightGBM] [Info] Total Bins 1152\n",
            "[LightGBM] [Info] Number of data points in the train set: 30268, number of used features: 15\n",
            "[LightGBM] [Info] Start training from score 3837.728459\n",
            "[LightGBM] [Info] Total Bins 1154\n",
            "[LightGBM] [Info] Number of data points in the train set: 30269, number of used features: 15\n",
            "[LightGBM] [Info] Start training from score 3828.899270\n",
            "[LightGBM] [Info] Total Bins 1150\n",
            "[LightGBM] [Info] Number of data points in the train set: 30269, number of used features: 15\n",
            "[LightGBM] [Info] Start training from score 3847.572070\n",
            "[LightGBM] [Info] Total Bins 1152\n",
            "[LightGBM] [Info] Number of data points in the train set: 30269, number of used features: 15\n",
            "[LightGBM] [Info] Start training from score 3838.970035\n",
            "[LightGBM] [Info] Total Bins 1151\n",
            "[LightGBM] [Info] Number of data points in the train set: 30269, number of used features: 15\n",
            "[LightGBM] [Info] Start training from score 3827.466814\n",
            "[LightGBM] [Info] Total Bins 1154\n",
            "[LightGBM] [Info] Number of data points in the train set: 30269, number of used features: 15\n",
            "[LightGBM] [Info] Start training from score 3837.944332\n",
            "[LightGBM] [Info] Total Bins 1151\n",
            "[LightGBM] [Info] Number of data points in the train set: 30269, number of used features: 15\n",
            "[LightGBM] [Info] Start training from score 3826.446761\n",
            "[LightGBM] [Info] Total Bins 1157\n",
            "[LightGBM] [Info] Number of data points in the train set: 30269, number of used features: 15\n",
            "[LightGBM] [Info] Start training from score 3847.214972\n",
            "[LightGBM] [Info] Total Bins 1151\n",
            "[LightGBM] [Info] Number of data points in the train set: 30269, number of used features: 15\n",
            "[LightGBM] [Info] Start training from score 3852.064621\n"
          ]
        },
        {
          "data": {
            "text/plain": [
              "array([503.75214836, 509.54810948, 535.34478399, 562.82951398,\n",
              "       527.92864554, 510.59474809, 540.30374362, 540.75932918,\n",
              "       544.66070147, 509.62348855])"
            ]
          },
          "execution_count": 57,
          "metadata": {},
          "output_type": "execute_result"
        }
      ],
      "source": [
        "lgbm_scores = cross_val_score(lgbm, X_train, y_train, scoring =\"neg_mean_squared_error\",cv = 10)\n",
        "lgbm_rmse_scores = np.sqrt(-lgbm_scores)\n",
        "lgbm_rmse_scores"
      ]
    },
    {
      "cell_type": "code",
      "execution_count": null,
      "metadata": {
        "colab": {
          "base_uri": "https://localhost:8080/"
        },
        "id": "1nRquZpeNY7x",
        "outputId": "e777fa90-0968-45cb-8d24-0e6f562a6e4c"
      },
      "outputs": [
        {
          "name": "stdout",
          "output_type": "stream",
          "text": [
            "Scores:  [503.75214836 509.54810948 535.34478399 562.82951398 527.92864554\n",
            " 510.59474809 540.30374362 540.75932918 544.66070147 509.62348855]\n",
            "Mean:  528.5345212278113\n",
            "Standard Deviation:  18.506809449666974\n"
          ]
        }
      ],
      "source": [
        "print(\"Scores: \", lgbm_rmse_scores)\n",
        "print(\"Mean: \", lgbm_rmse_scores.mean())\n",
        "print(\"Standard Deviation: \", lgbm_rmse_scores.std())"
      ]
    },
    {
      "cell_type": "markdown",
      "source": [
        "data 2"
      ],
      "metadata": {
        "id": "UIkRFtidruiw"
      }
    },
    {
      "cell_type": "code",
      "execution_count": null,
      "metadata": {
        "id": "Zh3OVfd4rtWN"
      },
      "outputs": [],
      "source": [
        "lgbm_scores = cross_val_score(lgbm, X2_train, y2_train, scoring =\"neg_mean_squared_error\",cv = 10)\n",
        "lgbm_rmse_scores = np.sqrt(-lgbm_scores)\n",
        "lgbm_rmse_scores"
      ]
    },
    {
      "cell_type": "code",
      "execution_count": null,
      "metadata": {
        "id": "I3akzzaPrtWO"
      },
      "outputs": [],
      "source": [
        "print(\"Scores: \", lgbm_rmse_scores)\n",
        "print(\"Mean: \", lgbm_rmse_scores.mean())\n",
        "print(\"Standard Deviation: \", lgbm_rmse_scores.std())"
      ]
    },
    {
      "cell_type": "markdown",
      "metadata": {
        "id": "T-a3lIJ5oLhh"
      },
      "source": [
        "**XGBoost**"
      ]
    },
    {
      "cell_type": "code",
      "execution_count": null,
      "metadata": {
        "colab": {
          "base_uri": "https://localhost:8080/"
        },
        "id": "VkUGxDmrKIZa",
        "outputId": "47aeb246-92d4-45d1-dbfa-18b7249887f8"
      },
      "outputs": [
        {
          "data": {
            "text/plain": [
              "array([521.56642344, 507.24301766, 550.68265867, 560.23980338,\n",
              "       521.35963595, 535.49976916, 545.19792576, 538.72292831,\n",
              "       541.32104799, 505.70274578])"
            ]
          },
          "execution_count": 59,
          "metadata": {},
          "output_type": "execute_result"
        }
      ],
      "source": [
        "xgbm_scores = cross_val_score(xgbm, X_train, y_train, scoring =\"neg_mean_squared_error\",cv = 10)\n",
        "xgbm_rmse_scores = np.sqrt(-xgbm_scores)\n",
        "xgbm_rmse_scores"
      ]
    },
    {
      "cell_type": "code",
      "execution_count": null,
      "metadata": {
        "colab": {
          "base_uri": "https://localhost:8080/"
        },
        "id": "vZJjlVLBN01E",
        "outputId": "18a1f57d-68ae-457c-8eed-3f4d619011d8"
      },
      "outputs": [
        {
          "name": "stdout",
          "output_type": "stream",
          "text": [
            "Scores:  [521.56642344 507.24301766 550.68265867 560.23980338 521.35963595\n",
            " 535.49976916 545.19792576 538.72292831 541.32104799 505.70274578]\n",
            "Mean:  532.7535956079824\n",
            "Standard Deviation:  17.27973702596814\n"
          ]
        }
      ],
      "source": [
        "print(\"Scores: \", xgbm_rmse_scores)\n",
        "print(\"Mean: \", xgbm_rmse_scores.mean())\n",
        "print(\"Standard Deviation: \", xgbm_rmse_scores.std())"
      ]
    },
    {
      "cell_type": "markdown",
      "source": [
        "data 2"
      ],
      "metadata": {
        "id": "bCQ57L5Pr6m-"
      }
    },
    {
      "cell_type": "code",
      "execution_count": null,
      "metadata": {
        "id": "kKppMszrN0o0"
      },
      "outputs": [],
      "source": [
        "xgbm_scores = cross_val_score(xgbm, X2_train, y2_train, scoring =\"neg_mean_squared_error\",cv = 10)\n",
        "xgbm_rmse_scores = np.sqrt(-xgbm_scores)\n",
        "xgbm_rmse_scores"
      ]
    },
    {
      "cell_type": "code",
      "execution_count": null,
      "metadata": {
        "id": "dMeoMVXAZXOC"
      },
      "outputs": [],
      "source": [
        "print(\"Scores: \", xgbm_rmse_scores)\n",
        "print(\"Mean: \", xgbm_rmse_scores.mean())\n",
        "print(\"Standard Deviation: \", xgbm_rmse_scores.std())"
      ]
    }
  ]
}