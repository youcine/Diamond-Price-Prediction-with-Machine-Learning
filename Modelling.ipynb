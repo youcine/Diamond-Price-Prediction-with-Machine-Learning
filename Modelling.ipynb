{
  "nbformat": 4,
  "nbformat_minor": 0,
  "metadata": {
    "colab": {
      "provenance": [],
      "authorship_tag": "ABX9TyM0/C3bGxJX7QvdnHLQkZb4",
      "include_colab_link": true
    },
    "kernelspec": {
      "name": "python3",
      "display_name": "Python 3"
    },
    "language_info": {
      "name": "python"
    }
  },
  "cells": [
    {
      "cell_type": "markdown",
      "metadata": {
        "id": "view-in-github",
        "colab_type": "text"
      },
      "source": [
        "<a href=\"https://colab.research.google.com/github/youcine/Diamond-Price-Prediction-with-Machine-Learning/blob/main/Modelling.ipynb\" target=\"_parent\"><img src=\"https://colab.research.google.com/assets/colab-badge.svg\" alt=\"Open In Colab\"/></a>"
      ]
    },
    {
      "cell_type": "markdown",
      "metadata": {
        "id": "qdRYmRUWJBCa"
      },
      "source": [
        "# **Modelling**"
      ]
    },
    {
      "cell_type": "markdown",
      "metadata": {
        "id": "Zo31v_uioJd7"
      },
      "source": [
        "## Linear regression models"
      ]
    },
    {
      "cell_type": "markdown",
      "metadata": {
        "id": "3m4OCH4mnfTb"
      },
      "source": [
        "**LinearRegression**"
      ]
    },
    {
      "cell_type": "markdown",
      "source": [
        "Original data"
      ],
      "metadata": {
        "id": "3ZXuieGCRJQ0"
      }
    },
    {
      "cell_type": "code",
      "source": [
        "linear_model = LinearRegression()\n",
        "linear_model.fit(X_train, y_train)\n",
        "y_pred = linear_model.predict(X_test)\n",
        "train_score = linear_model.score(X_train, y_train)\n",
        "test_score = linear_model.score(X_test, y_test)\n",
        "\n",
        "print('Linear Regression model score using train set is: ', round(train_score, 3))\n",
        "print('Linear Regression model score using train set is: ',  round(test_score, 3))"
      ],
      "metadata": {
        "colab": {
          "base_uri": "https://localhost:8080/"
        },
        "id": "0kdeCz8CRI04",
        "outputId": "71ebad5f-bc36-49a3-aaf2-edf251746bf1"
      },
      "execution_count": null,
      "outputs": [
        {
          "output_type": "stream",
          "name": "stdout",
          "text": [
            "Linear Regression model score using train set is:  0.884\n",
            "Linear Regression model score using train set is:  0.884\n"
          ]
        }
      ]
    },
    {
      "cell_type": "code",
      "source": [
        "RMSE_linear = mean_squared_error(y_test, y_pred, squared=False)\n",
        "RMSE_linear"
      ],
      "metadata": {
        "colab": {
          "base_uri": "https://localhost:8080/"
        },
        "id": "HStR8jLTRSG1",
        "outputId": "c3f01222-ecd9-4d5c-c915-e93fdf915017"
      },
      "execution_count": null,
      "outputs": [
        {
          "output_type": "execute_result",
          "data": {
            "text/plain": [
              "1339.5885470184865"
            ]
          },
          "metadata": {},
          "execution_count": 120
        }
      ]
    },
    {
      "cell_type": "markdown",
      "source": [
        "data 1"
      ],
      "metadata": {
        "id": "DYklkLP7jfH0"
      }
    },
    {
      "cell_type": "code",
      "execution_count": null,
      "metadata": {
        "colab": {
          "base_uri": "https://localhost:8080/"
        },
        "id": "A2KDhseIOum_",
        "outputId": "2d9ec4e2-d79c-48cd-fd39-1dc14c4f43d2"
      },
      "outputs": [
        {
          "output_type": "stream",
          "name": "stdout",
          "text": [
            "Linear Regression model score using train set is:  0.889\n",
            "Linear Regression model score using train set is:  0.883\n"
          ]
        }
      ],
      "source": [
        "linear_model = LinearRegression()\n",
        "linear_model.fit(X1_train, y1_train)\n",
        "y_pred = linear_model.predict(X1_test)\n",
        "train_score = linear_model.score(X1_train, y1_train)\n",
        "test_score = linear_model.score(X1_test, y1_test)\n",
        "\n",
        "print('Linear Regression model score using train set is: ', round(train_score, 3))\n",
        "print('Linear Regression model score using train set is: ',  round(test_score, 3))"
      ]
    },
    {
      "cell_type": "code",
      "execution_count": null,
      "metadata": {
        "colab": {
          "base_uri": "https://localhost:8080/"
        },
        "id": "scW7CN4pOujH",
        "outputId": "f2edb69b-5c21-4996-a5d9-f5be0f77756a"
      },
      "outputs": [
        {
          "output_type": "execute_result",
          "data": {
            "text/plain": [
              "1319.743351142426"
            ]
          },
          "metadata": {},
          "execution_count": 122
        }
      ],
      "source": [
        "RMSE_linear = mean_squared_error(y1_test, y_pred, squared=False)\n",
        "RMSE_linear"
      ]
    },
    {
      "cell_type": "markdown",
      "source": [
        "data 2"
      ],
      "metadata": {
        "id": "yf5bdZD7jqxk"
      }
    },
    {
      "cell_type": "code",
      "source": [
        "linear_model = LinearRegression()\n",
        "linear_model.fit(X2_train, y2_train)\n",
        "y_pred = linear_model.predict(X2_test)\n",
        "train_score = linear_model.score(X2_train, y2_train)\n",
        "test_score = linear_model.score(X2_test, y2_test)\n",
        "\n",
        "print('Linear Regression model score using train set is: ', round(train_score, 3))\n",
        "print('Linear Regression model score using train set is: ',  round(test_score, 3))"
      ],
      "metadata": {
        "colab": {
          "base_uri": "https://localhost:8080/"
        },
        "id": "7vgjbbQVjZOZ",
        "outputId": "81e17c63-b965-430e-c76c-64d898e75522"
      },
      "execution_count": null,
      "outputs": [
        {
          "output_type": "stream",
          "name": "stdout",
          "text": [
            "Linear Regression model score using train set is:  0.896\n",
            "Linear Regression model score using train set is:  0.9\n"
          ]
        }
      ]
    },
    {
      "cell_type": "code",
      "source": [
        "RMSE_linear = mean_squared_error(y2_test, y_pred, squared=False)\n",
        "RMSE_linear"
      ],
      "metadata": {
        "colab": {
          "base_uri": "https://localhost:8080/"
        },
        "id": "Ulo8jKL6jZHd",
        "outputId": "44325e03-29bd-41d8-d7b0-e16473f2929f"
      },
      "execution_count": null,
      "outputs": [
        {
          "output_type": "execute_result",
          "data": {
            "text/plain": [
              "753.9819814743975"
            ]
          },
          "metadata": {},
          "execution_count": 43
        }
      ]
    },
    {
      "cell_type": "markdown",
      "source": [
        "data 3"
      ],
      "metadata": {
        "id": "U8-6BqKAxK1i"
      }
    },
    {
      "cell_type": "code",
      "source": [
        "linear_model = LinearRegression()\n",
        "linear_model.fit(X_train, y_train)\n",
        "y_pred = linear_model.predict(X_test)\n",
        "train_score = linear_model.score(X_train, y_train)\n",
        "test_score = linear_model.score(X_test, y_test)\n",
        "\n",
        "print('Linear Regression model score using train set is: ', round(train_score, 3))\n",
        "print('Linear Regression model score using train set is: ',  round(test_score, 3))"
      ],
      "metadata": {
        "colab": {
          "base_uri": "https://localhost:8080/"
        },
        "outputId": "24367520-4fa7-4e26-c7ff-98f10bf40241",
        "id": "1KodZCLPxak7"
      },
      "execution_count": null,
      "outputs": [
        {
          "output_type": "stream",
          "name": "stdout",
          "text": [
            "Linear Regression model score using train set is:  0.909\n",
            "Linear Regression model score using train set is:  0.912\n"
          ]
        }
      ]
    },
    {
      "cell_type": "code",
      "source": [
        "RMSE_linear = mean_squared_error(y_test, y_pred, squared=False)\n",
        "RMSE_linear"
      ],
      "metadata": {
        "colab": {
          "base_uri": "https://localhost:8080/"
        },
        "outputId": "54f8703b-0a65-497d-b57f-9ca9d370a66b",
        "id": "tcKViwMCxak_"
      },
      "execution_count": null,
      "outputs": [
        {
          "output_type": "execute_result",
          "data": {
            "text/plain": [
              "1186.8777208911717"
            ]
          },
          "metadata": {},
          "execution_count": 36
        }
      ]
    },
    {
      "cell_type": "markdown",
      "metadata": {
        "id": "Vkjia9DbncfH"
      },
      "source": [
        "**Ridge**"
      ]
    },
    {
      "cell_type": "markdown",
      "source": [
        "Original data\n"
      ],
      "metadata": {
        "id": "R8eKlRRIlDH2"
      }
    },
    {
      "cell_type": "code",
      "execution_count": null,
      "metadata": {
        "colab": {
          "base_uri": "https://localhost:8080/"
        },
        "id": "3ODmU_bxL-Lr",
        "outputId": "3fd70d41-a07a-4483-bc2c-0ec4e18e2fb6"
      },
      "outputs": [
        {
          "output_type": "stream",
          "name": "stdout",
          "text": [
            "Ridge Regression model score using train set is:  0.884\n",
            "Ridge Regression model score using train set is:  0.884\n"
          ]
        }
      ],
      "source": [
        "ridge_model = Ridge()\n",
        "ridge_model.fit(X_train, y_train)\n",
        "y_pred = ridge_model.predict(X_test)\n",
        "train_score = ridge_model.score(X_train, y_train)\n",
        "test_score = ridge_model.score(X_test, y_test)\n",
        "\n",
        "print('Ridge Regression model score using train set is: ', round(train_score, 3))\n",
        "print('Ridge Regression model score using train set is: ',  round(test_score, 3))"
      ]
    },
    {
      "cell_type": "code",
      "execution_count": null,
      "metadata": {
        "colab": {
          "base_uri": "https://localhost:8080/"
        },
        "id": "CoIg4RieOtkL",
        "outputId": "e6168a14-874f-4da8-a9cd-006c97776f2a"
      },
      "outputs": [
        {
          "output_type": "execute_result",
          "data": {
            "text/plain": [
              "1340.2168310660713"
            ]
          },
          "metadata": {},
          "execution_count": 124
        }
      ],
      "source": [
        "RMSE_ridge = mean_squared_error(y_test, y_pred, squared=False)\n",
        "RMSE_ridge"
      ]
    },
    {
      "cell_type": "markdown",
      "source": [
        "data 1"
      ],
      "metadata": {
        "id": "Z0xAsGM_kvm_"
      }
    },
    {
      "cell_type": "code",
      "source": [
        "ridge_model = Ridge()\n",
        "ridge_model.fit(X1_train, y1_train)\n",
        "y_pred = ridge_model.predict(X1_test)\n",
        "train_score = ridge_model.score(X1_train, y1_train)\n",
        "test_score = ridge_model.score(X1_test, y1_test)\n",
        "\n",
        "print('Ridge Regression model score using train set is: ', round(train_score, 3))\n",
        "print('Ridge Regression model score using train set is: ',  round(test_score, 3))"
      ],
      "metadata": {
        "colab": {
          "base_uri": "https://localhost:8080/"
        },
        "id": "o7jKYOLPk720",
        "outputId": "4baeab40-0703-4436-aabf-e4c7bc5f63f2"
      },
      "execution_count": null,
      "outputs": [
        {
          "output_type": "stream",
          "name": "stdout",
          "text": [
            "Ridge Regression model score using train set is:  0.889\n",
            "Ridge Regression model score using train set is:  0.883\n"
          ]
        }
      ]
    },
    {
      "cell_type": "code",
      "source": [
        "RMSE_ridge = mean_squared_error(y1_test, y_pred, squared=False)\n",
        "RMSE_ridge"
      ],
      "metadata": {
        "colab": {
          "base_uri": "https://localhost:8080/"
        },
        "id": "7oH9O5i8lT-N",
        "outputId": "5e1ba791-863e-447d-ea9f-4a3ce97710de"
      },
      "execution_count": null,
      "outputs": [
        {
          "output_type": "execute_result",
          "data": {
            "text/plain": [
              "1319.7467907943385"
            ]
          },
          "metadata": {},
          "execution_count": 126
        }
      ]
    },
    {
      "cell_type": "markdown",
      "source": [
        "data 2"
      ],
      "metadata": {
        "id": "-A60L0Olkyvk"
      }
    },
    {
      "cell_type": "code",
      "source": [
        "ridge_model = Ridge()\n",
        "ridge_model.fit(X2_train, y2_train)\n",
        "y_pred = ridge_model.predict(X2_test)\n",
        "train_score = ridge_model.score(X2_train, y2_train)\n",
        "test_score = ridge_model.score(X2_test, y2_test)\n",
        "\n",
        "print('Ridge Regression model score using train set is: ', round(train_score, 3))\n",
        "print('Ridge Regression model score using train set is: ',  round(test_score, 3))"
      ],
      "metadata": {
        "colab": {
          "base_uri": "https://localhost:8080/"
        },
        "id": "WkLWK7gEkxre",
        "outputId": "5c518219-09eb-4dc7-8761-5239541c7220"
      },
      "execution_count": null,
      "outputs": [
        {
          "output_type": "stream",
          "name": "stdout",
          "text": [
            "Ridge Regression model score using train set is:  0.896\n",
            "Ridge Regression model score using train set is:  0.901\n"
          ]
        }
      ]
    },
    {
      "cell_type": "code",
      "source": [
        "RMSE_ridge = mean_squared_error(y2_test, y_pred, squared=False)\n",
        "RMSE_ridge"
      ],
      "metadata": {
        "colab": {
          "base_uri": "https://localhost:8080/"
        },
        "id": "c79N-WnulZ4c",
        "outputId": "39c69579-029f-492b-a211-95b76437d344"
      },
      "execution_count": null,
      "outputs": [
        {
          "output_type": "execute_result",
          "data": {
            "text/plain": [
              "753.7735381219145"
            ]
          },
          "metadata": {},
          "execution_count": 47
        }
      ]
    },
    {
      "cell_type": "markdown",
      "metadata": {
        "id": "WXeptydLnZnO"
      },
      "source": [
        "**Lasso**"
      ]
    },
    {
      "cell_type": "markdown",
      "source": [
        "Original data"
      ],
      "metadata": {
        "id": "Tvud5DnnlkPM"
      }
    },
    {
      "cell_type": "code",
      "execution_count": null,
      "metadata": {
        "colab": {
          "base_uri": "https://localhost:8080/"
        },
        "id": "2AJ7_99ROtgt",
        "outputId": "11daafef-6b9a-44b6-c5f8-afdce3db9db2"
      },
      "outputs": [
        {
          "output_type": "stream",
          "name": "stdout",
          "text": [
            "Lasso Regression model score using train set is:  0.884\n",
            "Lasso Regression model score using train set is:  0.884\n"
          ]
        }
      ],
      "source": [
        "lasso_model = Lasso()\n",
        "lasso_model.fit(X_train, y_train)\n",
        "y_pred = lasso_model.predict(X_test)\n",
        "train_score = lasso_model.score(X_train, y_train)\n",
        "test_score = lasso_model.score(X_test, y_test)\n",
        "\n",
        "print('Lasso Regression model score using train set is: ', round(train_score, 3))\n",
        "print('Lasso Regression model score using train set is: ',  round(test_score, 3))"
      ]
    },
    {
      "cell_type": "code",
      "execution_count": null,
      "metadata": {
        "colab": {
          "base_uri": "https://localhost:8080/"
        },
        "id": "Y8Jcgu2ZOtdr",
        "outputId": "cd9ad32b-21b7-4229-806c-35be3804af8b"
      },
      "outputs": [
        {
          "output_type": "execute_result",
          "data": {
            "text/plain": [
              "1338.7503586401074"
            ]
          },
          "metadata": {},
          "execution_count": 128
        }
      ],
      "source": [
        "RMSE_lasso = mean_squared_error(y_test, y_pred, squared=False)\n",
        "RMSE_lasso"
      ]
    },
    {
      "cell_type": "markdown",
      "source": [
        "data 1"
      ],
      "metadata": {
        "id": "x9S_tlv7lqeU"
      }
    },
    {
      "cell_type": "code",
      "execution_count": null,
      "metadata": {
        "colab": {
          "base_uri": "https://localhost:8080/"
        },
        "outputId": "c933572f-f356-4afa-c2c3-7bff94e67903",
        "id": "ki1nlbxClnhr"
      },
      "outputs": [
        {
          "output_type": "stream",
          "name": "stdout",
          "text": [
            "Lasso Regression model score using train set is:  0.889\n",
            "Lasso Regression model score using train set is:  0.883\n"
          ]
        },
        {
          "output_type": "stream",
          "name": "stderr",
          "text": [
            "/usr/local/lib/python3.10/dist-packages/sklearn/linear_model/_coordinate_descent.py:631: ConvergenceWarning: Objective did not converge. You might want to increase the number of iterations, check the scale of the features or consider increasing regularisation. Duality gap: 7.530e+08, tolerance: 5.037e+07\n",
            "  model = cd_fast.enet_coordinate_descent(\n"
          ]
        }
      ],
      "source": [
        "lasso_model = Lasso()\n",
        "lasso_model.fit(X1_train, y1_train)\n",
        "y_pred = lasso_model.predict(X1_test)\n",
        "train_score = lasso_model.score(X1_train, y1_train)\n",
        "test_score = lasso_model.score(X1_test, y1_test)\n",
        "\n",
        "print('Lasso Regression model score using train set is: ', round(train_score, 3))\n",
        "print('Lasso Regression model score using train set is: ',  round(test_score, 3))"
      ]
    },
    {
      "cell_type": "code",
      "execution_count": null,
      "metadata": {
        "colab": {
          "base_uri": "https://localhost:8080/"
        },
        "outputId": "c8028219-ffcc-4be7-bfd8-02b55223694d",
        "id": "h_52rrSclniJ"
      },
      "outputs": [
        {
          "output_type": "execute_result",
          "data": {
            "text/plain": [
              "1320.0369235792882"
            ]
          },
          "metadata": {},
          "execution_count": 130
        }
      ],
      "source": [
        "RMSE_lasso = mean_squared_error(y1_test, y_pred, squared=False)\n",
        "RMSE_lasso"
      ]
    },
    {
      "cell_type": "markdown",
      "source": [
        "data 2"
      ],
      "metadata": {
        "id": "ItCj7Ywdlztm"
      }
    },
    {
      "cell_type": "code",
      "execution_count": null,
      "metadata": {
        "colab": {
          "base_uri": "https://localhost:8080/"
        },
        "outputId": "495883b9-7715-4951-f2be-500b8ca9c19a",
        "id": "U2m6nV5MlooP"
      },
      "outputs": [
        {
          "output_type": "stream",
          "name": "stdout",
          "text": [
            "Lasso Regression model score using train set is:  0.896\n",
            "Lasso Regression model score using train set is:  0.9\n"
          ]
        }
      ],
      "source": [
        "lasso_model = Lasso()\n",
        "lasso_model.fit(X2_train, y2_train)\n",
        "y_pred = lasso_model.predict(X2_test)\n",
        "train_score = lasso_model.score(X2_train, y2_train)\n",
        "test_score = lasso_model.score(X2_test, y2_test)\n",
        "\n",
        "print('Lasso Regression model score using train set is: ', round(train_score, 3))\n",
        "print('Lasso Regression model score using train set is: ',  round(test_score, 3))"
      ]
    },
    {
      "cell_type": "code",
      "execution_count": null,
      "metadata": {
        "colab": {
          "base_uri": "https://localhost:8080/"
        },
        "outputId": "0c0d03c5-cea0-47c9-c11f-e6d6ad949bae",
        "id": "FxLlz9UJlooR"
      },
      "outputs": [
        {
          "output_type": "execute_result",
          "data": {
            "text/plain": [
              "754.0155154802471"
            ]
          },
          "metadata": {},
          "execution_count": 51
        }
      ],
      "source": [
        "RMSE_lasso = mean_squared_error(y2_test, y_pred, squared=False)\n",
        "RMSE_lasso"
      ]
    },
    {
      "cell_type": "markdown",
      "metadata": {
        "id": "frVwz9RenMtb"
      },
      "source": [
        "**LogisticRegression**"
      ]
    },
    {
      "cell_type": "markdown",
      "source": [
        "old data (with x,y,z and without size feature)"
      ],
      "metadata": {
        "id": "WxVRPgaOmCde"
      }
    },
    {
      "cell_type": "code",
      "execution_count": null,
      "metadata": {
        "colab": {
          "base_uri": "https://localhost:8080/"
        },
        "id": "fJ_hCJCXmv1p",
        "outputId": "c5f10986-9485-4fd8-de38-f4de41567dbb"
      },
      "outputs": [
        {
          "name": "stderr",
          "output_type": "stream",
          "text": [
            "/usr/local/lib/python3.10/dist-packages/sklearn/linear_model/_logistic.py:458: ConvergenceWarning: lbfgs failed to converge (status=1):\n",
            "STOP: TOTAL NO. of ITERATIONS REACHED LIMIT.\n",
            "\n",
            "Increase the number of iterations (max_iter) or scale the data as shown in:\n",
            "    https://scikit-learn.org/stable/modules/preprocessing.html\n",
            "Please also refer to the documentation for alternative solver options:\n",
            "    https://scikit-learn.org/stable/modules/linear_model.html#logistic-regression\n",
            "  n_iter_i = _check_optimize_result(\n"
          ]
        },
        {
          "name": "stdout",
          "output_type": "stream",
          "text": [
            "LogisticRegression model score using train set is:  0.017\n",
            "LogisticRegression model score using train set is:  0.011\n"
          ]
        }
      ],
      "source": [
        "logistic_model = LogisticRegression()\n",
        "logistic_model.fit(X_train, y_train)\n",
        "y_pred = logistic_model.predict(X_test)\n",
        "train_score = logistic_model.score(X_train, y_train)\n",
        "test_score = logistic_model.score(X_test, y_test)\n",
        "\n",
        "print('LogisticRegression model score using train set is: ', round(train_score, 3))\n",
        "print('LogisticRegression model score using train set is: ',  round(test_score, 3))"
      ]
    },
    {
      "cell_type": "code",
      "execution_count": null,
      "metadata": {
        "colab": {
          "base_uri": "https://localhost:8080/"
        },
        "id": "YKcEHkW_O5kQ",
        "outputId": "0d5df3a2-6fc4-4e6f-808f-c5f1857be347"
      },
      "outputs": [
        {
          "data": {
            "text/plain": [
              "1244.1331489407644"
            ]
          },
          "execution_count": 162,
          "metadata": {},
          "output_type": "execute_result"
        }
      ],
      "source": [
        "RMSE_logistic = mean_squared_error(y_test, y_pred, squared=False)\n",
        "RMSE_logistic"
      ]
    },
    {
      "cell_type": "markdown",
      "source": [
        "data 1"
      ],
      "metadata": {
        "id": "a7jxcfuKmDe1"
      }
    },
    {
      "cell_type": "code",
      "execution_count": null,
      "metadata": {
        "id": "B6b_mkQjl90o"
      },
      "outputs": [],
      "source": [
        "logistic_model = LogisticRegression()\n",
        "logistic_model.fit(X1_train, y1_train)\n",
        "y_pred = logistic_model.predict(X1_test)\n",
        "train_score = logistic_model.score(X1_train, y1_train)\n",
        "test_score = logistic_model.score(X1_test, y1_test)\n",
        "\n",
        "print('LogisticRegression model score using train set is: ', round(train_score, 3))\n",
        "print('LogisticRegression model score using train set is: ',  round(test_score, 3))"
      ]
    },
    {
      "cell_type": "code",
      "execution_count": null,
      "metadata": {
        "id": "NNuG7Blzl90q"
      },
      "outputs": [],
      "source": [
        "RMSE_logistic = mean_squared_error(y1_test, y_pred, squared=False)\n",
        "RMSE_logistic"
      ]
    },
    {
      "cell_type": "markdown",
      "source": [
        "data 2"
      ],
      "metadata": {
        "id": "dB2licWAmIyP"
      }
    },
    {
      "cell_type": "code",
      "execution_count": null,
      "metadata": {
        "id": "iws8CS-pl-rF"
      },
      "outputs": [],
      "source": [
        "logistic_model = LogisticRegression()\n",
        "logistic_model.fit(X2_train, y2_train)\n",
        "y_pred = logistic_model.predict(X2_test)\n",
        "train_score = logistic_model.score(X2_train, y2_train)\n",
        "test_score = logistic_model.score(X2_test, y2_test)\n",
        "\n",
        "print('LogisticRegression model score using train set is: ', round(train_score, 3))\n",
        "print('LogisticRegression model score using train set is: ',  round(test_score, 3))"
      ]
    },
    {
      "cell_type": "code",
      "execution_count": null,
      "metadata": {
        "id": "IC15IV-Kl-rI"
      },
      "outputs": [],
      "source": [
        "RMSE_logistic = mean_squared_error(y2_test, y_pred, squared=False)\n",
        "RMSE_logistic"
      ]
    },
    {
      "cell_type": "markdown",
      "source": [
        "Data 3"
      ],
      "metadata": {
        "id": "30NdgvafxzoJ"
      }
    },
    {
      "cell_type": "code",
      "source": [],
      "metadata": {
        "id": "eEQVB0XUx0xo"
      },
      "execution_count": null,
      "outputs": []
    },
    {
      "cell_type": "code",
      "execution_count": null,
      "metadata": {
        "colab": {
          "base_uri": "https://localhost:8080/"
        },
        "outputId": "7e09ab75-bf07-462a-bd80-36cf2ba49102",
        "id": "l0-bzAmvx1CC"
      },
      "outputs": [
        {
          "output_type": "stream",
          "name": "stderr",
          "text": [
            "/usr/local/lib/python3.10/dist-packages/sklearn/linear_model/_logistic.py:458: ConvergenceWarning: lbfgs failed to converge (status=1):\n",
            "STOP: TOTAL NO. of ITERATIONS REACHED LIMIT.\n",
            "\n",
            "Increase the number of iterations (max_iter) or scale the data as shown in:\n",
            "    https://scikit-learn.org/stable/modules/preprocessing.html\n",
            "Please also refer to the documentation for alternative solver options:\n",
            "    https://scikit-learn.org/stable/modules/linear_model.html#logistic-regression\n",
            "  n_iter_i = _check_optimize_result(\n"
          ]
        },
        {
          "output_type": "stream",
          "name": "stdout",
          "text": [
            "LogisticRegression model score using train set is:  0.028\n",
            "LogisticRegression model score using train set is:  0.015\n"
          ]
        }
      ],
      "source": [
        "logistic_model = LogisticRegression()\n",
        "logistic_model.fit(X_train, y_train)\n",
        "y_pred = logistic_model.predict(X_test)\n",
        "train_score = logistic_model.score(X_train, y_train)\n",
        "test_score = logistic_model.score(X_test, y_test)\n",
        "\n",
        "print('LogisticRegression model score using train set is: ', round(train_score, 3))\n",
        "print('LogisticRegression model score using train set is: ',  round(test_score, 3))"
      ]
    },
    {
      "cell_type": "code",
      "execution_count": null,
      "metadata": {
        "colab": {
          "base_uri": "https://localhost:8080/"
        },
        "outputId": "2d502278-25ca-41d1-c900-b7aff5dc0e0f",
        "id": "GeGp6jb3x1CG"
      },
      "outputs": [
        {
          "output_type": "execute_result",
          "data": {
            "text/plain": [
              "1474.7474352573468"
            ]
          },
          "metadata": {},
          "execution_count": 38
        }
      ],
      "source": [
        "RMSE_logistic = mean_squared_error(y_test, y_pred, squared=False)\n",
        "RMSE_logistic"
      ]
    },
    {
      "cell_type": "markdown",
      "metadata": {
        "id": "UACsHKVyz_q6"
      },
      "source": [
        "## Decision Tree"
      ]
    },
    {
      "cell_type": "markdown",
      "source": [
        "Original data"
      ],
      "metadata": {
        "id": "lcsDlF5zmyHg"
      }
    },
    {
      "cell_type": "code",
      "execution_count": null,
      "metadata": {
        "colab": {
          "base_uri": "https://localhost:8080/"
        },
        "id": "VtzZwq_2wv4V",
        "outputId": "930a648c-a2d1-4004-e91d-cdf9edf043d3"
      },
      "outputs": [
        {
          "output_type": "stream",
          "name": "stdout",
          "text": [
            "DecisionTree Regression model score using train set is:  1.0\n",
            "DecisionTree Regression model score using train set is:  0.966\n"
          ]
        }
      ],
      "source": [
        "id3 = DecisionTreeRegressor()\n",
        "id3.fit(X_train,y_train)\n",
        "y_pred = id3.predict(X_test)\n",
        "train_score = id3.score(X_train, y_train)\n",
        "test_score = id3.score(X_test, y_test)\n",
        "\n",
        "print('DecisionTree Regression model score using train set is: ', round(train_score, 3))\n",
        "print('DecisionTree Regression model score using train set is: ',  round(test_score, 3))"
      ]
    },
    {
      "cell_type": "code",
      "execution_count": null,
      "metadata": {
        "colab": {
          "base_uri": "https://localhost:8080/"
        },
        "id": "RhrAPo7kwvzz",
        "outputId": "bd016a20-5017-4ed1-a47a-9b0824c744a6"
      },
      "outputs": [
        {
          "output_type": "execute_result",
          "data": {
            "text/plain": [
              "729.180475232145"
            ]
          },
          "metadata": {},
          "execution_count": 137
        }
      ],
      "source": [
        "RMSE_id3 = mean_squared_error(y_test, y_pred, squared=False)\n",
        "RMSE_id3"
      ]
    },
    {
      "cell_type": "code",
      "execution_count": null,
      "metadata": {
        "id": "XIGTOKS90WKM"
      },
      "outputs": [],
      "source": [
        "feature_importances_id3 = pd.DataFrame(id3.feature_importances_,\n",
        "                                       index = X_train.columns,\n",
        "                                       columns = ['importance']).sort_values('importance', ascending=False)\n",
        "feature_importances_id3['feature'] = feature_importances_id3.index\n"
      ]
    },
    {
      "cell_type": "code",
      "execution_count": null,
      "metadata": {
        "colab": {
          "base_uri": "https://localhost:8080/",
          "height": 430
        },
        "id": "NrSJXsq10WEY",
        "outputId": "ec31812e-9efd-4d65-d70e-e8a539460648"
      },
      "outputs": [
        {
          "output_type": "display_data",
          "data": {
            "text/plain": [
              "<Figure size 640x480 with 1 Axes>"
            ],
            "image/png": "[encoded data removed]"
          },
          "metadata": {}
        }
      ],
      "source": [
        "fig, ax = plt.subplots()\n",
        "\n",
        "ax.barh(feature_importances_id3.feature[:10],\n",
        "        feature_importances_id3.importance[:10],\n",
        "        height=0.55, align=\"edge\",\n",
        "        color=\"#07a2a2\");\n",
        "plt.show()"
      ]
    },
    {
      "cell_type": "markdown",
      "source": [
        "data 1"
      ],
      "metadata": {
        "id": "CJogTgbYm1ZA"
      }
    },
    {
      "cell_type": "code",
      "execution_count": null,
      "metadata": {
        "colab": {
          "base_uri": "https://localhost:8080/"
        },
        "outputId": "3cbe722e-7dc3-424b-8ab9-074fa567637c",
        "id": "vwm4Rtq9mnQQ"
      },
      "outputs": [
        {
          "output_type": "stream",
          "name": "stdout",
          "text": [
            "DecisionTree Regression model score using train set is:  1.0\n",
            "DecisionTree Regression model score using train set is:  0.967\n"
          ]
        }
      ],
      "source": [
        "id3 = DecisionTreeRegressor()\n",
        "id3.fit(X1_train,y1_train)\n",
        "y_pred = id3.predict(X1_test)\n",
        "train_score = id3.score(X1_train, y1_train)\n",
        "test_score = id3.score(X1_test, y1_test)\n",
        "\n",
        "print('DecisionTree Regression model score using train set is: ', round(train_score, 3))\n",
        "print('DecisionTree Regression model score using train set is: ',  round(test_score, 3))"
      ]
    },
    {
      "cell_type": "code",
      "execution_count": null,
      "metadata": {
        "colab": {
          "base_uri": "https://localhost:8080/"
        },
        "outputId": "eaf5f6aa-c133-4a06-c511-d3625dfd4efb",
        "id": "eSRvG00DmnQa"
      },
      "outputs": [
        {
          "output_type": "execute_result",
          "data": {
            "text/plain": [
              "698.6503281981774"
            ]
          },
          "metadata": {},
          "execution_count": 141
        }
      ],
      "source": [
        "RMSE_id3 = mean_squared_error(y1_test, y_pred, squared=False)\n",
        "RMSE_id3"
      ]
    },
    {
      "cell_type": "markdown",
      "source": [
        "data 2"
      ],
      "metadata": {
        "id": "QV8C1Ltbm-Tv"
      }
    },
    {
      "cell_type": "code",
      "execution_count": null,
      "metadata": {
        "colab": {
          "base_uri": "https://localhost:8080/"
        },
        "outputId": "6f75075d-45cc-478d-873a-3bc71bc6c58c",
        "id": "F51CWbMxmqY6"
      },
      "outputs": [
        {
          "output_type": "stream",
          "name": "stdout",
          "text": [
            "DecisionTree Regression model score using train set is:  1.0\n",
            "DecisionTree Regression model score using train set is:  0.963\n"
          ]
        }
      ],
      "source": [
        "id3 = DecisionTreeRegressor()\n",
        "id3.fit(X2_train,y2_train)\n",
        "y_pred = id3.predict(X2_test)\n",
        "train_score = id3.score(X2_train, y2_train)\n",
        "test_score = id3.score(X2_test, y2_test)\n",
        "\n",
        "print('DecisionTree Regression model score using train set is: ', round(train_score, 3))\n",
        "print('DecisionTree Regression model score using train set is: ',  round(test_score, 3))"
      ]
    },
    {
      "cell_type": "code",
      "execution_count": null,
      "metadata": {
        "colab": {
          "base_uri": "https://localhost:8080/"
        },
        "outputId": "1bb1bba4-dfc4-4d55-8778-e2ef765e8449",
        "id": "RWiN3BfsmqZL"
      },
      "outputs": [
        {
          "output_type": "execute_result",
          "data": {
            "text/plain": [
              "460.70195939374304"
            ]
          },
          "metadata": {},
          "execution_count": 58
        }
      ],
      "source": [
        "RMSE_id3 = mean_squared_error(y2_test, y_pred, squared=False)\n",
        "RMSE_id3"
      ]
    },
    {
      "cell_type": "code",
      "execution_count": null,
      "metadata": {
        "id": "34h3R91PmqZM"
      },
      "outputs": [],
      "source": [
        "feature_importances_id3 = pd.DataFrame(id3.feature_importances_,\n",
        "                                       index = X2_train.columns,\n",
        "                                       columns = ['importance']).sort_values('importance', ascending=False)\n",
        "feature_importances_id3['feature'] = feature_importances_id3.index\n",
        "feature_importances_id3"
      ]
    },
    {
      "cell_type": "code",
      "execution_count": null,
      "metadata": {
        "colab": {
          "base_uri": "https://localhost:8080/",
          "height": 430
        },
        "outputId": "3bfebe62-66bc-42bb-f05e-7e630c98faa4",
        "id": "52WUvBgNmqZM"
      },
      "outputs": [
        {
          "output_type": "display_data",
          "data": {
            "text/plain": [
              "<Figure size 640x480 with 1 Axes>"
            ],
            "image/png": "[encoded data removed]"
          },
          "metadata": {}
        }
      ],
      "source": [
        "fig, ax = plt.subplots()\n",
        "\n",
        "ax.barh(feature_importances_id3.feature[:10],\n",
        "        feature_importances_id3.importance[:10],\n",
        "        height=0.55, align=\"edge\",\n",
        "        color=\"#07a2a2\");\n",
        "plt.show()"
      ]
    },
    {
      "cell_type": "markdown",
      "source": [
        "Data 3"
      ],
      "metadata": {
        "id": "GhFURDIl2FiU"
      }
    },
    {
      "cell_type": "code",
      "execution_count": null,
      "metadata": {
        "colab": {
          "base_uri": "https://localhost:8080/"
        },
        "outputId": "01fb372b-5291-4a12-c9c2-e52c01877676",
        "id": "7s0mY_1o2D46"
      },
      "outputs": [
        {
          "output_type": "stream",
          "name": "stdout",
          "text": [
            "DecisionTree Regression model score using train set is:  1.0\n",
            "DecisionTree Regression model score using train set is:  0.967\n"
          ]
        }
      ],
      "source": [
        "id3 = DecisionTreeRegressor()\n",
        "id3.fit(X_train,y_train)\n",
        "y_pred = id3.predict(X_test)\n",
        "train_score = id3.score(X_train, y_train)\n",
        "test_score = id3.score(X_test, y_test)\n",
        "\n",
        "print('DecisionTree Regression model score using train set is: ', round(train_score, 3))\n",
        "print('DecisionTree Regression model score using train set is: ',  round(test_score, 3))"
      ]
    },
    {
      "cell_type": "code",
      "execution_count": null,
      "metadata": {
        "colab": {
          "base_uri": "https://localhost:8080/"
        },
        "outputId": "7893ed99-9cbd-40d9-dd3a-47fa5dc83216",
        "id": "zHNo0Y-D2D47"
      },
      "outputs": [
        {
          "output_type": "execute_result",
          "data": {
            "text/plain": [
              "725.4456122128158"
            ]
          },
          "metadata": {},
          "execution_count": 40
        }
      ],
      "source": [
        "RMSE_id3 = mean_squared_error(y_test, y_pred, squared=False)\n",
        "RMSE_id3"
      ]
    },
    {
      "cell_type": "markdown",
      "metadata": {
        "id": "-Wobdx4AwQ1s"
      },
      "source": [
        "## Randomforest regression model"
      ]
    },
    {
      "cell_type": "markdown",
      "source": [
        "\n",
        "Original data"
      ],
      "metadata": {
        "id": "RMgPiebqndqt"
      }
    },
    {
      "cell_type": "code",
      "execution_count": null,
      "metadata": {
        "colab": {
          "base_uri": "https://localhost:8080/"
        },
        "id": "3ZpfjmvPHDj1",
        "outputId": "cffddde3-1d0c-45ad-c390-a1fd7a5741e4"
      },
      "outputs": [
        {
          "output_type": "stream",
          "name": "stdout",
          "text": [
            "RandomForest Regression model score using train set is:  0.997\n",
            "RandomForest Regression model score using train set is:  0.981\n"
          ]
        }
      ],
      "source": [
        "rf = RandomForestRegressor()\n",
        "rf.fit(X_train, y_train)\n",
        "y_pred = rf.predict(X_test)\n",
        "train_score = rf.score(X_train, y_train)\n",
        "test_score = rf.score(X_test, y_test)\n",
        "\n",
        "print('RandomForest Regression model score using train set is: ', round(train_score, 3))\n",
        "print('RandomForest Regression model score using train set is: ',  round(test_score, 3))"
      ]
    },
    {
      "cell_type": "code",
      "execution_count": null,
      "metadata": {
        "colab": {
          "base_uri": "https://localhost:8080/"
        },
        "id": "-VyDGhDTHDfz",
        "outputId": "8d86fdad-cb46-4963-fc05-746e9d1fabde"
      },
      "outputs": [
        {
          "output_type": "execute_result",
          "data": {
            "text/plain": [
              "548.8341385985055"
            ]
          },
          "metadata": {},
          "execution_count": 143
        }
      ],
      "source": [
        "RMSE_rf = mean_squared_error(y_test, y_pred, squared=False)\n",
        "RMSE_rf"
      ]
    },
    {
      "cell_type": "code",
      "execution_count": null,
      "metadata": {
        "id": "vWbCdGUZHf21"
      },
      "outputs": [],
      "source": [
        "feature_importances_rf = pd.DataFrame(rf.feature_importances_,\n",
        "                                        index = X_train.columns,\n",
        "                                        columns = ['importance']).sort_values('importance', ascending=False)"
      ]
    },
    {
      "cell_type": "code",
      "execution_count": null,
      "metadata": {
        "id": "DThXh0ebxlzC"
      },
      "outputs": [],
      "source": [
        "feature_importances_rf['feature'] = feature_importances_rf.index"
      ]
    },
    {
      "cell_type": "code",
      "execution_count": null,
      "metadata": {
        "colab": {
          "base_uri": "https://localhost:8080/",
          "height": 430
        },
        "id": "wvdTrcmhwv_K",
        "outputId": "c0374b62-7d6a-4447-ade2-167a133b8bf3"
      },
      "outputs": [
        {
          "output_type": "display_data",
          "data": {
            "text/plain": [
              "<Figure size 640x480 with 1 Axes>"
            ],
            "image/png": "[encoded data removed]"
          },
          "metadata": {}
        }
      ],
      "source": [
        "fig, ax = plt.subplots()\n",
        "ax.barh(feature_importances_rf.feature[:10],\n",
        "        feature_importances_rf.importance[:10],\n",
        "        height=0.55, align=\"edge\",\n",
        "        color=\"#07a2a2\");\n",
        "plt.show()"
      ]
    },
    {
      "cell_type": "markdown",
      "source": [
        "data 1"
      ],
      "metadata": {
        "id": "lQv5kl8DnmIR"
      }
    },
    {
      "cell_type": "code",
      "execution_count": null,
      "metadata": {
        "colab": {
          "base_uri": "https://localhost:8080/"
        },
        "outputId": "6e082366-a1a6-4c48-a214-22ac7fd6abac",
        "id": "HujQvPXpnh_z"
      },
      "outputs": [
        {
          "output_type": "stream",
          "name": "stdout",
          "text": [
            "RandomForest Regression model score using train set is:  0.997\n",
            "RandomForest Regression model score using train set is:  0.981\n"
          ]
        }
      ],
      "source": [
        "rf1 = RandomForestRegressor()\n",
        "rf1.fit(X1_train, y1_train)\n",
        "y_pred = rf1.predict(X1_test)\n",
        "train_score = rf1.score(X1_train, y1_train)\n",
        "test_score = rf1.score(X1_test, y1_test)\n",
        "\n",
        "print('RandomForest Regression model score using train set is: ', round(train_score, 3))\n",
        "print('RandomForest Regression model score using train set is: ',  round(test_score, 3))"
      ]
    },
    {
      "cell_type": "code",
      "execution_count": null,
      "metadata": {
        "colab": {
          "base_uri": "https://localhost:8080/"
        },
        "outputId": "d7710ae8-53f3-45f4-8dae-ea34b0f86984",
        "id": "GexlDJ1wniAh"
      },
      "outputs": [
        {
          "output_type": "execute_result",
          "data": {
            "text/plain": [
              "534.8947246259983"
            ]
          },
          "metadata": {},
          "execution_count": 153
        }
      ],
      "source": [
        "RMSE_rf = mean_squared_error(y1_test, y_pred, squared=False)\n",
        "RMSE_rf"
      ]
    },
    {
      "cell_type": "code",
      "execution_count": null,
      "metadata": {
        "id": "YuvxQ8KEnjE3"
      },
      "outputs": [],
      "source": [
        "feature_importances_rf = pd.DataFrame(rf.feature_importances_,\n",
        "                                        index = X1_train.columns,\n",
        "                                        columns = ['importance']).sort_values('importance', ascending=False)"
      ]
    },
    {
      "cell_type": "code",
      "execution_count": null,
      "metadata": {
        "id": "KXiY72rbnjE3"
      },
      "outputs": [],
      "source": [
        "feature_importances_rf['feature'] = feature_importances_rf.index"
      ]
    },
    {
      "cell_type": "code",
      "execution_count": null,
      "metadata": {
        "colab": {
          "base_uri": "https://localhost:8080/",
          "height": 430
        },
        "outputId": "d6a5e7fb-dcaf-424c-b1f9-053190e3fbdf",
        "id": "fPZfc0wEnjE3"
      },
      "outputs": [
        {
          "output_type": "display_data",
          "data": {
            "text/plain": [
              "<Figure size 640x480 with 1 Axes>"
            ],
            "image/png": "[encoded data removed]"
          },
          "metadata": {}
        }
      ],
      "source": [
        "fig, ax = plt.subplots()\n",
        "ax.barh(feature_importances_rf.feature[:10],\n",
        "        feature_importances_rf.importance[:10],\n",
        "        height=0.55, align=\"edge\",\n",
        "        color=\"#07a2a2\");\n",
        "plt.show()"
      ]
    },
    {
      "cell_type": "markdown",
      "source": [
        "data 2"
      ],
      "metadata": {
        "id": "J96dYu8Pny5M"
      }
    },
    {
      "cell_type": "code",
      "execution_count": null,
      "metadata": {
        "colab": {
          "base_uri": "https://localhost:8080/"
        },
        "outputId": "8610f695-2d84-4a88-9c7f-aa268699ca4d",
        "id": "W4cLqyu0njEM"
      },
      "outputs": [
        {
          "output_type": "stream",
          "name": "stdout",
          "text": [
            "RandomForest Regression model score using train set is:  0.997\n",
            "RandomForest Regression model score using train set is:  0.98\n"
          ]
        }
      ],
      "source": [
        "rf = RandomForestRegressor()\n",
        "rf.fit(X2_train, y2_train)\n",
        "y_pred = rf.predict(X2_test)\n",
        "train_score = rf.score(X2_train, y2_train)\n",
        "test_score = rf.score(X2_test, y2_test)\n",
        "\n",
        "print('RandomForest Regression model score using train set is: ', round(train_score, 3))\n",
        "print('RandomForest Regression model score using train set is: ',  round(test_score, 3))"
      ]
    },
    {
      "cell_type": "code",
      "execution_count": null,
      "metadata": {
        "colab": {
          "base_uri": "https://localhost:8080/"
        },
        "outputId": "b4ae8664-c19b-467a-f467-255caf46f1ac",
        "id": "ckYUD_WqnjE2"
      },
      "outputs": [
        {
          "output_type": "execute_result",
          "data": {
            "text/plain": [
              "341.3012168171897"
            ]
          },
          "metadata": {},
          "execution_count": 64
        }
      ],
      "source": [
        "RMSE_rf = mean_squared_error(y2_test, y_pred, squared=False)\n",
        "RMSE_rf"
      ]
    },
    {
      "cell_type": "markdown",
      "source": [
        "Data 3"
      ],
      "metadata": {
        "id": "t5OT-TfD2Uvr"
      }
    },
    {
      "cell_type": "code",
      "execution_count": null,
      "metadata": {
        "colab": {
          "base_uri": "https://localhost:8080/"
        },
        "outputId": "56440cc2-120b-40ef-9fc4-4881c5fc625c",
        "id": "WTYOaPVo2WDT"
      },
      "outputs": [
        {
          "output_type": "stream",
          "name": "stdout",
          "text": [
            "RandomForest Regression model score using train set is:  0.997\n",
            "RandomForest Regression model score using train set is:  0.982\n"
          ]
        }
      ],
      "source": [
        "rf = RandomForestRegressor()\n",
        "rf.fit(X_train, y_train)\n",
        "y_pred = rf.predict(X_test)\n",
        "train_score = rf.score(X_train, y_train)\n",
        "test_score = rf.score(X_test, y_test)\n",
        "\n",
        "print('RandomForest Regression model score using train set is: ', round(train_score, 3))\n",
        "print('RandomForest Regression model score using train set is: ',  round(test_score, 3))"
      ]
    },
    {
      "cell_type": "code",
      "execution_count": null,
      "metadata": {
        "colab": {
          "base_uri": "https://localhost:8080/"
        },
        "outputId": "959d09db-a93b-4c9b-e583-bd9d2f515a4a",
        "id": "-r1ukUzu2WDU"
      },
      "outputs": [
        {
          "output_type": "execute_result",
          "data": {
            "text/plain": [
              "536.3853889227627"
            ]
          },
          "metadata": {},
          "execution_count": 44
        }
      ],
      "source": [
        "RMSE_rf = mean_squared_error(y_test, y_pred, squared=False)\n",
        "RMSE_rf"
      ]
    },
    {
      "cell_type": "markdown",
      "metadata": {
        "id": "7QhizB_bZng7"
      },
      "source": [
        "## LightGBM"
      ]
    },
    {
      "cell_type": "markdown",
      "metadata": {
        "id": "g_TCtfb3Wz4d"
      },
      "source": [
        "LightGBM is a gradient boosting framework that uses tree-based learning algorithms. It is designed for efficiency, speed, and performance, making it a popular choice for machine learning tasks.\n",
        "\n",
        "Here are some key features of LightGBM:\n",
        "\n",
        "Gradient boosting framework that uses tree-based learning algorithms\n",
        "Fast and efficient due to its optimized algorithms and data structures\n",
        "Supports parallel and GPU learning\n",
        "Handles large datasets with ease\n",
        "Provides high accuracy and flexibility in model tuning"
      ]
    },
    {
      "cell_type": "markdown",
      "source": [
        "old data (with x,y,z and without size feature)"
      ],
      "metadata": {
        "id": "F49Uhr5NoIDf"
      }
    },
    {
      "cell_type": "code",
      "execution_count": null,
      "metadata": {
        "colab": {
          "base_uri": "https://localhost:8080/"
        },
        "id": "wRZD1IjhO5cR",
        "outputId": "2f56a45a-dbec-4521-9c4f-2357297e7ba8"
      },
      "outputs": [
        {
          "name": "stdout",
          "output_type": "stream",
          "text": [
            "[LightGBM] [Info] Total Bins 1158\n",
            "[LightGBM] [Info] Number of data points in the train set: 33632, number of used features: 15\n",
            "[LightGBM] [Info] Start training from score 3838.544095\n",
            "LGBM Regression model score using train set is:  0.986\n",
            "LGBM Regression model score using train set is:  0.98\n"
          ]
        }
      ],
      "source": [
        "lgbm = LGBMRegressor(force_col_wise=True)\n",
        "lgbm_model = lgbm.fit(X_train, y_train)\n",
        "y_pred = lgbm_model.predict(X_test)\n",
        "train_score = lgbm_model.score(X_train, y_train)\n",
        "test_score = lgbm_model.score(X_test, y_test)\n",
        "\n",
        "print('LGBM Regression model score using train set is: ', round(train_score, 3))\n",
        "print('LGBM Regression model score using train set is: ',  round(test_score, 3))"
      ]
    },
    {
      "cell_type": "code",
      "execution_count": null,
      "metadata": {
        "colab": {
          "base_uri": "https://localhost:8080/"
        },
        "id": "Aroy6-X_O5Xg",
        "outputId": "fd1979ba-9b06-4cc8-f613-dc2e74a5bf72"
      },
      "outputs": [
        {
          "data": {
            "text/plain": [
              "548.4250528187042"
            ]
          },
          "execution_count": 183,
          "metadata": {},
          "output_type": "execute_result"
        }
      ],
      "source": [
        "RMSE_lgbm = mean_squared_error(y_test, y_pred, squared=False)\n",
        "RMSE_lgbm"
      ]
    },
    {
      "cell_type": "code",
      "execution_count": null,
      "metadata": {
        "colab": {
          "base_uri": "https://localhost:8080/"
        },
        "id": "TzGia5b_g8rX",
        "outputId": "0e96d533-5719-41f3-9da2-c117a33ee891"
      },
      "outputs": [
        {
          "name": "stdout",
          "output_type": "stream",
          "text": [
            "test:  766  pred:  836 \n",
            "\n",
            "test:  573  pred:  626 \n",
            "\n",
            "test:  6315  pred:  5892 \n",
            "\n",
            "test:  5932  pred:  6625 \n",
            "\n",
            "test:  2013  pred:  2392 \n",
            "\n",
            "test:  581  pred:  569 \n",
            "\n",
            "test:  10078  pred:  9429 \n",
            "\n",
            "test:  6765  pred:  6943 \n",
            "\n",
            "test:  4836  pred:  4600 \n",
            "\n",
            "test:  772  pred:  786 \n",
            "\n",
            "test:  3646  pred:  3662 \n",
            "\n",
            "test:  7848  pred:  9775 \n",
            "\n",
            "test:  3422  pred:  3626 \n",
            "\n",
            "test:  666  pred:  599 \n",
            "\n",
            "test:  649  pred:  735 \n",
            "\n",
            "test:  7438  pred:  7567 \n",
            "\n",
            "test:  3114  pred:  3354 \n",
            "\n",
            "test:  1034  pred:  1186 \n",
            "\n",
            "test:  6659  pred:  6680 \n",
            "\n",
            "test:  10013  pred:  9499 \n",
            "\n",
            "test:  851  pred:  731 \n",
            "\n"
          ]
        }
      ],
      "source": [
        "i =0\n",
        "for x,y in zip(y_test, y_pred):\n",
        "  print('test: ', x, ' pred: ', int(y), '\\n')\n",
        "  i +=1\n",
        "  if i>20:\n",
        "    break"
      ]
    },
    {
      "cell_type": "code",
      "execution_count": null,
      "metadata": {
        "id": "vCGK_MJLO5UW"
      },
      "outputs": [],
      "source": [
        "feature_importances_lgbm = pd.DataFrame(lgbm_model.feature_importances_,\n",
        "                                        index = X_train.columns,\n",
        "                                        columns = ['importance']).sort_values('importance', ascending=False)\n"
      ]
    },
    {
      "cell_type": "code",
      "execution_count": null,
      "metadata": {
        "id": "jRDYKrxvPVmP"
      },
      "outputs": [],
      "source": [
        "feature_importances_lgbm['feature'] = feature_importances_lgbm.index"
      ]
    },
    {
      "cell_type": "code",
      "execution_count": null,
      "metadata": {
        "colab": {
          "base_uri": "https://localhost:8080/",
          "height": 430
        },
        "id": "-5ovvf82PVgw",
        "outputId": "52257bfe-5d82-437a-d5a4-7ac0cb2892f0"
      },
      "outputs": [
        {
          "data": {
            "image/png": "[encoded data removed]",
            "text/plain": [
              "<Figure size 640x480 with 1 Axes>"
            ]
          },
          "metadata": {},
          "output_type": "display_data"
        }
      ],
      "source": [
        "fig, ax = plt.subplots()\n",
        "ax.barh(feature_importances_lgbm.feature[:10],\n",
        "        feature_importances_lgbm.importance[:10],\n",
        "        height=0.55,\n",
        "        align=\"edge\",\n",
        "        color=\"#07a2a2\");\n",
        "plt.show()"
      ]
    },
    {
      "cell_type": "markdown",
      "source": [
        "data 1"
      ],
      "metadata": {
        "id": "TKvw3jAgoVfE"
      }
    },
    {
      "cell_type": "code",
      "execution_count": null,
      "metadata": {
        "colab": {
          "base_uri": "https://localhost:8080/"
        },
        "outputId": "d3458d5f-70e9-4896-8f68-458b3b544ceb",
        "id": "f70B1VnYoPn0"
      },
      "outputs": [
        {
          "output_type": "stream",
          "name": "stdout",
          "text": [
            "[LightGBM] [Info] Total Bins 650\n",
            "[LightGBM] [Info] Number of data points in the train set: 33632, number of used features: 13\n",
            "[LightGBM] [Info] Start training from score 3838.544095\n",
            "LGBM Regression model score using train set is:  0.985\n",
            "LGBM Regression model score using train set is:  0.981\n"
          ]
        }
      ],
      "source": [
        "lgbm = LGBMRegressor(force_col_wise=True)\n",
        "lgbm_model = lgbm.fit(X1_train, y1_train)\n",
        "y_pred = lgbm_model.predict(X1_test)\n",
        "train_score = lgbm_model.score(X1_train, y1_train)\n",
        "test_score = lgbm_model.score(X1_test, y1_test)\n",
        "\n",
        "print('LGBM Regression model score using train set is: ', round(train_score, 3))\n",
        "print('LGBM Regression model score using train set is: ',  round(test_score, 3))"
      ]
    },
    {
      "cell_type": "code",
      "execution_count": null,
      "metadata": {
        "colab": {
          "base_uri": "https://localhost:8080/"
        },
        "outputId": "0aa278fa-e356-492f-9220-70cd59a4e851",
        "id": "JyeeHfoHoPn2"
      },
      "outputs": [
        {
          "output_type": "execute_result",
          "data": {
            "text/plain": [
              "531.9158745489547"
            ]
          },
          "metadata": {},
          "execution_count": 69
        }
      ],
      "source": [
        "RMSE_lgbm = mean_squared_error(y1_test, y_pred, squared=False)\n",
        "RMSE_lgbm"
      ]
    },
    {
      "cell_type": "markdown",
      "source": [
        "data 2"
      ],
      "metadata": {
        "id": "93-olUFCoh6T"
      }
    },
    {
      "cell_type": "code",
      "execution_count": null,
      "metadata": {
        "colab": {
          "base_uri": "https://localhost:8080/"
        },
        "outputId": "ee22776f-07b2-482c-e2c1-595e0ec64dbc",
        "id": "nxQiKwQGoRP_"
      },
      "outputs": [
        {
          "output_type": "stream",
          "name": "stdout",
          "text": [
            "[LightGBM] [Info] Total Bins 561\n",
            "[LightGBM] [Info] Number of data points in the train set: 27682, number of used features: 13\n",
            "[LightGBM] [Info] Start training from score 2825.862040\n",
            "LGBM Regression model score using train set is:  0.985\n",
            "LGBM Regression model score using train set is:  0.982\n"
          ]
        }
      ],
      "source": [
        "lgbm = LGBMRegressor(force_col_wise=True)\n",
        "lgbm_model = lgbm.fit(X2_train, y2_train)\n",
        "y_pred = lgbm_model.predict(X2_test)\n",
        "train_score = lgbm_model.score(X2_train, y2_train)\n",
        "test_score = lgbm_model.score(X2_test, y2_test)\n",
        "\n",
        "print('LGBM Regression model score using train set is: ', round(train_score, 3))\n",
        "print('LGBM Regression model score using train set is: ',  round(test_score, 3))"
      ]
    },
    {
      "cell_type": "code",
      "execution_count": null,
      "metadata": {
        "colab": {
          "base_uri": "https://localhost:8080/"
        },
        "outputId": "6307ea6d-ef68-4bc7-c35d-26e951d30720",
        "id": "C-2FCzYToRQo"
      },
      "outputs": [
        {
          "output_type": "execute_result",
          "data": {
            "text/plain": [
              "324.8470705252258"
            ]
          },
          "metadata": {},
          "execution_count": 71
        }
      ],
      "source": [
        "RMSE_lgbm = mean_squared_error(y2_test, y_pred, squared=False)\n",
        "RMSE_lgbm"
      ]
    },
    {
      "cell_type": "code",
      "execution_count": null,
      "metadata": {
        "id": "lNYD7qVmoRQp"
      },
      "outputs": [],
      "source": [
        "feature_importances_lgbm = pd.DataFrame(lgbm_model.feature_importances_,\n",
        "                                        index = X2_train.columns,\n",
        "                                        columns = ['importance']).sort_values('importance', ascending=False)\n"
      ]
    },
    {
      "cell_type": "code",
      "execution_count": null,
      "metadata": {
        "id": "14qDFql5oRQp"
      },
      "outputs": [],
      "source": [
        "feature_importances_lgbm['feature'] = feature_importances_lgbm.index"
      ]
    },
    {
      "cell_type": "code",
      "execution_count": null,
      "metadata": {
        "colab": {
          "base_uri": "https://localhost:8080/",
          "height": 430
        },
        "outputId": "8d89dbbf-b5e9-4235-bbcb-ff88835cd9cc",
        "id": "qISq28_RoRQp"
      },
      "outputs": [
        {
          "output_type": "display_data",
          "data": {
            "text/plain": [
              "<Figure size 640x480 with 1 Axes>"
            ],
            "image/png": "[encoded data removed]"
          },
          "metadata": {}
        }
      ],
      "source": [
        "fig, ax = plt.subplots()\n",
        "ax.barh(feature_importances_lgbm.feature[:10],\n",
        "        feature_importances_lgbm.importance[:10],\n",
        "        height=0.55,\n",
        "        align=\"edge\",\n",
        "        color=\"#07a2a2\");\n",
        "plt.show()"
      ]
    },
    {
      "cell_type": "markdown",
      "source": [
        "Data 3"
      ],
      "metadata": {
        "id": "lS2LDTGA2mqN"
      }
    },
    {
      "cell_type": "code",
      "execution_count": null,
      "metadata": {
        "colab": {
          "base_uri": "https://localhost:8080/"
        },
        "outputId": "dd3d50cd-2c09-487c-d2b4-1c3808da5682",
        "id": "U7n9hyf12oR9"
      },
      "outputs": [
        {
          "output_type": "stream",
          "name": "stdout",
          "text": [
            "[LightGBM] [Info] Total Bins 1518\n",
            "[LightGBM] [Info] Number of data points in the train set: 34515, number of used features: 10\n",
            "[LightGBM] [Info] Start training from score 3935.219180\n",
            "LGBM Regression model score using train set is:  0.986\n",
            "LGBM Regression model score using train set is:  0.983\n"
          ]
        }
      ],
      "source": [
        "lgbm = LGBMRegressor(force_col_wise=True)\n",
        "lgbm_model = lgbm.fit(X_train, y_train)\n",
        "y_pred = lgbm_model.predict(X_test)\n",
        "train_score = lgbm_model.score(X_train, y_train)\n",
        "test_score = lgbm_model.score(X_test, y_test)\n",
        "\n",
        "print('LGBM Regression model score using train set is: ', round(train_score, 3))\n",
        "print('LGBM Regression model score using train set is: ',  round(test_score, 3))"
      ]
    },
    {
      "cell_type": "code",
      "execution_count": null,
      "metadata": {
        "colab": {
          "base_uri": "https://localhost:8080/"
        },
        "outputId": "36ce0926-ff2a-4b2f-fe57-c8e461ccb2e9",
        "id": "L2b54kyI2oSC"
      },
      "outputs": [
        {
          "output_type": "execute_result",
          "data": {
            "text/plain": [
              "522.8248662729359"
            ]
          },
          "metadata": {},
          "execution_count": 46
        }
      ],
      "source": [
        "RMSE_lgbm = mean_squared_error(y_test, y_pred, squared=False)\n",
        "RMSE_lgbm"
      ]
    },
    {
      "cell_type": "markdown",
      "metadata": {
        "id": "NYltAeNQsKfI"
      },
      "source": [
        "## XGBoost  regression model"
      ]
    },
    {
      "cell_type": "markdown",
      "metadata": {
        "id": "0bu2piZze0yF"
      },
      "source": [
        "XGBoost (eXtreme Gradient Boosting) is an open-source machine learning library that provides an efficient and scalable implementation of gradient boosting for classification and regression tasks. It is known for its speed and performance, and is widely used in data science competitions and industry applications."
      ]
    },
    {
      "cell_type": "markdown",
      "source": [
        "old data (with x,y,z and without size feature)"
      ],
      "metadata": {
        "id": "YoFHMn7Boytj"
      }
    },
    {
      "cell_type": "code",
      "execution_count": null,
      "metadata": {
        "colab": {
          "base_uri": "https://localhost:8080/"
        },
        "id": "MIuVv7g-vGOP",
        "outputId": "1ff3a3e5-5223-42e2-b6cb-eb02bd24aae4"
      },
      "outputs": [
        {
          "name": "stdout",
          "output_type": "stream",
          "text": [
            "XGBoost Regression model score using train set is:  0.991\n",
            "XGBoost Regression model score using train set is:  0.979\n"
          ]
        }
      ],
      "source": [
        "xgbm = XGBRegressor()\n",
        "xgbm.fit(X_train, y_train)\n",
        "y_pred = xgbm.predict(X_test)\n",
        "train_score = xgbm.score(X_train, y_train)\n",
        "test_score = xgbm.score(X_test, y_test)\n",
        "\n",
        "print('XGBoost Regression model score using train set is: ', round(train_score, 3))\n",
        "print('XGBoost Regression model score using train set is: ',  round(test_score, 3))"
      ]
    },
    {
      "cell_type": "code",
      "execution_count": null,
      "metadata": {
        "colab": {
          "base_uri": "https://localhost:8080/"
        },
        "id": "q-8xugUm4SEP",
        "outputId": "4dedffde-551b-49fa-b425-a4f73a79ec4f"
      },
      "outputs": [
        {
          "data": {
            "text/plain": [
              "562.6169456278172"
            ]
          },
          "execution_count": 26,
          "metadata": {},
          "output_type": "execute_result"
        }
      ],
      "source": [
        "RMSE_xgboost = mean_squared_error(y_test, y_pred, squared=False)\n",
        "RMSE_xgboost"
      ]
    },
    {
      "cell_type": "code",
      "execution_count": null,
      "metadata": {
        "id": "mA63MQl6wI6x"
      },
      "outputs": [],
      "source": [
        "feature_importances_xgbm = pd.DataFrame(xgbm.feature_importances_,\n",
        "                                        index = X_train.columns,\n",
        "                                        columns = ['importance']).sort_values('importance', ascending=False)"
      ]
    },
    {
      "cell_type": "code",
      "execution_count": null,
      "metadata": {
        "id": "UEyu67V-E8CD"
      },
      "outputs": [],
      "source": [
        "feature_importances_xgbm['feature'] = feature_importances_lgbm.index\n",
        "feature_importances_xgbm"
      ]
    },
    {
      "cell_type": "code",
      "execution_count": null,
      "metadata": {
        "colab": {
          "base_uri": "https://localhost:8080/",
          "height": 430
        },
        "id": "RIko4rpztWnX",
        "outputId": "224d43b1-c3a3-4a9f-e7da-95cc28f7eb27"
      },
      "outputs": [
        {
          "data": {
            "image/png": "[encoded data removed]",
            "text/plain": [
              "<Figure size 640x480 with 1 Axes>"
            ]
          },
          "metadata": {},
          "output_type": "display_data"
        }
      ],
      "source": [
        "fig, ax = plt.subplots()\n",
        "ax.barh(feature_importances_xgbm.feature[:10],\n",
        "        feature_importances_xgbm.importance[:10],\n",
        "        height=0.55,\n",
        "        align=\"edge\",\n",
        "        color=\"#07a2a2\");\n",
        "plt.show()"
      ]
    },
    {
      "cell_type": "markdown",
      "source": [
        "data 1"
      ],
      "metadata": {
        "id": "UuQ0Udoco7iL"
      }
    },
    {
      "cell_type": "code",
      "execution_count": null,
      "metadata": {
        "colab": {
          "base_uri": "https://localhost:8080/"
        },
        "outputId": "03c57868-7e8a-4586-ede4-1aae621d0aa0",
        "id": "v59-lnkZo4su"
      },
      "outputs": [
        {
          "output_type": "stream",
          "name": "stdout",
          "text": [
            "XGBoost Regression model score using train set is:  0.99\n",
            "XGBoost Regression model score using train set is:  0.981\n"
          ]
        }
      ],
      "source": [
        "xgbm = XGBRegressor()\n",
        "xgbm.fit(X1_train, y1_train)\n",
        "y_pred = xgbm.predict(X1_test)\n",
        "train_score = xgbm.score(X1_train, y1_train)\n",
        "test_score = xgbm.score(X1_test, y1_test)\n",
        "\n",
        "print('XGBoost Regression model score using train set is: ', round(train_score, 3))\n",
        "print('XGBoost Regression model score using train set is: ',  round(test_score, 3))"
      ]
    },
    {
      "cell_type": "code",
      "execution_count": null,
      "metadata": {
        "colab": {
          "base_uri": "https://localhost:8080/"
        },
        "outputId": "022baa1e-40b2-4e0d-8f91-68a3559edf13",
        "id": "ppzWHs_yo4ta"
      },
      "outputs": [
        {
          "output_type": "execute_result",
          "data": {
            "text/plain": [
              "530.6920528903577"
            ]
          },
          "metadata": {},
          "execution_count": 76
        }
      ],
      "source": [
        "RMSE_xgboost = mean_squared_error(y1_test, y_pred, squared=False)\n",
        "RMSE_xgboost"
      ]
    },
    {
      "cell_type": "markdown",
      "source": [
        "data 2"
      ],
      "metadata": {
        "id": "Y4tKuAwGpDpc"
      }
    },
    {
      "cell_type": "code",
      "execution_count": null,
      "metadata": {
        "colab": {
          "base_uri": "https://localhost:8080/"
        },
        "outputId": "c3d772a8-65f8-4742-e90a-3590a056697d",
        "id": "K3roUEKyo5ZT"
      },
      "outputs": [
        {
          "output_type": "stream",
          "name": "stdout",
          "text": [
            "XGBoost Regression model score using train set is:  0.99\n",
            "XGBoost Regression model score using train set is:  0.981\n"
          ]
        }
      ],
      "source": [
        "xgbm = XGBRegressor()\n",
        "xgbm.fit(X2_train, y2_train)\n",
        "y_pred = xgbm.predict(X2_test)\n",
        "train_score = xgbm.score(X2_train, y2_train)\n",
        "test_score = xgbm.score(X2_test, y2_test)\n",
        "\n",
        "print('XGBoost Regression model score using train set is: ', round(train_score, 3))\n",
        "print('XGBoost Regression model score using train set is: ',  round(test_score, 3))"
      ]
    },
    {
      "cell_type": "code",
      "execution_count": null,
      "metadata": {
        "colab": {
          "base_uri": "https://localhost:8080/"
        },
        "outputId": "adb75222-9640-42a9-e61b-67fda4a4e068",
        "id": "zSs1TKNmo5ZU"
      },
      "outputs": [
        {
          "output_type": "execute_result",
          "data": {
            "text/plain": [
              "327.014706909031"
            ]
          },
          "metadata": {},
          "execution_count": 78
        }
      ],
      "source": [
        "RMSE_xgboost = mean_squared_error(y2_test, y_pred, squared=False)\n",
        "RMSE_xgboost"
      ]
    },
    {
      "cell_type": "code",
      "execution_count": null,
      "metadata": {
        "id": "0oyw-Nqdo5ZW"
      },
      "outputs": [],
      "source": [
        "feature_importances_xgbm = pd.DataFrame(xgbm.feature_importances_,\n",
        "                                        index = X2_train.columns,\n",
        "                                        columns = ['importance']).sort_values('importance', ascending=False)"
      ]
    },
    {
      "cell_type": "code",
      "execution_count": null,
      "metadata": {
        "colab": {
          "base_uri": "https://localhost:8080/",
          "height": 457
        },
        "id": "kBN0WdVko5ZX",
        "outputId": "66d91b19-18e5-483b-a008-951451a38199"
      },
      "outputs": [
        {
          "output_type": "execute_result",
          "data": {
            "text/plain": [
              "         importance  feature\n",
              "carat      0.482477  clarity\n",
              "size       0.220909    carat\n",
              "clarity    0.080100     size\n",
              "J          0.074291    depth\n",
              "E          0.050804        J\n",
              "I          0.023787      cut\n",
              "D          0.022911    table\n",
              "G          0.019922        E\n",
              "F          0.013381        I\n",
              "H          0.003837        D\n",
              "cut        0.003693        G\n",
              "depth      0.002247        H\n",
              "table      0.001641        F"
            ],
            "text/html": [
              "\n",
              "  <div id=\"df-1e1c44e7-0801-4d28-b490-7fe92a0780f8\" class=\"colab-df-container\">\n",
              "    <div>\n",
              "<style scoped>\n",
              "    .dataframe tbody tr th:only-of-type {\n",
              "        vertical-align: middle;\n",
              "    }\n",
              "\n",
              "    .dataframe tbody tr th {\n",
              "        vertical-align: top;\n",
              "    }\n",
              "\n",
              "    .dataframe thead th {\n",
              "        text-align: right;\n",
              "    }\n",
              "</style>\n",
              "<table border=\"1\" class=\"dataframe\">\n",
              "  <thead>\n",
              "    <tr style=\"text-align: right;\">\n",
              "      <th></th>\n",
              "      <th>importance</th>\n",
              "      <th>feature</th>\n",
              "    </tr>\n",
              "  </thead>\n",
              "  <tbody>\n",
              "    <tr>\n",
              "      <th>carat</th>\n",
              "      <td>0.482477</td>\n",
              "      <td>clarity</td>\n",
              "    </tr>\n",
              "    <tr>\n",
              "      <th>size</th>\n",
              "      <td>0.220909</td>\n",
              "      <td>carat</td>\n",
              "    </tr>\n",
              "    <tr>\n",
              "      <th>clarity</th>\n",
              "      <td>0.080100</td>\n",
              "      <td>size</td>\n",
              "    </tr>\n",
              "    <tr>\n",
              "      <th>J</th>\n",
              "      <td>0.074291</td>\n",
              "      <td>depth</td>\n",
              "    </tr>\n",
              "    <tr>\n",
              "      <th>E</th>\n",
              "      <td>0.050804</td>\n",
              "      <td>J</td>\n",
              "    </tr>\n",
              "    <tr>\n",
              "      <th>I</th>\n",
              "      <td>0.023787</td>\n",
              "      <td>cut</td>\n",
              "    </tr>\n",
              "    <tr>\n",
              "      <th>D</th>\n",
              "      <td>0.022911</td>\n",
              "      <td>table</td>\n",
              "    </tr>\n",
              "    <tr>\n",
              "      <th>G</th>\n",
              "      <td>0.019922</td>\n",
              "      <td>E</td>\n",
              "    </tr>\n",
              "    <tr>\n",
              "      <th>F</th>\n",
              "      <td>0.013381</td>\n",
              "      <td>I</td>\n",
              "    </tr>\n",
              "    <tr>\n",
              "      <th>H</th>\n",
              "      <td>0.003837</td>\n",
              "      <td>D</td>\n",
              "    </tr>\n",
              "    <tr>\n",
              "      <th>cut</th>\n",
              "      <td>0.003693</td>\n",
              "      <td>G</td>\n",
              "    </tr>\n",
              "    <tr>\n",
              "      <th>depth</th>\n",
              "      <td>0.002247</td>\n",
              "      <td>H</td>\n",
              "    </tr>\n",
              "    <tr>\n",
              "      <th>table</th>\n",
              "      <td>0.001641</td>\n",
              "      <td>F</td>\n",
              "    </tr>\n",
              "  </tbody>\n",
              "</table>\n",
              "</div>\n",
              "    <div class=\"colab-df-buttons\">\n",
              "\n",
              "  <div class=\"colab-df-container\">\n",
              "    <button class=\"colab-df-convert\" onclick=\"convertToInteractive('df-1e1c44e7-0801-4d28-b490-7fe92a0780f8')\"\n",
              "            title=\"Convert this dataframe to an interactive table.\"\n",
              "            style=\"display:none;\">\n",
              "\n",
              "  <svg xmlns=\"http://www.w3.org/2000/svg\" height=\"24px\" viewBox=\"0 -960 960 960\">\n",
              "    <path d=\"M120-120v-720h720v720H120Zm60-500h600v-160H180v160Zm220 220h160v-160H400v160Zm0 220h160v-160H400v160ZM180-400h160v-160H180v160Zm440 0h160v-160H620v160ZM180-180h160v-160H180v160Zm440 0h160v-160H620v160Z\"/>\n",
              "  </svg>\n",
              "    </button>\n",
              "\n",
              "  <style>\n",
              "    .colab-df-container {\n",
              "      display:flex;\n",
              "      gap: 12px;\n",
              "    }\n",
              "\n",
              "    .colab-df-convert {\n",
              "      background-color: #E8F0FE;\n",
              "      border: none;\n",
              "      border-radius: 50%;\n",
              "      cursor: pointer;\n",
              "      display: none;\n",
              "      fill: #1967D2;\n",
              "      height: 32px;\n",
              "      padding: 0 0 0 0;\n",
              "      width: 32px;\n",
              "    }\n",
              "\n",
              "    .colab-df-convert:hover {\n",
              "      background-color: #E2EBFA;\n",
              "      box-shadow: 0px 1px 2px rgba(60, 64, 67, 0.3), 0px 1px 3px 1px rgba(60, 64, 67, 0.15);\n",
              "      fill: #174EA6;\n",
              "    }\n",
              "\n",
              "    .colab-df-buttons div {\n",
              "      margin-bottom: 4px;\n",
              "    }\n",
              "\n",
              "    [theme=dark] .colab-df-convert {\n",
              "      background-color: #3B4455;\n",
              "      fill: #D2E3FC;\n",
              "    }\n",
              "\n",
              "    [theme=dark] .colab-df-convert:hover {\n",
              "      background-color: #434B5C;\n",
              "      box-shadow: 0px 1px 3px 1px rgba(0, 0, 0, 0.15);\n",
              "      filter: drop-shadow(0px 1px 2px rgba(0, 0, 0, 0.3));\n",
              "      fill: #FFFFFF;\n",
              "    }\n",
              "  </style>\n",
              "\n",
              "    <script>\n",
              "      const buttonEl =\n",
              "        document.querySelector('#df-1e1c44e7-0801-4d28-b490-7fe92a0780f8 button.colab-df-convert');\n",
              "      buttonEl.style.display =\n",
              "        google.colab.kernel.accessAllowed ? 'block' : 'none';\n",
              "\n",
              "      async function convertToInteractive(key) {\n",
              "        const element = document.querySelector('#df-1e1c44e7-0801-4d28-b490-7fe92a0780f8');\n",
              "        const dataTable =\n",
              "          await google.colab.kernel.invokeFunction('convertToInteractive',\n",
              "                                                    [key], {});\n",
              "        if (!dataTable) return;\n",
              "\n",
              "        const docLinkHtml = 'Like what you see? Visit the ' +\n",
              "          '<a target=\"_blank\" href=https://colab.research.google.com/notebooks/data_table.ipynb>data table notebook</a>'\n",
              "          + ' to learn more about interactive tables.';\n",
              "        element.innerHTML = '';\n",
              "        dataTable['output_type'] = 'display_data';\n",
              "        await google.colab.output.renderOutput(dataTable, element);\n",
              "        const docLink = document.createElement('div');\n",
              "        docLink.innerHTML = docLinkHtml;\n",
              "        element.appendChild(docLink);\n",
              "      }\n",
              "    </script>\n",
              "  </div>\n",
              "\n",
              "\n",
              "<div id=\"df-760fcd19-27a9-4775-9cb2-c906256c6cef\">\n",
              "  <button class=\"colab-df-quickchart\" onclick=\"quickchart('df-760fcd19-27a9-4775-9cb2-c906256c6cef')\"\n",
              "            title=\"Suggest charts\"\n",
              "            style=\"display:none;\">\n",
              "\n",
              "<svg xmlns=\"http://www.w3.org/2000/svg\" height=\"24px\"viewBox=\"0 0 24 24\"\n",
              "     width=\"24px\">\n",
              "    <g>\n",
              "        <path d=\"M19 3H5c-1.1 0-2 .9-2 2v14c0 1.1.9 2 2 2h14c1.1 0 2-.9 2-2V5c0-1.1-.9-2-2-2zM9 17H7v-7h2v7zm4 0h-2V7h2v10zm4 0h-2v-4h2v4z\"/>\n",
              "    </g>\n",
              "</svg>\n",
              "  </button>\n",
              "\n",
              "<style>\n",
              "  .colab-df-quickchart {\n",
              "      --bg-color: #E8F0FE;\n",
              "      --fill-color: #1967D2;\n",
              "      --hover-bg-color: #E2EBFA;\n",
              "      --hover-fill-color: #174EA6;\n",
              "      --disabled-fill-color: #AAA;\n",
              "      --disabled-bg-color: #DDD;\n",
              "  }\n",
              "\n",
              "  [theme=dark] .colab-df-quickchart {\n",
              "      --bg-color: #3B4455;\n",
              "      --fill-color: #D2E3FC;\n",
              "      --hover-bg-color: #434B5C;\n",
              "      --hover-fill-color: #FFFFFF;\n",
              "      --disabled-bg-color: #3B4455;\n",
              "      --disabled-fill-color: #666;\n",
              "  }\n",
              "\n",
              "  .colab-df-quickchart {\n",
              "    background-color: var(--bg-color);\n",
              "    border: none;\n",
              "    border-radius: 50%;\n",
              "    cursor: pointer;\n",
              "    display: none;\n",
              "    fill: var(--fill-color);\n",
              "    height: 32px;\n",
              "    padding: 0;\n",
              "    width: 32px;\n",
              "  }\n",
              "\n",
              "  .colab-df-quickchart:hover {\n",
              "    background-color: var(--hover-bg-color);\n",
              "    box-shadow: 0 1px 2px rgba(60, 64, 67, 0.3), 0 1px 3px 1px rgba(60, 64, 67, 0.15);\n",
              "    fill: var(--button-hover-fill-color);\n",
              "  }\n",
              "\n",
              "  .colab-df-quickchart-complete:disabled,\n",
              "  .colab-df-quickchart-complete:disabled:hover {\n",
              "    background-color: var(--disabled-bg-color);\n",
              "    fill: var(--disabled-fill-color);\n",
              "    box-shadow: none;\n",
              "  }\n",
              "\n",
              "  .colab-df-spinner {\n",
              "    border: 2px solid var(--fill-color);\n",
              "    border-color: transparent;\n",
              "    border-bottom-color: var(--fill-color);\n",
              "    animation:\n",
              "      spin 1s steps(1) infinite;\n",
              "  }\n",
              "\n",
              "  @keyframes spin {\n",
              "    0% {\n",
              "      border-color: transparent;\n",
              "      border-bottom-color: var(--fill-color);\n",
              "      border-left-color: var(--fill-color);\n",
              "    }\n",
              "    20% {\n",
              "      border-color: transparent;\n",
              "      border-left-color: var(--fill-color);\n",
              "      border-top-color: var(--fill-color);\n",
              "    }\n",
              "    30% {\n",
              "      border-color: transparent;\n",
              "      border-left-color: var(--fill-color);\n",
              "      border-top-color: var(--fill-color);\n",
              "      border-right-color: var(--fill-color);\n",
              "    }\n",
              "    40% {\n",
              "      border-color: transparent;\n",
              "      border-right-color: var(--fill-color);\n",
              "      border-top-color: var(--fill-color);\n",
              "    }\n",
              "    60% {\n",
              "      border-color: transparent;\n",
              "      border-right-color: var(--fill-color);\n",
              "    }\n",
              "    80% {\n",
              "      border-color: transparent;\n",
              "      border-right-color: var(--fill-color);\n",
              "      border-bottom-color: var(--fill-color);\n",
              "    }\n",
              "    90% {\n",
              "      border-color: transparent;\n",
              "      border-bottom-color: var(--fill-color);\n",
              "    }\n",
              "  }\n",
              "</style>\n",
              "\n",
              "  <script>\n",
              "    async function quickchart(key) {\n",
              "      const quickchartButtonEl =\n",
              "        document.querySelector('#' + key + ' button');\n",
              "      quickchartButtonEl.disabled = true;  // To prevent multiple clicks.\n",
              "      quickchartButtonEl.classList.add('colab-df-spinner');\n",
              "      try {\n",
              "        const charts = await google.colab.kernel.invokeFunction(\n",
              "            'suggestCharts', [key], {});\n",
              "      } catch (error) {\n",
              "        console.error('Error during call to suggestCharts:', error);\n",
              "      }\n",
              "      quickchartButtonEl.classList.remove('colab-df-spinner');\n",
              "      quickchartButtonEl.classList.add('colab-df-quickchart-complete');\n",
              "    }\n",
              "    (() => {\n",
              "      let quickchartButtonEl =\n",
              "        document.querySelector('#df-760fcd19-27a9-4775-9cb2-c906256c6cef button');\n",
              "      quickchartButtonEl.style.display =\n",
              "        google.colab.kernel.accessAllowed ? 'block' : 'none';\n",
              "    })();\n",
              "  </script>\n",
              "</div>\n",
              "    </div>\n",
              "  </div>\n"
            ],
            "application/vnd.google.colaboratory.intrinsic+json": {
              "type": "dataframe",
              "variable_name": "feature_importances_xgbm",
              "summary": "{\n  \"name\": \"feature_importances_xgbm\",\n  \"rows\": 13,\n  \"fields\": [\n    {\n      \"column\": \"importance\",\n      \"properties\": {\n        \"dtype\": \"float32\",\n        \"num_unique_values\": 13,\n        \"samples\": [\n          0.002247053664177656,\n          0.0038374660070985556,\n          0.48247650265693665\n        ],\n        \"semantic_type\": \"\",\n        \"description\": \"\"\n      }\n    },\n    {\n      \"column\": \"feature\",\n      \"properties\": {\n        \"dtype\": \"string\",\n        \"num_unique_values\": 13,\n        \"samples\": [\n          \"H\",\n          \"D\",\n          \"clarity\"\n        ],\n        \"semantic_type\": \"\",\n        \"description\": \"\"\n      }\n    }\n  ]\n}"
            }
          },
          "metadata": {},
          "execution_count": 80
        }
      ],
      "source": [
        "feature_importances_xgbm['feature'] = feature_importances_lgbm.index\n",
        "feature_importances_xgbm"
      ]
    },
    {
      "cell_type": "code",
      "execution_count": null,
      "metadata": {
        "colab": {
          "base_uri": "https://localhost:8080/",
          "height": 430
        },
        "outputId": "72211243-014a-46ea-d21a-23719e10e31c",
        "id": "QjQBa43Oo5ZY"
      },
      "outputs": [
        {
          "output_type": "display_data",
          "data": {
            "text/plain": [
              "<Figure size 640x480 with 1 Axes>"
            ],
            "image/png": "[encoded data removed]"
          },
          "metadata": {}
        }
      ],
      "source": [
        "fig, ax = plt.subplots()\n",
        "ax.barh(feature_importances_xgbm.feature[:10],\n",
        "        feature_importances_xgbm.importance[:10],\n",
        "        height=0.55,\n",
        "        align=\"edge\",\n",
        "        color=\"#07a2a2\");\n",
        "plt.show()"
      ]
    },
    {
      "cell_type": "markdown",
      "source": [
        "Data 3"
      ],
      "metadata": {
        "id": "4wp8a6gR2xu9"
      }
    },
    {
      "cell_type": "code",
      "execution_count": null,
      "metadata": {
        "colab": {
          "base_uri": "https://localhost:8080/"
        },
        "outputId": "a8bea1d1-6a86-45d8-bf90-c8d4293af7b5",
        "id": "eWX3S8wN2zRT"
      },
      "outputs": [
        {
          "output_type": "stream",
          "name": "stdout",
          "text": [
            "XGBoost Regression model score using train set is:  0.991\n",
            "XGBoost Regression model score using train set is:  0.982\n"
          ]
        }
      ],
      "source": [
        "xgbm = XGBRegressor()\n",
        "xgbm.fit(X_train, y_train)\n",
        "y_pred = xgbm.predict(X_test)\n",
        "train_score = xgbm.score(X_train, y_train)\n",
        "test_score = xgbm.score(X_test, y_test)\n",
        "\n",
        "print('XGBoost Regression model score using train set is: ', round(train_score, 3))\n",
        "print('XGBoost Regression model score using train set is: ',  round(test_score, 3))"
      ]
    },
    {
      "cell_type": "code",
      "execution_count": null,
      "metadata": {
        "colab": {
          "base_uri": "https://localhost:8080/"
        },
        "outputId": "74a9f9fa-68b9-4432-a3e2-dcee6a73f977",
        "id": "u9xtSjp12zRW"
      },
      "outputs": [
        {
          "output_type": "execute_result",
          "data": {
            "text/plain": [
              "541.0526493275119"
            ]
          },
          "metadata": {},
          "execution_count": 48
        }
      ],
      "source": [
        "RMSE_xgboost = mean_squared_error(y_test, y_pred, squared=False)\n",
        "RMSE_xgboost"
      ]
    },
    {
      "cell_type": "markdown",
      "metadata": {
        "id": "15snaFFOZUpQ"
      },
      "source": [
        "## MLP"
      ]
    },
    {
      "cell_type": "markdown",
      "source": [
        "old data (with x,y,z and without size feature)"
      ],
      "metadata": {
        "id": "MlrllvR_rQ9A"
      }
    },
    {
      "cell_type": "code",
      "execution_count": null,
      "metadata": {
        "colab": {
          "base_uri": "https://localhost:8080/"
        },
        "id": "oUZRN0onZexB",
        "outputId": "c0ac84a1-6913-43e1-ded5-bc46857a0540"
      },
      "outputs": [
        {
          "name": "stdout",
          "output_type": "stream",
          "text": [
            "Iteration 1, loss = 14395582.79129523\n",
            "Iteration 2, loss = 9085910.06992257\n",
            "Iteration 3, loss = 5347590.96341910\n",
            "Iteration 4, loss = 4619616.20577776\n",
            "Iteration 5, loss = 3799796.46702817\n",
            "Iteration 6, loss = 2897773.12830684\n",
            "Iteration 7, loss = 2091247.51624699\n",
            "Iteration 8, loss = 1580209.03998868\n",
            "Iteration 9, loss = 1313821.80369459\n",
            "Iteration 10, loss = 1146051.59529683\n",
            "Iteration 11, loss = 1026376.55013590\n",
            "Iteration 12, loss = 937591.43491110\n",
            "Iteration 13, loss = 870948.74335334\n",
            "Iteration 14, loss = 820582.16061655\n",
            "Iteration 15, loss = 781671.76169054\n",
            "Iteration 16, loss = 749638.43074423\n",
            "Iteration 17, loss = 723784.01965768\n",
            "Iteration 18, loss = 701141.98086670\n",
            "Iteration 19, loss = 682012.75625936\n",
            "Iteration 20, loss = 665857.41117048\n",
            "Iteration 21, loss = 650226.79943933\n",
            "Iteration 22, loss = 635374.50736551\n",
            "Iteration 23, loss = 620227.75833575\n",
            "Iteration 24, loss = 605629.10408003\n",
            "Iteration 25, loss = 589663.72239240\n",
            "Iteration 26, loss = 571077.60572502\n",
            "Iteration 27, loss = 555871.19233754\n",
            "Iteration 28, loss = 541804.85981161\n",
            "Iteration 29, loss = 531425.83541780\n",
            "Iteration 30, loss = 522744.50474267\n",
            "Iteration 31, loss = 516536.95199183\n",
            "Iteration 32, loss = 511668.73388601\n",
            "Iteration 33, loss = 507089.65346052\n",
            "Iteration 34, loss = 504599.08167425\n",
            "Iteration 35, loss = 500603.87974584\n",
            "Iteration 36, loss = 498511.94963318\n",
            "Iteration 37, loss = 496613.57290474\n",
            "Iteration 38, loss = 494347.65195640\n",
            "Iteration 39, loss = 492212.35214615\n",
            "Iteration 40, loss = 489958.22866739\n",
            "Iteration 41, loss = 488189.86817215\n",
            "Iteration 42, loss = 487854.64005929\n",
            "Iteration 43, loss = 485811.29400959\n",
            "Iteration 44, loss = 484940.72049305\n",
            "Iteration 45, loss = 483831.99612052\n",
            "Iteration 46, loss = 482609.47213148\n",
            "Iteration 47, loss = 481752.80660287\n",
            "Iteration 48, loss = 481273.63782427\n",
            "Iteration 49, loss = 479567.24366249\n",
            "Iteration 50, loss = 478836.82483853\n",
            "Iteration 51, loss = 478381.63440317\n",
            "Iteration 52, loss = 477744.84038563\n",
            "Iteration 53, loss = 476494.59896592\n",
            "Iteration 54, loss = 476181.03073667\n",
            "Iteration 55, loss = 475599.59148376\n",
            "Iteration 56, loss = 474713.77267722\n",
            "Iteration 57, loss = 474506.53741942\n",
            "Iteration 58, loss = 473746.13917777\n",
            "Iteration 59, loss = 473702.08387664\n",
            "Iteration 60, loss = 472593.42812745\n",
            "Iteration 61, loss = 471920.94739246\n",
            "Iteration 62, loss = 472231.61730994\n",
            "Iteration 63, loss = 471001.04876201\n",
            "Iteration 64, loss = 470891.82709649\n",
            "Iteration 65, loss = 470664.82506236\n",
            "Iteration 66, loss = 470246.14463197\n",
            "Iteration 67, loss = 469411.28428491\n",
            "Iteration 68, loss = 469511.03973835\n",
            "Iteration 69, loss = 468873.57517115\n",
            "Iteration 70, loss = 468171.67297971\n",
            "Iteration 71, loss = 467990.83175848\n",
            "Iteration 72, loss = 467665.04708076\n",
            "Iteration 73, loss = 467305.75063676\n",
            "Iteration 74, loss = 466886.52166901\n",
            "Iteration 75, loss = 467413.18154293\n",
            "Iteration 76, loss = 466130.99686178\n",
            "Iteration 77, loss = 466299.07744112\n",
            "Iteration 78, loss = 466129.54859025\n",
            "Iteration 79, loss = 465037.42252214\n",
            "Iteration 80, loss = 464570.61096690\n",
            "Iteration 81, loss = 464396.38581298\n",
            "Iteration 82, loss = 464380.37557938\n",
            "Iteration 83, loss = 464140.59418489\n",
            "Iteration 84, loss = 462970.54309452\n",
            "Iteration 85, loss = 463100.58246712\n",
            "Iteration 86, loss = 463029.32848691\n",
            "Iteration 87, loss = 461457.17205008\n",
            "Iteration 88, loss = 462843.51496141\n",
            "Iteration 89, loss = 461740.30581294\n",
            "Iteration 90, loss = 461533.28007690\n",
            "Iteration 91, loss = 461268.39146454\n",
            "Iteration 92, loss = 460821.55248300\n",
            "Iteration 93, loss = 460946.86988637\n",
            "Iteration 94, loss = 461027.73844616\n",
            "Iteration 95, loss = 459984.76313622\n",
            "Iteration 96, loss = 459570.03690606\n",
            "Iteration 97, loss = 459051.83914368\n",
            "Iteration 98, loss = 459209.92244293\n",
            "Iteration 99, loss = 459235.65506136\n",
            "Iteration 100, loss = 458477.36853328\n",
            "Iteration 101, loss = 458019.57837478\n",
            "Iteration 102, loss = 458310.80992450\n",
            "Iteration 103, loss = 457688.05949750\n",
            "Iteration 104, loss = 457197.48931642\n",
            "Iteration 105, loss = 457042.24096818\n",
            "Iteration 106, loss = 456623.43242911\n",
            "Iteration 107, loss = 455976.48282213\n",
            "Iteration 108, loss = 456229.95833556\n",
            "Iteration 109, loss = 455363.38477679\n",
            "Iteration 110, loss = 455724.61793334\n",
            "Iteration 111, loss = 454746.39081961\n",
            "Iteration 112, loss = 454300.70686366\n",
            "Iteration 113, loss = 454034.80830537\n",
            "Iteration 114, loss = 454601.80338306\n",
            "Iteration 115, loss = 453932.84906082\n",
            "Iteration 116, loss = 453908.31270761\n",
            "Iteration 117, loss = 454171.44772041\n",
            "Iteration 118, loss = 453204.97255169\n",
            "Iteration 119, loss = 453154.64013584\n",
            "Iteration 120, loss = 452628.33245860\n",
            "Iteration 121, loss = 452271.70053362\n",
            "Iteration 122, loss = 452591.51735525\n",
            "Iteration 123, loss = 451858.40617680\n",
            "Iteration 124, loss = 451567.67757883\n",
            "Iteration 125, loss = 451589.54629856\n",
            "Iteration 126, loss = 451628.24114259\n",
            "Iteration 127, loss = 451274.58876061\n",
            "Iteration 128, loss = 451141.51008789\n",
            "Iteration 129, loss = 450778.74037033\n",
            "Iteration 130, loss = 451222.71673305\n",
            "Iteration 131, loss = 450832.62540334\n",
            "Iteration 132, loss = 450406.15332637\n",
            "Iteration 133, loss = 449897.33757216\n",
            "Iteration 134, loss = 450120.37732011\n",
            "Iteration 135, loss = 449997.96588748\n",
            "Iteration 136, loss = 449471.78104632\n",
            "Iteration 137, loss = 449916.06736613\n",
            "Iteration 138, loss = 449195.07004178\n",
            "Iteration 139, loss = 449649.89213102\n",
            "Iteration 140, loss = 448767.46238416\n",
            "Iteration 141, loss = 449133.36085184\n",
            "Iteration 142, loss = 448228.58446739\n",
            "Iteration 143, loss = 447701.09051428\n",
            "Iteration 144, loss = 447645.72274655\n",
            "Iteration 145, loss = 447199.90878462\n",
            "Iteration 146, loss = 447294.73938238\n",
            "Iteration 147, loss = 446889.93557929\n",
            "Iteration 148, loss = 447061.86021417\n",
            "Iteration 149, loss = 445764.64942610\n",
            "Iteration 150, loss = 445568.77893780\n",
            "Iteration 151, loss = 445241.06914245\n",
            "Iteration 152, loss = 445127.58505258\n",
            "Iteration 153, loss = 444423.00951028\n",
            "Iteration 154, loss = 444602.28670942\n",
            "Iteration 155, loss = 443990.99907130\n",
            "Iteration 156, loss = 444113.64601006\n",
            "Iteration 157, loss = 443658.78717051\n",
            "Iteration 158, loss = 442989.82154468\n",
            "Iteration 159, loss = 442994.91908101\n",
            "Iteration 160, loss = 442316.91246355\n",
            "Iteration 161, loss = 442179.47969295\n",
            "Iteration 162, loss = 442030.20702439\n",
            "Iteration 163, loss = 441849.65987622\n",
            "Iteration 164, loss = 441105.31229497\n",
            "Iteration 165, loss = 440727.97890656\n",
            "Iteration 166, loss = 440565.26116685\n",
            "Iteration 167, loss = 439964.28994365\n",
            "Iteration 168, loss = 440349.90582850\n",
            "Iteration 169, loss = 439993.78752448\n",
            "Iteration 170, loss = 438844.97381418\n",
            "Iteration 171, loss = 439221.81162473\n",
            "Iteration 172, loss = 438770.06161795\n",
            "Iteration 173, loss = 438445.92424231\n",
            "Iteration 174, loss = 438370.87833010\n",
            "Iteration 175, loss = 438007.63779876\n",
            "Iteration 176, loss = 437557.01479393\n",
            "Iteration 177, loss = 437282.48690373\n",
            "Iteration 178, loss = 436741.26214899\n",
            "Iteration 179, loss = 436866.29474053\n",
            "Iteration 180, loss = 437367.78819323\n",
            "Iteration 181, loss = 436933.27728758\n",
            "Iteration 182, loss = 436033.19283653\n",
            "Iteration 183, loss = 435707.83811540\n",
            "Iteration 184, loss = 435634.38270206\n",
            "Iteration 185, loss = 435062.78833012\n",
            "Iteration 186, loss = 434921.49312101\n",
            "Iteration 187, loss = 434836.26663171\n",
            "Iteration 188, loss = 434876.24828615\n",
            "Iteration 189, loss = 434291.31108726\n",
            "Iteration 190, loss = 434229.35121739\n",
            "Iteration 191, loss = 434082.77517225\n",
            "Iteration 192, loss = 433619.35745683\n",
            "Iteration 193, loss = 433288.91876185\n",
            "Iteration 194, loss = 433222.69551852\n",
            "Iteration 195, loss = 433247.95364242\n",
            "Iteration 196, loss = 433373.95389607\n",
            "Iteration 197, loss = 432561.60764512\n",
            "Iteration 198, loss = 432002.27277041\n",
            "Iteration 199, loss = 432600.17280442\n",
            "Iteration 200, loss = 431785.45511891\n",
            "Iteration 201, loss = 431910.50812931\n",
            "Iteration 202, loss = 431819.14258565\n",
            "Iteration 203, loss = 430977.80211089\n",
            "Iteration 204, loss = 430781.07168867\n",
            "Iteration 205, loss = 430926.08146908\n",
            "Iteration 206, loss = 430262.17993837\n",
            "Iteration 207, loss = 429998.72922941\n",
            "Iteration 208, loss = 430310.60053752\n",
            "Iteration 209, loss = 429508.76730346\n",
            "Iteration 210, loss = 429328.04711993\n",
            "Iteration 211, loss = 429508.93312456\n",
            "Iteration 212, loss = 429090.17476405\n",
            "Iteration 213, loss = 428800.38612222\n",
            "Iteration 214, loss = 428645.76876151\n",
            "Iteration 215, loss = 428211.73901352\n",
            "Iteration 216, loss = 427773.50504828\n",
            "Iteration 217, loss = 428065.30167522\n",
            "Iteration 218, loss = 427758.45732271\n",
            "Iteration 219, loss = 427320.81189348\n",
            "Iteration 220, loss = 427081.02399862\n",
            "Iteration 221, loss = 427169.31992731\n",
            "Iteration 222, loss = 427787.59923031\n",
            "Iteration 223, loss = 426382.74217589\n",
            "Iteration 224, loss = 426153.04022118\n",
            "Iteration 225, loss = 426764.06883419\n",
            "Iteration 226, loss = 426022.44909848\n",
            "Iteration 227, loss = 426680.75725689\n",
            "Iteration 228, loss = 426104.67241204\n",
            "Iteration 229, loss = 425778.86850592\n",
            "Iteration 230, loss = 425070.86805790\n",
            "Iteration 231, loss = 424969.78067462\n",
            "Iteration 232, loss = 425171.55184529\n",
            "Iteration 233, loss = 424481.48707572\n",
            "Iteration 234, loss = 424399.40156138\n",
            "Iteration 235, loss = 424229.61332545\n",
            "Iteration 236, loss = 424108.05499301\n",
            "Iteration 237, loss = 423787.49421558\n",
            "Iteration 238, loss = 423374.40490025\n",
            "Iteration 239, loss = 423240.25583872\n",
            "Iteration 240, loss = 422985.64405789\n",
            "Iteration 241, loss = 422581.09244331\n",
            "Iteration 242, loss = 422721.28035873\n",
            "Iteration 243, loss = 422458.94346695\n",
            "Iteration 244, loss = 422859.97576344\n",
            "Iteration 245, loss = 421859.46675248\n",
            "Iteration 246, loss = 421512.11320199\n",
            "Iteration 247, loss = 421700.29171136\n",
            "Iteration 248, loss = 421117.99024692\n",
            "Iteration 249, loss = 421584.96934872\n",
            "Iteration 250, loss = 420855.93174424\n",
            "Iteration 251, loss = 421314.75316840\n",
            "Iteration 252, loss = 421522.04678500\n",
            "Iteration 253, loss = 420030.76455156\n",
            "Iteration 254, loss = 420431.74506484\n",
            "Iteration 255, loss = 420399.94469119\n",
            "Iteration 256, loss = 420286.16239584\n",
            "Iteration 257, loss = 420090.80406968\n",
            "Iteration 258, loss = 419993.54979679\n",
            "Iteration 259, loss = 419242.66458404\n",
            "Iteration 260, loss = 420420.02575835\n",
            "Iteration 261, loss = 419386.96289411\n",
            "Iteration 262, loss = 418832.73945088\n",
            "Iteration 263, loss = 419005.66045015\n",
            "Iteration 264, loss = 419301.57050950\n",
            "Iteration 265, loss = 418739.35372867\n",
            "Iteration 266, loss = 418294.06212704\n",
            "Iteration 267, loss = 417902.04077807\n",
            "Iteration 268, loss = 417454.39912566\n",
            "Iteration 269, loss = 418093.13220536\n",
            "Iteration 270, loss = 417470.79000086\n",
            "Iteration 271, loss = 417404.59187412\n",
            "Iteration 272, loss = 417016.68428146\n",
            "Iteration 273, loss = 416490.26948311\n",
            "Iteration 274, loss = 416940.71909264\n",
            "Iteration 275, loss = 416570.52237034\n",
            "Iteration 276, loss = 416342.75763550\n",
            "Iteration 277, loss = 416494.23625504\n",
            "Iteration 278, loss = 415733.00159783\n",
            "Iteration 279, loss = 415941.88902617\n",
            "Iteration 280, loss = 415713.04788141\n",
            "Iteration 281, loss = 415406.29056835\n",
            "Iteration 282, loss = 414905.48875444\n",
            "Iteration 283, loss = 414953.01719349\n",
            "Iteration 284, loss = 414922.23809942\n",
            "Iteration 285, loss = 415032.72169927\n",
            "Iteration 286, loss = 415119.57759110\n",
            "Iteration 287, loss = 414403.00209542\n",
            "Iteration 288, loss = 414127.07592634\n",
            "Iteration 289, loss = 413679.99236098\n",
            "Iteration 290, loss = 414211.22348644\n",
            "Iteration 291, loss = 415011.14001790\n",
            "Iteration 292, loss = 414068.97981907\n",
            "Iteration 293, loss = 412862.65170674\n",
            "Iteration 294, loss = 413592.54888184\n",
            "Iteration 295, loss = 412515.42640929\n",
            "Iteration 296, loss = 412654.02501182\n",
            "Iteration 297, loss = 413953.23943563\n",
            "Iteration 298, loss = 412395.04184266\n",
            "Iteration 299, loss = 412409.23556606\n",
            "Iteration 300, loss = 412548.54843487\n",
            "Iteration 301, loss = 411962.54233758\n",
            "Iteration 302, loss = 411659.03122802\n",
            "Iteration 303, loss = 411417.79485928\n",
            "Iteration 304, loss = 411169.58842759\n",
            "Iteration 305, loss = 411404.14564386\n",
            "Iteration 306, loss = 411012.18873606\n",
            "Iteration 307, loss = 410959.34898550\n",
            "Iteration 308, loss = 411175.63865838\n",
            "Iteration 309, loss = 410637.70066209\n",
            "Iteration 310, loss = 410637.92601162\n",
            "Iteration 311, loss = 410218.22704036\n",
            "Iteration 312, loss = 410608.79505370\n",
            "Iteration 313, loss = 410125.11250807\n",
            "Iteration 314, loss = 410061.24101650\n",
            "Iteration 315, loss = 409341.75535469\n",
            "Iteration 316, loss = 409768.52392889\n",
            "Iteration 317, loss = 410160.77061140\n",
            "Iteration 318, loss = 409511.80249315\n",
            "Iteration 319, loss = 408700.15823959\n",
            "Iteration 320, loss = 408877.36211173\n",
            "Iteration 321, loss = 408652.47807096\n",
            "Iteration 322, loss = 408453.84863269\n",
            "Iteration 323, loss = 409026.31250837\n",
            "Iteration 324, loss = 408001.04335859\n",
            "Iteration 325, loss = 407869.13712300\n",
            "Iteration 326, loss = 408276.23864065\n",
            "Iteration 327, loss = 407328.53564880\n",
            "Iteration 328, loss = 407386.52004943\n",
            "Iteration 329, loss = 407123.14141511\n",
            "Iteration 330, loss = 407549.63140478\n",
            "Iteration 331, loss = 406869.20521190\n",
            "Iteration 332, loss = 406852.93596003\n",
            "Iteration 333, loss = 406616.95231509\n",
            "Iteration 334, loss = 406781.37417059\n",
            "Iteration 335, loss = 406340.73161802\n",
            "Iteration 336, loss = 406497.92742717\n",
            "Iteration 337, loss = 406472.05478422\n",
            "Iteration 338, loss = 405886.04620630\n",
            "Iteration 339, loss = 406362.55221216\n",
            "Iteration 340, loss = 405712.06566428\n",
            "Iteration 341, loss = 405926.46706496\n",
            "Iteration 342, loss = 405064.44458580\n",
            "Iteration 343, loss = 405344.59446984\n",
            "Iteration 344, loss = 405320.93856184\n",
            "Iteration 345, loss = 405034.14489302\n",
            "Iteration 346, loss = 404721.82991740\n",
            "Iteration 347, loss = 404579.23885244\n",
            "Iteration 348, loss = 404911.26889467\n",
            "Iteration 349, loss = 404609.71424216\n",
            "Iteration 350, loss = 403806.20063167\n",
            "Iteration 351, loss = 403658.71070175\n",
            "Iteration 352, loss = 403980.12738977\n",
            "Iteration 353, loss = 403795.25644389\n",
            "Iteration 354, loss = 404095.86933554\n",
            "Iteration 355, loss = 403913.76454748\n",
            "Iteration 356, loss = 403909.40363420\n",
            "Iteration 357, loss = 403772.28263179\n",
            "Iteration 358, loss = 402752.42216663\n",
            "Iteration 359, loss = 403196.69719132\n",
            "Iteration 360, loss = 403481.29392014\n",
            "Iteration 361, loss = 402656.82082256\n",
            "Iteration 362, loss = 402546.47587552\n",
            "Iteration 363, loss = 402598.87840858\n",
            "Iteration 364, loss = 402250.37557498\n",
            "Iteration 365, loss = 402587.31463140\n",
            "Iteration 366, loss = 401830.96853343\n",
            "Iteration 367, loss = 402329.48198631\n",
            "Iteration 368, loss = 402162.28230525\n",
            "Iteration 369, loss = 401812.71027874\n",
            "Iteration 370, loss = 401684.93493044\n",
            "Iteration 371, loss = 401190.37535617\n",
            "Iteration 372, loss = 401882.32419103\n",
            "Iteration 373, loss = 401007.46546603\n",
            "Iteration 374, loss = 400798.54976359\n",
            "Iteration 375, loss = 400938.83823978\n",
            "Iteration 376, loss = 401432.89793952\n",
            "Iteration 377, loss = 400344.40834006\n",
            "Iteration 378, loss = 401271.21580566\n",
            "Iteration 379, loss = 400520.12688046\n",
            "Iteration 380, loss = 400483.42977498\n",
            "Iteration 381, loss = 400622.96788055\n",
            "Iteration 382, loss = 399889.99760768\n",
            "Iteration 383, loss = 400419.18586580\n",
            "Iteration 384, loss = 399807.52699189\n",
            "Iteration 385, loss = 399174.78690110\n",
            "Iteration 386, loss = 399304.33097526\n",
            "Iteration 387, loss = 399044.33233492\n",
            "Iteration 388, loss = 400011.06279495\n",
            "Iteration 389, loss = 398957.72330950\n",
            "Iteration 390, loss = 398923.70962749\n",
            "Iteration 391, loss = 398956.49940442\n",
            "Iteration 392, loss = 398271.59176688\n",
            "Iteration 393, loss = 398461.49257776\n",
            "Iteration 394, loss = 398647.75073381\n",
            "Iteration 395, loss = 398482.88649232\n",
            "Iteration 396, loss = 398208.48869322\n",
            "Iteration 397, loss = 398999.65717706\n",
            "Iteration 398, loss = 398912.76947901\n",
            "Iteration 399, loss = 397953.95188438\n",
            "Iteration 400, loss = 398127.84484080\n",
            "Iteration 401, loss = 398007.15535437\n",
            "Iteration 402, loss = 397731.23953560\n",
            "Iteration 403, loss = 397264.16739166\n",
            "Iteration 404, loss = 397385.59779272\n",
            "Iteration 405, loss = 397781.85981832\n",
            "Iteration 406, loss = 398130.88726677\n",
            "Iteration 407, loss = 397258.82087919\n",
            "Iteration 408, loss = 396156.60201016\n",
            "Iteration 409, loss = 397005.72375990\n",
            "Iteration 410, loss = 397414.81706864\n",
            "Iteration 411, loss = 396378.13028318\n",
            "Iteration 412, loss = 396421.49254646\n",
            "Iteration 413, loss = 396469.12111087\n",
            "Iteration 414, loss = 396081.97514114\n",
            "Iteration 415, loss = 396284.77820017\n",
            "Iteration 416, loss = 396072.73353903\n",
            "Iteration 417, loss = 396253.60103357\n",
            "Iteration 418, loss = 395914.74900237\n",
            "Iteration 419, loss = 396061.79801477\n",
            "Iteration 420, loss = 395608.04864908\n",
            "Iteration 421, loss = 395456.47311378\n",
            "Iteration 422, loss = 395898.67160137\n",
            "Iteration 423, loss = 395632.82513717\n",
            "Iteration 424, loss = 395279.91372779\n",
            "Iteration 425, loss = 395256.81143269\n",
            "Iteration 426, loss = 395023.36275498\n",
            "Iteration 427, loss = 395893.01142843\n",
            "Iteration 428, loss = 394985.81822474\n",
            "Iteration 429, loss = 396129.71140636\n",
            "Iteration 430, loss = 394826.31542971\n",
            "Iteration 431, loss = 394782.36275746\n",
            "Iteration 432, loss = 394463.13352226\n",
            "Iteration 433, loss = 394677.70008853\n",
            "Iteration 434, loss = 394728.25341045\n",
            "Iteration 435, loss = 394913.32516145\n",
            "Iteration 436, loss = 394485.26956715\n",
            "Iteration 437, loss = 393883.54269557\n",
            "Iteration 438, loss = 393522.94675074\n",
            "Iteration 439, loss = 393820.58818756\n",
            "Iteration 440, loss = 393625.41956548\n",
            "Iteration 441, loss = 393445.55846527\n",
            "Iteration 442, loss = 393536.12853379\n",
            "Iteration 443, loss = 393064.00020212\n",
            "Iteration 444, loss = 393037.80929939\n",
            "Iteration 445, loss = 392903.29553560\n",
            "Iteration 446, loss = 393321.71832719\n",
            "Iteration 447, loss = 393001.13440153\n",
            "Iteration 448, loss = 393150.15076146\n",
            "Iteration 449, loss = 392488.84656072\n",
            "Iteration 450, loss = 393394.38779730\n",
            "Iteration 451, loss = 392708.48995673\n",
            "Iteration 452, loss = 392674.52874657\n",
            "Iteration 453, loss = 392953.86964857\n",
            "Iteration 454, loss = 391937.85014571\n",
            "Iteration 455, loss = 391893.34885131\n",
            "Iteration 456, loss = 392140.23265101\n",
            "Iteration 457, loss = 391832.84655755\n",
            "Iteration 458, loss = 391528.42309963\n",
            "Iteration 459, loss = 391732.77368373\n",
            "Iteration 460, loss = 391524.58349968\n",
            "Iteration 461, loss = 391699.66764755\n",
            "Iteration 462, loss = 391769.84670938\n",
            "Iteration 463, loss = 391733.84435684\n",
            "Iteration 464, loss = 391167.21294561\n",
            "Iteration 465, loss = 391414.22224286\n",
            "Iteration 466, loss = 391259.51550969\n",
            "Iteration 467, loss = 390699.86231442\n",
            "Iteration 468, loss = 390461.33942114\n",
            "Iteration 469, loss = 390720.00423146\n",
            "Iteration 470, loss = 390665.19455061\n",
            "Iteration 471, loss = 390577.63618646\n",
            "Iteration 472, loss = 390099.96528763\n",
            "Iteration 473, loss = 390268.61583449\n",
            "Iteration 474, loss = 390239.79709409\n",
            "Iteration 475, loss = 389630.06700660\n",
            "Iteration 476, loss = 390559.67141975\n",
            "Iteration 477, loss = 389688.31183529\n",
            "Iteration 478, loss = 389630.36893410\n",
            "Iteration 479, loss = 389745.73690095\n",
            "Iteration 480, loss = 389767.00889231\n",
            "Iteration 481, loss = 389645.19862807\n",
            "Iteration 482, loss = 389716.57568076\n",
            "Iteration 483, loss = 389201.46507140\n",
            "Iteration 484, loss = 389277.17256597\n",
            "Iteration 485, loss = 388772.79875797\n",
            "Iteration 486, loss = 388793.05147785\n",
            "Iteration 487, loss = 389451.77150621\n",
            "Iteration 488, loss = 389039.13675261\n",
            "Iteration 489, loss = 388238.72780833\n",
            "Iteration 490, loss = 388449.77347227\n",
            "Iteration 491, loss = 388352.40488514\n",
            "Iteration 492, loss = 388109.02919929\n",
            "Iteration 493, loss = 388102.48477472\n",
            "Iteration 494, loss = 388217.18677703\n",
            "Iteration 495, loss = 387388.32803287\n",
            "Iteration 496, loss = 387761.13964176\n",
            "Iteration 497, loss = 388172.76210897\n",
            "Iteration 498, loss = 387432.97427158\n",
            "Iteration 499, loss = 387748.14116163\n",
            "Iteration 500, loss = 387162.26391590\n",
            "Iteration 501, loss = 387941.62810040\n",
            "Iteration 502, loss = 387111.13918515\n",
            "Iteration 503, loss = 386711.59756436\n",
            "Iteration 504, loss = 387039.42892130\n",
            "Iteration 505, loss = 387058.15453174\n",
            "Iteration 506, loss = 387124.97117009\n",
            "Iteration 507, loss = 387250.53837155\n",
            "Iteration 508, loss = 386522.82420433\n",
            "Iteration 509, loss = 386902.77677885\n",
            "Iteration 510, loss = 386497.84604019\n",
            "Iteration 511, loss = 386784.23728658\n",
            "Iteration 512, loss = 386324.66254737\n",
            "Iteration 513, loss = 386059.80598513\n",
            "Iteration 514, loss = 385652.05956928\n",
            "Iteration 515, loss = 385950.99929931\n",
            "Iteration 516, loss = 386059.06819088\n",
            "Iteration 517, loss = 386462.21997728\n",
            "Iteration 518, loss = 385150.97855468\n",
            "Iteration 519, loss = 385048.79300523\n",
            "Iteration 520, loss = 385539.20012615\n",
            "Iteration 521, loss = 385380.82589443\n",
            "Iteration 522, loss = 384503.93321878\n",
            "Iteration 523, loss = 384762.11073822\n",
            "Iteration 524, loss = 384543.29625147\n",
            "Iteration 525, loss = 384450.78327613\n",
            "Iteration 526, loss = 384033.33921610\n",
            "Iteration 527, loss = 384345.63150609\n",
            "Iteration 528, loss = 384673.56428620\n",
            "Iteration 529, loss = 384050.32657840\n",
            "Iteration 530, loss = 384331.39352813\n",
            "Iteration 531, loss = 384000.56747519\n",
            "Iteration 532, loss = 383629.17885522\n",
            "Iteration 533, loss = 383653.08088333\n",
            "Iteration 534, loss = 383137.46000103\n",
            "Iteration 535, loss = 383513.70414222\n",
            "Iteration 536, loss = 383243.61416949\n",
            "Iteration 537, loss = 383316.35515233\n",
            "Iteration 538, loss = 383143.56516582\n",
            "Iteration 539, loss = 382632.29020987\n",
            "Iteration 540, loss = 382817.14559109\n",
            "Iteration 541, loss = 382543.46639006\n",
            "Iteration 542, loss = 382842.80160532\n",
            "Iteration 543, loss = 382779.33325438\n",
            "Iteration 544, loss = 382127.08490773\n",
            "Iteration 545, loss = 382793.90984528\n",
            "Iteration 546, loss = 382277.05280218\n",
            "Iteration 547, loss = 382619.32787189\n",
            "Iteration 548, loss = 382787.47845992\n",
            "Iteration 549, loss = 382995.93523533\n",
            "Iteration 550, loss = 382129.13074111\n",
            "Iteration 551, loss = 381690.63147140\n",
            "Iteration 552, loss = 381409.52657137\n",
            "Iteration 553, loss = 381647.10700587\n",
            "Iteration 554, loss = 381485.92118312\n",
            "Iteration 555, loss = 381377.70570139\n",
            "Iteration 556, loss = 381751.23127841\n",
            "Iteration 557, loss = 381103.27885185\n",
            "Iteration 558, loss = 380521.21018214\n",
            "Iteration 559, loss = 381469.55664100\n",
            "Iteration 560, loss = 380683.58453430\n",
            "Iteration 561, loss = 381738.71239818\n",
            "Iteration 562, loss = 381616.62235152\n",
            "Iteration 563, loss = 380461.63743066\n",
            "Iteration 564, loss = 380093.31870103\n",
            "Iteration 565, loss = 380573.03598453\n",
            "Iteration 566, loss = 379886.16848340\n",
            "Iteration 567, loss = 380328.68623619\n",
            "Iteration 568, loss = 379809.22304094\n",
            "Iteration 569, loss = 379856.71159842\n",
            "Iteration 570, loss = 379888.74196697\n",
            "Iteration 571, loss = 380048.37678004\n",
            "Iteration 572, loss = 380769.84480108\n",
            "Iteration 573, loss = 379321.60653026\n",
            "Iteration 574, loss = 379511.61731730\n",
            "Iteration 575, loss = 379473.80731983\n",
            "Iteration 576, loss = 378885.00874611\n",
            "Iteration 577, loss = 379203.12103437\n",
            "Iteration 578, loss = 379524.39149317\n",
            "Iteration 579, loss = 379019.74822144\n",
            "Iteration 580, loss = 378860.93023633\n",
            "Iteration 581, loss = 379238.07575967\n",
            "Iteration 582, loss = 379372.40476231\n",
            "Iteration 583, loss = 378638.36485850\n",
            "Iteration 584, loss = 378182.69353475\n",
            "Iteration 585, loss = 378795.09907119\n",
            "Iteration 586, loss = 378456.46189668\n",
            "Iteration 587, loss = 378222.83640398\n",
            "Iteration 588, loss = 377973.85015108\n",
            "Iteration 589, loss = 377782.52496520\n",
            "Iteration 590, loss = 377906.07798097\n",
            "Iteration 591, loss = 378988.04982432\n",
            "Iteration 592, loss = 377557.51808300\n",
            "Iteration 593, loss = 377125.52923527\n",
            "Iteration 594, loss = 377664.04202848\n",
            "Iteration 595, loss = 377501.80177989\n",
            "Iteration 596, loss = 378293.74587389\n",
            "Iteration 597, loss = 378117.58162417\n",
            "Iteration 598, loss = 377347.75542792\n",
            "Iteration 599, loss = 376695.84346336\n",
            "Iteration 600, loss = 377742.19177503\n",
            "Iteration 601, loss = 376346.26812003\n",
            "Iteration 602, loss = 377183.87341375\n",
            "Iteration 603, loss = 376969.26334821\n",
            "Iteration 604, loss = 376463.34094247\n",
            "Iteration 605, loss = 376337.71642878\n",
            "Iteration 606, loss = 376672.20561885\n",
            "Iteration 607, loss = 375903.15940697\n",
            "Iteration 608, loss = 376345.12964337\n",
            "Iteration 609, loss = 376056.82536008\n",
            "Iteration 610, loss = 375896.05332760\n",
            "Iteration 611, loss = 375913.34205218\n",
            "Iteration 612, loss = 375298.87326628\n",
            "Iteration 613, loss = 376113.93030163\n",
            "Iteration 614, loss = 376252.43613935\n",
            "Iteration 615, loss = 375313.91205833\n",
            "Iteration 616, loss = 375575.24580238\n",
            "Iteration 617, loss = 375535.61492337\n",
            "Iteration 618, loss = 375469.09353682\n",
            "Iteration 619, loss = 374864.06527074\n",
            "Iteration 620, loss = 374370.03863306\n",
            "Iteration 621, loss = 374884.81075407\n",
            "Iteration 622, loss = 374371.33260882\n",
            "Iteration 623, loss = 375148.56984923\n",
            "Iteration 624, loss = 374745.50241184\n",
            "Iteration 625, loss = 373907.54883417\n",
            "Iteration 626, loss = 374546.24604304\n",
            "Iteration 627, loss = 373741.14983060\n",
            "Iteration 628, loss = 374452.77282671\n",
            "Iteration 629, loss = 373712.28517552\n",
            "Iteration 630, loss = 374284.12285223\n",
            "Iteration 631, loss = 374056.81634213\n",
            "Iteration 632, loss = 373528.67496465\n",
            "Iteration 633, loss = 373885.52339051\n",
            "Iteration 634, loss = 373710.68395374\n",
            "Iteration 635, loss = 373464.21903562\n",
            "Iteration 636, loss = 373445.01121884\n",
            "Iteration 637, loss = 374328.50534428\n",
            "Iteration 638, loss = 373083.89568807\n",
            "Iteration 639, loss = 373471.59008375\n",
            "Iteration 640, loss = 372979.35065396\n",
            "Iteration 641, loss = 373464.14645288\n",
            "Iteration 642, loss = 373029.91441761\n",
            "Iteration 643, loss = 372398.92276644\n",
            "Iteration 644, loss = 372575.17800383\n",
            "Iteration 645, loss = 372590.07635518\n",
            "Iteration 646, loss = 372690.42472068\n",
            "Iteration 647, loss = 372295.30109761\n",
            "Iteration 648, loss = 372202.30893067\n",
            "Iteration 649, loss = 371946.34488393\n",
            "Iteration 650, loss = 371564.89858465\n",
            "Iteration 651, loss = 372532.09358677\n",
            "Iteration 652, loss = 372421.66876466\n",
            "Iteration 653, loss = 373235.39636958\n",
            "Iteration 654, loss = 371448.01599421\n",
            "Iteration 655, loss = 372251.37089947\n",
            "Iteration 656, loss = 371247.90046260\n",
            "Iteration 657, loss = 370954.63165332\n",
            "Iteration 658, loss = 371630.31102906\n",
            "Iteration 659, loss = 370870.86028104\n",
            "Iteration 660, loss = 371210.38840066\n",
            "Iteration 661, loss = 371556.17215363\n",
            "Iteration 662, loss = 370766.93071829\n",
            "Iteration 663, loss = 370476.18249878\n",
            "Iteration 664, loss = 370684.95454161\n",
            "Iteration 665, loss = 370630.01319626\n",
            "Iteration 666, loss = 372527.88624131\n",
            "Iteration 667, loss = 370794.79906567\n",
            "Iteration 668, loss = 370323.62455382\n",
            "Iteration 669, loss = 370366.19052576\n",
            "Iteration 670, loss = 369890.58681134\n",
            "Iteration 671, loss = 370107.47293378\n",
            "Iteration 672, loss = 369564.26945646\n",
            "Iteration 673, loss = 370147.40534812\n",
            "Iteration 674, loss = 369382.18338001\n",
            "Iteration 675, loss = 369980.88128769\n",
            "Iteration 676, loss = 369630.83867193\n",
            "Iteration 677, loss = 370033.75614808\n",
            "Iteration 678, loss = 369927.17491426\n",
            "Iteration 679, loss = 369113.76657675\n",
            "Iteration 680, loss = 369039.71383385\n",
            "Iteration 681, loss = 368627.25388430\n",
            "Iteration 682, loss = 368226.77123775\n",
            "Iteration 683, loss = 368487.49866155\n",
            "Iteration 684, loss = 368772.13315917\n",
            "Iteration 685, loss = 369319.24364364\n",
            "Iteration 686, loss = 369038.88020299\n",
            "Iteration 687, loss = 368909.88074724\n",
            "Iteration 688, loss = 368346.35742912\n",
            "Iteration 689, loss = 368533.29794967\n",
            "Iteration 690, loss = 367854.56870706\n",
            "Iteration 691, loss = 367821.18075147\n",
            "Iteration 692, loss = 367789.31998855\n",
            "Iteration 693, loss = 368173.58650865\n",
            "Iteration 694, loss = 367905.30559432\n",
            "Iteration 695, loss = 367725.79417786\n",
            "Iteration 696, loss = 367917.23332238\n",
            "Iteration 697, loss = 367628.41412722\n",
            "Iteration 698, loss = 367500.94455866\n",
            "Iteration 699, loss = 367412.01402597\n",
            "Iteration 700, loss = 366963.96123641\n",
            "Iteration 701, loss = 367045.19311599\n",
            "Iteration 702, loss = 366184.68178322\n",
            "Iteration 703, loss = 367170.54613790\n",
            "Iteration 704, loss = 366714.87746647\n",
            "Iteration 705, loss = 366741.26330354\n",
            "Iteration 706, loss = 367376.89951278\n",
            "Iteration 707, loss = 365787.57830220\n",
            "Iteration 708, loss = 366339.10862887\n",
            "Iteration 709, loss = 365658.69853218\n",
            "Iteration 710, loss = 366476.85631750\n",
            "Iteration 711, loss = 365935.93486379\n",
            "Iteration 712, loss = 366157.32038389\n",
            "Iteration 713, loss = 365064.98420098\n",
            "Iteration 714, loss = 365426.95026823\n",
            "Iteration 715, loss = 365394.08096758\n",
            "Iteration 716, loss = 365837.89736471\n",
            "Iteration 717, loss = 365046.72969416\n",
            "Iteration 718, loss = 365122.93631596\n",
            "Iteration 719, loss = 364671.04517318\n",
            "Iteration 720, loss = 364286.88779596\n",
            "Iteration 721, loss = 365079.28521353\n",
            "Iteration 722, loss = 364106.70395449\n",
            "Iteration 723, loss = 363994.02127832\n",
            "Iteration 724, loss = 364475.43822524\n",
            "Iteration 725, loss = 364707.52585651\n",
            "Iteration 726, loss = 364470.67074269\n",
            "Iteration 727, loss = 364256.70705626\n",
            "Iteration 728, loss = 364714.92249918\n",
            "Iteration 729, loss = 363411.27890413\n",
            "Iteration 730, loss = 363138.80856314\n",
            "Iteration 731, loss = 364465.52395810\n",
            "Iteration 732, loss = 363372.79849871\n",
            "Iteration 733, loss = 363397.05641017\n",
            "Iteration 734, loss = 363931.93858795\n",
            "Iteration 735, loss = 362830.03823647\n",
            "Iteration 736, loss = 362985.18294328\n",
            "Iteration 737, loss = 363400.25627318\n",
            "Iteration 738, loss = 362848.04237095\n",
            "Iteration 739, loss = 362579.71425981\n",
            "Iteration 740, loss = 362713.17494353\n",
            "Iteration 741, loss = 362021.91307608\n",
            "Iteration 742, loss = 362223.40703250\n",
            "Iteration 743, loss = 362449.85053761\n",
            "Iteration 744, loss = 362274.35902291\n",
            "Iteration 745, loss = 361958.29802865\n",
            "Iteration 746, loss = 362292.16128654\n",
            "Iteration 747, loss = 361810.70121098\n",
            "Iteration 748, loss = 361737.83917421\n",
            "Iteration 749, loss = 361424.74865057\n",
            "Iteration 750, loss = 361534.27828485\n",
            "Iteration 751, loss = 361525.74446983\n",
            "Iteration 752, loss = 361378.04812627\n",
            "Iteration 753, loss = 362185.61329252\n",
            "Iteration 754, loss = 361130.08784364\n",
            "Iteration 755, loss = 361199.91515507\n",
            "Iteration 756, loss = 361526.34609996\n",
            "Iteration 757, loss = 360724.91349066\n",
            "Iteration 758, loss = 360822.55449108\n",
            "Iteration 759, loss = 360210.56788276\n",
            "Iteration 760, loss = 360791.69624605\n",
            "Iteration 761, loss = 359830.08758252\n",
            "Iteration 762, loss = 360393.38199077\n",
            "Iteration 763, loss = 360183.99637647\n",
            "Iteration 764, loss = 360574.32527511\n",
            "Iteration 765, loss = 359711.93989067\n",
            "Iteration 766, loss = 359274.64456594\n",
            "Iteration 767, loss = 360568.75823602\n",
            "Iteration 768, loss = 360452.00321012\n",
            "Iteration 769, loss = 359293.82880501\n",
            "Iteration 770, loss = 359326.82194565\n",
            "Iteration 771, loss = 359457.10966615\n",
            "Iteration 772, loss = 358788.61438525\n",
            "Iteration 773, loss = 359277.44900816\n",
            "Iteration 774, loss = 359278.71833710\n",
            "Iteration 775, loss = 358672.34126072\n",
            "Iteration 776, loss = 359290.76025423\n",
            "Iteration 777, loss = 358813.23969822\n",
            "Iteration 778, loss = 358619.71805170\n",
            "Iteration 779, loss = 358234.59855161\n",
            "Iteration 780, loss = 358702.08391841\n",
            "Iteration 781, loss = 357878.14829687\n",
            "Iteration 782, loss = 358508.00934695\n",
            "Iteration 783, loss = 358381.50193226\n",
            "Iteration 784, loss = 358533.64074395\n",
            "Iteration 785, loss = 357927.21929319\n",
            "Iteration 786, loss = 357628.86860772\n",
            "Iteration 787, loss = 358080.98331325\n",
            "Iteration 788, loss = 357483.94594787\n",
            "Iteration 789, loss = 357665.83491473\n",
            "Iteration 790, loss = 357530.71445578\n",
            "Iteration 791, loss = 357403.56732718\n",
            "Iteration 792, loss = 358527.46403959\n",
            "Iteration 793, loss = 357874.61803328\n",
            "Iteration 794, loss = 357301.64951452\n",
            "Iteration 795, loss = 357170.01671641\n",
            "Iteration 796, loss = 357405.63136838\n",
            "Iteration 797, loss = 357331.65211320\n",
            "Iteration 798, loss = 356614.60575563\n",
            "Iteration 799, loss = 356007.26303402\n",
            "Iteration 800, loss = 356601.25842544\n",
            "Iteration 801, loss = 356290.02787229\n",
            "Iteration 802, loss = 356399.46967491\n",
            "Iteration 803, loss = 356715.97490322\n",
            "Iteration 804, loss = 355565.15006603\n",
            "Iteration 805, loss = 355755.77458798\n",
            "Iteration 806, loss = 355997.04928321\n",
            "Iteration 807, loss = 355808.13638657\n",
            "Iteration 808, loss = 355366.69321345\n",
            "Iteration 809, loss = 355375.69748669\n",
            "Iteration 810, loss = 355756.14863120\n",
            "Iteration 811, loss = 355823.29216389\n",
            "Iteration 812, loss = 356117.57314593\n",
            "Iteration 813, loss = 355275.74850645\n",
            "Iteration 814, loss = 355058.02169361\n",
            "Iteration 815, loss = 355679.66836320\n",
            "Iteration 816, loss = 354732.02272461\n",
            "Iteration 817, loss = 354575.18811256\n",
            "Iteration 818, loss = 354921.13445855\n",
            "Iteration 819, loss = 354254.40191695\n",
            "Iteration 820, loss = 355194.76676397\n",
            "Iteration 821, loss = 354633.20717304\n",
            "Iteration 822, loss = 354299.18143761\n",
            "Iteration 823, loss = 354396.70254313\n",
            "Iteration 824, loss = 354145.08108640\n",
            "Iteration 825, loss = 354947.11747997\n",
            "Iteration 826, loss = 354127.08946305\n",
            "Iteration 827, loss = 354057.48856004\n",
            "Iteration 828, loss = 353951.07498491\n",
            "Iteration 829, loss = 353398.13705678\n",
            "Iteration 830, loss = 353749.89851192\n",
            "Iteration 831, loss = 354011.12256759\n",
            "Iteration 832, loss = 353452.32187678\n",
            "Iteration 833, loss = 353582.53291594\n",
            "Iteration 834, loss = 353001.30417742\n",
            "Iteration 835, loss = 353130.59508405\n",
            "Iteration 836, loss = 352759.17639555\n",
            "Iteration 837, loss = 353333.58130107\n",
            "Iteration 838, loss = 352761.51729178\n",
            "Iteration 839, loss = 352874.56735042\n",
            "Iteration 840, loss = 352320.51766812\n",
            "Iteration 841, loss = 352970.36399821\n",
            "Iteration 842, loss = 353286.49121765\n",
            "Iteration 843, loss = 352124.06589844\n",
            "Iteration 844, loss = 352223.89190667\n",
            "Iteration 845, loss = 352819.21505470\n",
            "Iteration 846, loss = 351813.28771214\n",
            "Iteration 847, loss = 351712.00095258\n",
            "Iteration 848, loss = 351573.68217651\n",
            "Iteration 849, loss = 351581.54802565\n",
            "Iteration 850, loss = 351665.50224977\n",
            "Iteration 851, loss = 351310.96330531\n",
            "Iteration 852, loss = 351178.86892856\n",
            "Iteration 853, loss = 351743.72664879\n",
            "Iteration 854, loss = 350855.40880840\n",
            "Iteration 855, loss = 351442.02599386\n",
            "Iteration 856, loss = 351109.70787448\n",
            "Iteration 857, loss = 350855.88670965\n",
            "Iteration 858, loss = 350524.42714549\n",
            "Iteration 859, loss = 351001.54897380\n",
            "Iteration 860, loss = 350253.81269841\n",
            "Iteration 861, loss = 350345.18613662\n",
            "Iteration 862, loss = 350619.38104383\n",
            "Iteration 863, loss = 350652.83208264\n",
            "Iteration 864, loss = 350016.37631584\n",
            "Iteration 865, loss = 351177.96016866\n",
            "Iteration 866, loss = 350491.85511308\n",
            "Iteration 867, loss = 350385.95028379\n",
            "Iteration 868, loss = 349579.21661729\n",
            "Iteration 869, loss = 349885.27883611\n",
            "Iteration 870, loss = 350847.05957898\n",
            "Iteration 871, loss = 349823.47581558\n",
            "Iteration 872, loss = 349492.37267018\n",
            "Iteration 873, loss = 349388.04686896\n",
            "Iteration 874, loss = 350068.23491017\n",
            "Iteration 875, loss = 349553.63889340\n",
            "Iteration 876, loss = 349828.54656372\n",
            "Iteration 877, loss = 348906.35675920\n",
            "Iteration 878, loss = 348655.06266859\n",
            "Iteration 879, loss = 348712.00504444\n",
            "Iteration 880, loss = 348792.92692937\n",
            "Iteration 881, loss = 348385.36998197\n",
            "Iteration 882, loss = 348665.37311407\n",
            "Iteration 883, loss = 348589.55818658\n",
            "Iteration 884, loss = 348154.26024953\n",
            "Iteration 885, loss = 348158.16873188\n",
            "Iteration 886, loss = 347682.94695236\n",
            "Iteration 887, loss = 348495.43011253\n",
            "Iteration 888, loss = 348019.96724859\n",
            "Iteration 889, loss = 348091.63944021\n",
            "Iteration 890, loss = 347897.04520183\n",
            "Iteration 891, loss = 347171.98014587\n",
            "Iteration 892, loss = 347053.40205393\n",
            "Iteration 893, loss = 347506.74421800\n",
            "Iteration 894, loss = 347562.44374754\n",
            "Iteration 895, loss = 347173.89897437\n",
            "Iteration 896, loss = 347354.95097654\n",
            "Iteration 897, loss = 346416.89731114\n",
            "Iteration 898, loss = 346555.10734508\n",
            "Iteration 899, loss = 346308.71564639\n",
            "Iteration 900, loss = 346882.73989936\n",
            "Iteration 901, loss = 345893.09233169\n",
            "Iteration 902, loss = 346092.29677872\n",
            "Iteration 903, loss = 345973.39872911\n",
            "Iteration 904, loss = 346198.73682547\n",
            "Iteration 905, loss = 345703.35545911\n",
            "Iteration 906, loss = 345583.11390361\n",
            "Iteration 907, loss = 345564.59185569\n",
            "Iteration 908, loss = 345271.54524205\n"
          ]
        }
      ],
      "source": [
        "model = MLPRegressor(hidden_layer_sizes=(150, 50), activation='relu', solver='adam', max_iter=1000, verbose=True)\n",
        "model.fit(X_train, y_train)"
      ]
    },
    {
      "cell_type": "code",
      "execution_count": null,
      "metadata": {
        "colab": {
          "base_uri": "https://localhost:8080/"
        },
        "id": "3QZHS-OfbM82",
        "outputId": "206d13f2-594b-4ac3-b62e-b9dcf4dfe59f"
      },
      "outputs": [
        {
          "data": {
            "text/plain": [
              "(0.9733221859850348, 0.9677543822140167)"
            ]
          },
          "execution_count": 36,
          "metadata": {},
          "output_type": "execute_result"
        }
      ],
      "source": [
        "model.score(X_train, y_train), model.score(X_test, y_test)"
      ]
    },
    {
      "cell_type": "code",
      "execution_count": null,
      "metadata": {
        "id": "nwHyAI-KZeS3"
      },
      "outputs": [],
      "source": [
        "y_pred = model.predict(X_test)"
      ]
    },
    {
      "cell_type": "code",
      "execution_count": null,
      "metadata": {
        "colab": {
          "base_uri": "https://localhost:8080/"
        },
        "id": "i7vEsCrLdChI",
        "outputId": "af49a53b-df4b-4644-da59-49f46c2e4098"
      },
      "outputs": [
        {
          "data": {
            "text/plain": [
              "693.0049785988648"
            ]
          },
          "execution_count": 38,
          "metadata": {},
          "output_type": "execute_result"
        }
      ],
      "source": [
        "RMSE_mlp = mean_squared_error(y_test, y_pred, squared=False)\n",
        "RMSE_mlp"
      ]
    },
    {
      "cell_type": "markdown",
      "source": [
        "data 1"
      ],
      "metadata": {
        "id": "fuPfvecEz7NQ"
      }
    },
    {
      "cell_type": "code",
      "execution_count": null,
      "metadata": {
        "colab": {
          "base_uri": "https://localhost:8080/"
        },
        "outputId": "21273b61-716e-4e9e-e75a-9c20d0a3671d",
        "id": "lqnWdXExz50q"
      },
      "outputs": [
        {
          "output_type": "stream",
          "name": "stdout",
          "text": [
            "Iteration 1, loss = 14492539.13695875\n",
            "Iteration 2, loss = 9286419.28499237\n",
            "Iteration 3, loss = 2111082.88657426\n",
            "Iteration 4, loss = 818080.25315556\n",
            "Iteration 5, loss = 710364.51644943\n",
            "Iteration 6, loss = 664914.27041362\n",
            "Iteration 7, loss = 639451.47381279\n",
            "Iteration 8, loss = 622867.84012267\n",
            "Iteration 9, loss = 611180.46921865\n",
            "Iteration 10, loss = 601948.10515317\n",
            "Iteration 11, loss = 594488.05008303\n",
            "Iteration 12, loss = 587465.20775310\n",
            "Iteration 13, loss = 581100.41435505\n",
            "Iteration 14, loss = 575592.14801697\n",
            "Iteration 15, loss = 570422.31805572\n",
            "Iteration 16, loss = 565536.17238359\n",
            "Iteration 17, loss = 560922.74878221\n",
            "Iteration 18, loss = 556369.67439352\n",
            "Iteration 19, loss = 551571.18767430\n",
            "Iteration 20, loss = 547527.84700024\n",
            "Iteration 21, loss = 542518.51445300\n",
            "Iteration 22, loss = 537328.23760115\n",
            "Iteration 23, loss = 531829.83953918\n",
            "Iteration 24, loss = 526735.71087338\n",
            "Iteration 25, loss = 521214.71517162\n",
            "Iteration 26, loss = 516250.46587015\n",
            "Iteration 27, loss = 511229.60755551\n",
            "Iteration 28, loss = 505396.25645559\n",
            "Iteration 29, loss = 501874.97831363\n",
            "Iteration 30, loss = 496808.65442710\n",
            "Iteration 31, loss = 492790.54149611\n",
            "Iteration 32, loss = 488908.29715978\n",
            "Iteration 33, loss = 485649.71570207\n",
            "Iteration 34, loss = 482115.30960121\n",
            "Iteration 35, loss = 479380.43582915\n",
            "Iteration 36, loss = 476689.08306070\n",
            "Iteration 37, loss = 474531.46490086\n",
            "Iteration 38, loss = 472191.14100856\n",
            "Iteration 39, loss = 469697.11000587\n",
            "Iteration 40, loss = 468283.42331402\n",
            "Iteration 41, loss = 466320.65478606\n",
            "Iteration 42, loss = 464306.38296625\n",
            "Iteration 43, loss = 462181.04372351\n",
            "Iteration 44, loss = 460580.99782841\n",
            "Iteration 45, loss = 458808.91519465\n",
            "Iteration 46, loss = 456437.05132290\n",
            "Iteration 47, loss = 454758.23881496\n",
            "Iteration 48, loss = 453049.33931049\n",
            "Iteration 49, loss = 450563.71284771\n",
            "Iteration 50, loss = 449768.09972570\n",
            "Iteration 51, loss = 446802.67389924\n",
            "Iteration 52, loss = 445009.91412243\n",
            "Iteration 53, loss = 442433.46138979\n",
            "Iteration 54, loss = 441192.19170314\n",
            "Iteration 55, loss = 438953.62344248\n",
            "Iteration 56, loss = 436826.53164282\n",
            "Iteration 57, loss = 434812.51334413\n",
            "Iteration 58, loss = 433550.09034241\n",
            "Iteration 59, loss = 431545.21170083\n",
            "Iteration 60, loss = 429562.03147657\n",
            "Iteration 61, loss = 428396.79864014\n",
            "Iteration 62, loss = 426429.83171354\n",
            "Iteration 63, loss = 424607.75613917\n",
            "Iteration 64, loss = 423147.29412712\n",
            "Iteration 65, loss = 421002.39923419\n",
            "Iteration 66, loss = 418489.21322032\n",
            "Iteration 67, loss = 417091.97399072\n",
            "Iteration 68, loss = 415042.55466440\n",
            "Iteration 69, loss = 413514.74038639\n",
            "Iteration 70, loss = 411434.59894527\n",
            "Iteration 71, loss = 409990.02607315\n",
            "Iteration 72, loss = 408310.87161718\n",
            "Iteration 73, loss = 406877.41875232\n",
            "Iteration 74, loss = 405627.15962400\n",
            "Iteration 75, loss = 403836.11631038\n",
            "Iteration 76, loss = 402658.28719997\n",
            "Iteration 77, loss = 401276.44285253\n",
            "Iteration 78, loss = 400192.41842583\n",
            "Iteration 79, loss = 398772.55292662\n",
            "Iteration 80, loss = 397949.13530675\n",
            "Iteration 81, loss = 396455.14010962\n",
            "Iteration 82, loss = 395084.07064862\n",
            "Iteration 83, loss = 394149.73734032\n",
            "Iteration 84, loss = 392570.01657167\n",
            "Iteration 85, loss = 392112.71750959\n",
            "Iteration 86, loss = 390234.36254028\n",
            "Iteration 87, loss = 389284.91320450\n",
            "Iteration 88, loss = 387398.04050842\n",
            "Iteration 89, loss = 386789.37020804\n",
            "Iteration 90, loss = 385715.03163084\n",
            "Iteration 91, loss = 383887.77678472\n",
            "Iteration 92, loss = 383014.30645004\n",
            "Iteration 93, loss = 381700.36569127\n",
            "Iteration 94, loss = 380159.73999031\n",
            "Iteration 95, loss = 379086.65501090\n",
            "Iteration 96, loss = 378553.33513079\n",
            "Iteration 97, loss = 377176.38690578\n",
            "Iteration 98, loss = 375991.91461060\n",
            "Iteration 99, loss = 375096.86056808\n",
            "Iteration 100, loss = 373889.51620930\n",
            "Iteration 101, loss = 372766.12268812\n",
            "Iteration 102, loss = 372092.88012428\n",
            "Iteration 103, loss = 370817.30302662\n",
            "Iteration 104, loss = 370001.25914132\n",
            "Iteration 105, loss = 368864.85718959\n",
            "Iteration 106, loss = 367748.24427207\n",
            "Iteration 107, loss = 367569.27701526\n",
            "Iteration 108, loss = 366056.39333458\n",
            "Iteration 109, loss = 365703.10646097\n",
            "Iteration 110, loss = 364110.06886854\n",
            "Iteration 111, loss = 363430.24118447\n",
            "Iteration 112, loss = 362416.76895118\n",
            "Iteration 113, loss = 361575.13238007\n",
            "Iteration 114, loss = 360930.72568763\n",
            "Iteration 115, loss = 360356.06083785\n",
            "Iteration 116, loss = 358917.31346063\n",
            "Iteration 117, loss = 358441.37846911\n",
            "Iteration 118, loss = 357826.75033859\n",
            "Iteration 119, loss = 356858.69203149\n",
            "Iteration 120, loss = 355629.21386214\n",
            "Iteration 121, loss = 354758.73435370\n",
            "Iteration 122, loss = 354280.43046473\n",
            "Iteration 123, loss = 353699.41198233\n",
            "Iteration 124, loss = 352850.14001410\n",
            "Iteration 125, loss = 351949.82944876\n",
            "Iteration 126, loss = 351580.18353890\n",
            "Iteration 127, loss = 351240.48614792\n",
            "Iteration 128, loss = 350280.77080520\n",
            "Iteration 129, loss = 349426.46981332\n",
            "Iteration 130, loss = 348865.22726754\n",
            "Iteration 131, loss = 348216.50878540\n",
            "Iteration 132, loss = 347455.22547740\n",
            "Iteration 133, loss = 347659.54119843\n",
            "Iteration 134, loss = 346494.81734625\n",
            "Iteration 135, loss = 345790.90265893\n",
            "Iteration 136, loss = 345141.24359177\n",
            "Iteration 137, loss = 344947.86418002\n",
            "Iteration 138, loss = 344085.94877797\n",
            "Iteration 139, loss = 343383.29037347\n",
            "Iteration 140, loss = 342908.65364051\n",
            "Iteration 141, loss = 342080.01054027\n",
            "Iteration 142, loss = 341572.51211687\n",
            "Iteration 143, loss = 341258.50728230\n",
            "Iteration 144, loss = 340099.94770107\n",
            "Iteration 145, loss = 339911.61113385\n",
            "Iteration 146, loss = 339313.95225920\n",
            "Iteration 147, loss = 338619.26544117\n",
            "Iteration 148, loss = 337721.89081375\n",
            "Iteration 149, loss = 337333.51919638\n",
            "Iteration 150, loss = 336528.93203603\n",
            "Iteration 151, loss = 336812.83772116\n",
            "Iteration 152, loss = 335960.54114315\n",
            "Iteration 153, loss = 335035.31672796\n",
            "Iteration 154, loss = 334936.37212783\n",
            "Iteration 155, loss = 334001.07733530\n",
            "Iteration 156, loss = 333039.26271732\n",
            "Iteration 157, loss = 332806.89839172\n",
            "Iteration 158, loss = 331931.18421041\n",
            "Iteration 159, loss = 331524.20065333\n",
            "Iteration 160, loss = 331584.07678934\n",
            "Iteration 161, loss = 330503.47761125\n",
            "Iteration 162, loss = 330560.31432391\n",
            "Iteration 163, loss = 330476.28867347\n",
            "Iteration 164, loss = 329236.63802459\n",
            "Iteration 165, loss = 328283.49936854\n",
            "Iteration 166, loss = 328193.80210327\n",
            "Iteration 167, loss = 327667.05145567\n",
            "Iteration 168, loss = 326648.89199733\n",
            "Iteration 169, loss = 326263.16805473\n",
            "Iteration 170, loss = 325463.94528163\n",
            "Iteration 171, loss = 325384.85466460\n",
            "Iteration 172, loss = 324769.88008660\n",
            "Iteration 173, loss = 324158.42813359\n",
            "Iteration 174, loss = 323574.67706820\n",
            "Iteration 175, loss = 323239.47263590\n",
            "Iteration 176, loss = 322658.84923463\n",
            "Iteration 177, loss = 322051.11694462\n",
            "Iteration 178, loss = 321606.23886386\n",
            "Iteration 179, loss = 321478.02838533\n",
            "Iteration 180, loss = 319980.81331040\n",
            "Iteration 181, loss = 319453.30879009\n",
            "Iteration 182, loss = 319011.49277896\n",
            "Iteration 183, loss = 318722.22178650\n",
            "Iteration 184, loss = 317666.83126202\n",
            "Iteration 185, loss = 317412.04038342\n",
            "Iteration 186, loss = 316767.89318818\n",
            "Iteration 187, loss = 316651.17452261\n",
            "Iteration 188, loss = 315801.15747793\n",
            "Iteration 189, loss = 315281.12581318\n",
            "Iteration 190, loss = 314648.33701391\n",
            "Iteration 191, loss = 314177.81979881\n",
            "Iteration 192, loss = 313656.13891933\n",
            "Iteration 193, loss = 313330.55398770\n",
            "Iteration 194, loss = 312297.56572928\n",
            "Iteration 195, loss = 311650.66108380\n",
            "Iteration 196, loss = 310586.93731987\n",
            "Iteration 197, loss = 311031.60295815\n",
            "Iteration 198, loss = 309973.66454510\n",
            "Iteration 199, loss = 309089.19128312\n",
            "Iteration 200, loss = 308150.47434661\n",
            "Iteration 201, loss = 307842.95663989\n",
            "Iteration 202, loss = 307093.78318489\n",
            "Iteration 203, loss = 306212.71036842\n",
            "Iteration 204, loss = 305857.56939692\n",
            "Iteration 205, loss = 305440.12667616\n",
            "Iteration 206, loss = 304237.53162342\n",
            "Iteration 207, loss = 303432.52528421\n",
            "Iteration 208, loss = 303005.39065971\n",
            "Iteration 209, loss = 302577.97687072\n",
            "Iteration 210, loss = 301659.58494995\n",
            "Iteration 211, loss = 300868.35238615\n",
            "Iteration 212, loss = 300200.73461046\n",
            "Iteration 213, loss = 299761.66595740\n",
            "Iteration 214, loss = 299219.72290002\n",
            "Iteration 215, loss = 298937.14894922\n",
            "Iteration 216, loss = 297908.97740763\n",
            "Iteration 217, loss = 297204.53213160\n",
            "Iteration 218, loss = 296285.97048578\n",
            "Iteration 219, loss = 296222.59428675\n",
            "Iteration 220, loss = 295544.73832677\n",
            "Iteration 221, loss = 294555.77943288\n",
            "Iteration 222, loss = 294494.39215112\n",
            "Iteration 223, loss = 293714.83939709\n",
            "Iteration 224, loss = 293171.29272233\n",
            "Iteration 225, loss = 292189.73814909\n",
            "Iteration 226, loss = 291874.20659167\n",
            "Iteration 227, loss = 291337.79687269\n",
            "Iteration 228, loss = 290677.56195368\n",
            "Iteration 229, loss = 290305.97512172\n",
            "Iteration 230, loss = 289095.42312997\n",
            "Iteration 231, loss = 289339.70720776\n",
            "Iteration 232, loss = 288301.78451408\n",
            "Iteration 233, loss = 287497.81925062\n",
            "Iteration 234, loss = 287629.28432995\n",
            "Iteration 235, loss = 286701.58763575\n",
            "Iteration 236, loss = 286278.15977023\n",
            "Iteration 237, loss = 285535.31603336\n",
            "Iteration 238, loss = 285026.40607450\n",
            "Iteration 239, loss = 284114.11585707\n",
            "Iteration 240, loss = 284260.21033605\n",
            "Iteration 241, loss = 283822.90988574\n",
            "Iteration 242, loss = 283114.99462558\n",
            "Iteration 243, loss = 282496.78403272\n",
            "Iteration 244, loss = 281870.51900039\n",
            "Iteration 245, loss = 281461.10363021\n",
            "Iteration 246, loss = 280528.22409517\n",
            "Iteration 247, loss = 279803.00904104\n",
            "Iteration 248, loss = 279692.56443873\n",
            "Iteration 249, loss = 279638.66911819\n",
            "Iteration 250, loss = 278446.51049267\n",
            "Iteration 251, loss = 277838.18228547\n",
            "Iteration 252, loss = 277579.44337371\n",
            "Iteration 253, loss = 277131.84263314\n",
            "Iteration 254, loss = 276500.21626605\n",
            "Iteration 255, loss = 276218.12278538\n",
            "Iteration 256, loss = 275584.17135686\n",
            "Iteration 257, loss = 275090.25927442\n",
            "Iteration 258, loss = 275012.70442288\n",
            "Iteration 259, loss = 273927.10527780\n",
            "Iteration 260, loss = 273554.31456640\n",
            "Iteration 261, loss = 272911.02253975\n",
            "Iteration 262, loss = 272635.67922218\n",
            "Iteration 263, loss = 272192.87412393\n",
            "Iteration 264, loss = 271577.88389327\n",
            "Iteration 265, loss = 271231.58196496\n",
            "Iteration 266, loss = 270286.60247959\n",
            "Iteration 267, loss = 270035.84364186\n",
            "Iteration 268, loss = 269391.61750750\n",
            "Iteration 269, loss = 269447.62422787\n",
            "Iteration 270, loss = 268701.42535705\n",
            "Iteration 271, loss = 268054.94183175\n",
            "Iteration 272, loss = 267714.62819601\n",
            "Iteration 273, loss = 267504.20761724\n",
            "Iteration 274, loss = 266497.73841746\n",
            "Iteration 275, loss = 266154.01603154\n",
            "Iteration 276, loss = 265713.05420429\n",
            "Iteration 277, loss = 265593.23777344\n",
            "Iteration 278, loss = 265218.00595479\n",
            "Iteration 279, loss = 264560.53269903\n",
            "Iteration 280, loss = 263894.33099209\n",
            "Iteration 281, loss = 263331.13711113\n",
            "Iteration 282, loss = 263330.21456492\n",
            "Iteration 283, loss = 262421.36737704\n",
            "Iteration 284, loss = 262144.45679661\n",
            "Iteration 285, loss = 261927.33668952\n",
            "Iteration 286, loss = 261669.59324980\n",
            "Iteration 287, loss = 261018.11164792\n",
            "Iteration 288, loss = 260660.76988886\n",
            "Iteration 289, loss = 260065.26194358\n",
            "Iteration 290, loss = 259710.37400555\n",
            "Iteration 291, loss = 258911.68050510\n",
            "Iteration 292, loss = 258915.54701770\n",
            "Iteration 293, loss = 258057.58555391\n",
            "Iteration 294, loss = 258282.00025111\n",
            "Iteration 295, loss = 257125.55021310\n",
            "Iteration 296, loss = 256680.15613628\n",
            "Iteration 297, loss = 256544.40103769\n",
            "Iteration 298, loss = 256016.76713321\n",
            "Iteration 299, loss = 255387.19459349\n",
            "Iteration 300, loss = 254698.93492645\n",
            "Iteration 301, loss = 254452.45623028\n",
            "Iteration 302, loss = 254313.98126482\n",
            "Iteration 303, loss = 253444.78803476\n",
            "Iteration 304, loss = 253210.02390080\n",
            "Iteration 305, loss = 252410.05732142\n",
            "Iteration 306, loss = 251918.13710584\n",
            "Iteration 307, loss = 252046.09739761\n",
            "Iteration 308, loss = 251424.60559728\n",
            "Iteration 309, loss = 250601.97013532\n",
            "Iteration 310, loss = 250815.78481380\n",
            "Iteration 311, loss = 249809.51088820\n",
            "Iteration 312, loss = 249215.39246554\n",
            "Iteration 313, loss = 248368.07770284\n",
            "Iteration 314, loss = 248143.77277154\n",
            "Iteration 315, loss = 247442.04659964\n",
            "Iteration 316, loss = 246766.98263474\n",
            "Iteration 317, loss = 246333.55897910\n",
            "Iteration 318, loss = 245724.53259948\n",
            "Iteration 319, loss = 245091.25650466\n",
            "Iteration 320, loss = 244388.06943859\n",
            "Iteration 321, loss = 243997.54233302\n",
            "Iteration 322, loss = 243644.75950243\n",
            "Iteration 323, loss = 242520.72053453\n",
            "Iteration 324, loss = 242371.48642261\n",
            "Iteration 325, loss = 241861.62242736\n",
            "Iteration 326, loss = 241485.58419260\n",
            "Iteration 327, loss = 240920.95550486\n",
            "Iteration 328, loss = 240354.84330409\n",
            "Iteration 329, loss = 239740.24372357\n",
            "Iteration 330, loss = 239176.66555816\n",
            "Iteration 331, loss = 238441.99246405\n",
            "Iteration 332, loss = 237944.33065066\n",
            "Iteration 333, loss = 238032.26891263\n",
            "Iteration 334, loss = 236893.20602552\n",
            "Iteration 335, loss = 236402.10320357\n",
            "Iteration 336, loss = 235890.81783120\n",
            "Iteration 337, loss = 235519.87898570\n",
            "Iteration 338, loss = 234528.09789049\n",
            "Iteration 339, loss = 234324.65994774\n",
            "Iteration 340, loss = 234423.53109138\n",
            "Iteration 341, loss = 233479.17871708\n",
            "Iteration 342, loss = 232408.80051912\n",
            "Iteration 343, loss = 231865.69074311\n",
            "Iteration 344, loss = 231615.31356559\n",
            "Iteration 345, loss = 230883.25419370\n",
            "Iteration 346, loss = 230686.87942367\n",
            "Iteration 347, loss = 229727.83898212\n",
            "Iteration 348, loss = 229554.68886398\n",
            "Iteration 349, loss = 228331.60083669\n",
            "Iteration 350, loss = 228053.12568442\n",
            "Iteration 351, loss = 227505.89802795\n",
            "Iteration 352, loss = 227104.27109452\n",
            "Iteration 353, loss = 226492.90156809\n",
            "Iteration 354, loss = 226212.08242990\n",
            "Iteration 355, loss = 225741.19073210\n",
            "Iteration 356, loss = 225121.54815161\n",
            "Iteration 357, loss = 224716.48408165\n",
            "Iteration 358, loss = 223492.48223467\n",
            "Iteration 359, loss = 223597.65929184\n",
            "Iteration 360, loss = 222896.66591025\n",
            "Iteration 361, loss = 222165.54508929\n",
            "Iteration 362, loss = 221699.05182801\n",
            "Iteration 363, loss = 221790.19537354\n",
            "Iteration 364, loss = 220907.79962426\n",
            "Iteration 365, loss = 220139.53345387\n",
            "Iteration 366, loss = 219841.48561491\n",
            "Iteration 367, loss = 219143.69802821\n",
            "Iteration 368, loss = 218592.06180298\n",
            "Iteration 369, loss = 217952.94902840\n",
            "Iteration 370, loss = 217512.64280561\n",
            "Iteration 371, loss = 217420.39422931\n",
            "Iteration 372, loss = 216480.57636574\n",
            "Iteration 373, loss = 215895.28545584\n",
            "Iteration 374, loss = 215723.48021446\n",
            "Iteration 375, loss = 215045.12788394\n",
            "Iteration 376, loss = 214715.94493953\n",
            "Iteration 377, loss = 214574.62904972\n",
            "Iteration 378, loss = 214342.26073217\n",
            "Iteration 379, loss = 213197.77325228\n",
            "Iteration 380, loss = 212701.29755966\n",
            "Iteration 381, loss = 212545.60082169\n",
            "Iteration 382, loss = 211553.59004224\n",
            "Iteration 383, loss = 211108.89516775\n",
            "Iteration 384, loss = 211814.05294446\n",
            "Iteration 385, loss = 210427.55898556\n",
            "Iteration 386, loss = 210510.57620503\n",
            "Iteration 387, loss = 209508.40843134\n",
            "Iteration 388, loss = 209040.28916709\n",
            "Iteration 389, loss = 208496.87947486\n",
            "Iteration 390, loss = 208082.74760233\n",
            "Iteration 391, loss = 207838.60136382\n",
            "Iteration 392, loss = 206840.83549503\n",
            "Iteration 393, loss = 206869.57143609\n",
            "Iteration 394, loss = 207410.57995528\n",
            "Iteration 395, loss = 205980.40162776\n",
            "Iteration 396, loss = 205435.75432096\n",
            "Iteration 397, loss = 204977.36733295\n",
            "Iteration 398, loss = 204556.85771684\n",
            "Iteration 399, loss = 204156.64803677\n",
            "Iteration 400, loss = 203454.94290325\n",
            "Iteration 401, loss = 203288.76251348\n",
            "Iteration 402, loss = 202776.30886389\n",
            "Iteration 403, loss = 202476.84622403\n",
            "Iteration 404, loss = 201812.00434552\n",
            "Iteration 405, loss = 201434.50768903\n",
            "Iteration 406, loss = 201298.76501718\n",
            "Iteration 407, loss = 200645.90639400\n",
            "Iteration 408, loss = 200977.38242195\n",
            "Iteration 409, loss = 199813.93937150\n",
            "Iteration 410, loss = 199822.13642347\n",
            "Iteration 411, loss = 199707.85918893\n",
            "Iteration 412, loss = 198622.44688716\n",
            "Iteration 413, loss = 197749.31180859\n",
            "Iteration 414, loss = 197995.06654996\n",
            "Iteration 415, loss = 197834.93699968\n",
            "Iteration 416, loss = 196869.08674787\n",
            "Iteration 417, loss = 196404.48022135\n",
            "Iteration 418, loss = 196854.46316463\n",
            "Iteration 419, loss = 195811.57949889\n",
            "Iteration 420, loss = 195408.78343960\n",
            "Iteration 421, loss = 195164.81282950\n",
            "Iteration 422, loss = 194779.96806133\n",
            "Iteration 423, loss = 194188.16850240\n",
            "Iteration 424, loss = 193978.55166990\n",
            "Iteration 425, loss = 194281.08116062\n",
            "Iteration 426, loss = 193017.61241644\n",
            "Iteration 427, loss = 194329.14087096\n",
            "Iteration 428, loss = 191889.09226608\n",
            "Iteration 429, loss = 192197.28486977\n",
            "Iteration 430, loss = 191566.00440736\n",
            "Iteration 431, loss = 191144.63910527\n",
            "Iteration 432, loss = 191381.55029651\n",
            "Iteration 433, loss = 190210.65998255\n",
            "Iteration 434, loss = 190405.32384264\n",
            "Iteration 435, loss = 189747.74060375\n",
            "Iteration 436, loss = 189315.22339615\n",
            "Iteration 437, loss = 188996.88273038\n",
            "Iteration 438, loss = 188614.12654251\n",
            "Iteration 439, loss = 188162.10284658\n",
            "Iteration 440, loss = 187848.37927409\n",
            "Iteration 441, loss = 187605.56770792\n",
            "Iteration 442, loss = 187500.08707010\n",
            "Iteration 443, loss = 187050.23616671\n",
            "Iteration 444, loss = 186065.97494463\n",
            "Iteration 445, loss = 186349.43910961\n",
            "Iteration 446, loss = 185721.20852649\n",
            "Iteration 447, loss = 185329.27543111\n",
            "Iteration 448, loss = 185003.60160697\n",
            "Iteration 449, loss = 184539.04770845\n",
            "Iteration 450, loss = 184528.57162436\n",
            "Iteration 451, loss = 184425.21485127\n",
            "Iteration 452, loss = 183556.12825160\n",
            "Iteration 453, loss = 183890.70622747\n",
            "Iteration 454, loss = 183137.00419642\n",
            "Iteration 455, loss = 182412.47889721\n",
            "Iteration 456, loss = 182866.76503840\n",
            "Iteration 457, loss = 182499.91171775\n",
            "Iteration 458, loss = 181545.99800334\n",
            "Iteration 459, loss = 181476.26790635\n",
            "Iteration 460, loss = 180817.56364232\n",
            "Iteration 461, loss = 180990.57182833\n",
            "Iteration 462, loss = 180723.05179106\n",
            "Iteration 463, loss = 179911.89466903\n",
            "Iteration 464, loss = 179589.83653361\n",
            "Iteration 465, loss = 179329.14807203\n",
            "Iteration 466, loss = 178976.34658522\n",
            "Iteration 467, loss = 178502.57609206\n",
            "Iteration 468, loss = 178684.12298860\n",
            "Iteration 469, loss = 178142.56982238\n",
            "Iteration 470, loss = 177596.22677586\n",
            "Iteration 471, loss = 177325.42633303\n",
            "Iteration 472, loss = 177259.46696177\n",
            "Iteration 473, loss = 176706.16366367\n",
            "Iteration 474, loss = 176427.80962068\n",
            "Iteration 475, loss = 176162.04695251\n",
            "Iteration 476, loss = 176896.01609188\n",
            "Iteration 477, loss = 175868.85164114\n",
            "Iteration 478, loss = 175139.54037548\n",
            "Iteration 479, loss = 174811.65322403\n",
            "Iteration 480, loss = 174477.03491937\n",
            "Iteration 481, loss = 174324.02740337\n",
            "Iteration 482, loss = 173803.93155721\n",
            "Iteration 483, loss = 173745.32906556\n",
            "Iteration 484, loss = 173603.30669588\n",
            "Iteration 485, loss = 173197.49186323\n",
            "Iteration 486, loss = 172598.97620757\n",
            "Iteration 487, loss = 172084.99437978\n",
            "Iteration 488, loss = 173011.05626593\n",
            "Iteration 489, loss = 171471.71232324\n",
            "Iteration 490, loss = 171627.05474369\n",
            "Iteration 491, loss = 171560.52374239\n",
            "Iteration 492, loss = 170536.56002815\n",
            "Iteration 493, loss = 170587.91447956\n",
            "Iteration 494, loss = 170581.29411196\n",
            "Iteration 495, loss = 170207.44233111\n",
            "Iteration 496, loss = 169546.50733350\n",
            "Iteration 497, loss = 169381.03595752\n",
            "Iteration 498, loss = 169469.57439016\n",
            "Iteration 499, loss = 168951.27521808\n",
            "Iteration 500, loss = 168115.90356523\n",
            "Iteration 501, loss = 168643.88990005\n",
            "Iteration 502, loss = 167921.13086297\n",
            "Iteration 503, loss = 167233.71690227\n",
            "Iteration 504, loss = 166964.47603836\n",
            "Iteration 505, loss = 166799.60700689\n",
            "Iteration 506, loss = 166737.30439719\n",
            "Iteration 507, loss = 166007.34602613\n",
            "Iteration 508, loss = 166027.70022035\n",
            "Iteration 509, loss = 166062.02709464\n",
            "Iteration 510, loss = 165091.48795412\n",
            "Iteration 511, loss = 165532.14321505\n",
            "Iteration 512, loss = 165442.53395751\n",
            "Iteration 513, loss = 164485.39806541\n",
            "Iteration 514, loss = 164460.28093501\n",
            "Iteration 515, loss = 164250.37289812\n",
            "Iteration 516, loss = 164025.14611073\n",
            "Iteration 517, loss = 163887.54654626\n",
            "Iteration 518, loss = 163433.92826434\n",
            "Iteration 519, loss = 162849.95245670\n",
            "Iteration 520, loss = 162662.68518076\n",
            "Iteration 521, loss = 162343.52219055\n",
            "Iteration 522, loss = 162532.37914706\n",
            "Iteration 523, loss = 161940.85342309\n",
            "Iteration 524, loss = 162277.74016121\n",
            "Iteration 525, loss = 161552.81602224\n",
            "Iteration 526, loss = 160944.22956085\n",
            "Iteration 527, loss = 161036.13781900\n",
            "Iteration 528, loss = 160878.90853389\n",
            "Iteration 529, loss = 160529.39854737\n",
            "Iteration 530, loss = 159702.86004599\n",
            "Iteration 531, loss = 159514.45532883\n",
            "Iteration 532, loss = 159634.54385395\n",
            "Iteration 533, loss = 159874.38088036\n",
            "Iteration 534, loss = 158922.80883479\n",
            "Iteration 535, loss = 158657.29162855\n",
            "Iteration 536, loss = 158625.64563227\n",
            "Iteration 537, loss = 158037.95620328\n",
            "Iteration 538, loss = 158390.71984095\n",
            "Iteration 539, loss = 157802.59439842\n",
            "Iteration 540, loss = 157578.31674392\n",
            "Iteration 541, loss = 157089.23294431\n",
            "Iteration 542, loss = 157255.32114563\n",
            "Iteration 543, loss = 156376.11560428\n",
            "Iteration 544, loss = 156327.08088778\n",
            "Iteration 545, loss = 156567.30822752\n",
            "Iteration 546, loss = 156239.79503598\n",
            "Iteration 547, loss = 155627.07940737\n",
            "Iteration 548, loss = 155987.98772471\n",
            "Iteration 549, loss = 155471.66773260\n",
            "Iteration 550, loss = 155886.67388370\n",
            "Iteration 551, loss = 155515.43329959\n",
            "Iteration 552, loss = 154858.18499967\n",
            "Iteration 553, loss = 154456.70188708\n",
            "Iteration 554, loss = 154810.57051416\n",
            "Iteration 555, loss = 153788.20634480\n",
            "Iteration 556, loss = 153940.03336902\n",
            "Iteration 557, loss = 153996.76204459\n",
            "Iteration 558, loss = 153520.90400707\n",
            "Iteration 559, loss = 153095.76253856\n",
            "Iteration 560, loss = 153895.00322788\n",
            "Iteration 561, loss = 153341.93572902\n",
            "Iteration 562, loss = 152638.76180053\n",
            "Iteration 563, loss = 152614.66940440\n"
          ]
        }
      ],
      "source": [
        "mlp_model = MLPRegressor(hidden_layer_sizes=(150, 50), activation='relu', solver='adam', max_iter=1000, verbose=True)\n",
        "mlp_model.fit(X1_train, y1_train)"
      ]
    },
    {
      "cell_type": "code",
      "execution_count": null,
      "metadata": {
        "colab": {
          "base_uri": "https://localhost:8080/"
        },
        "outputId": "6bad02df-964d-4f70-931e-dbaea989e11f",
        "id": "ThokbSq_z50s"
      },
      "outputs": [
        {
          "output_type": "execute_result",
          "data": {
            "text/plain": [
              "(0.9754042863079159, 0.9743188991353846)"
            ]
          },
          "metadata": {},
          "execution_count": 112
        }
      ],
      "source": [
        "mlp_model.score(X1_train, y1_train), model.score(X1_test, y1_test)"
      ]
    },
    {
      "cell_type": "code",
      "execution_count": null,
      "metadata": {
        "id": "wkhz7vFqz50u"
      },
      "outputs": [],
      "source": [
        "y_pred = mlp_model.predict(X1_test)"
      ]
    },
    {
      "cell_type": "code",
      "execution_count": null,
      "metadata": {
        "colab": {
          "base_uri": "https://localhost:8080/"
        },
        "outputId": "e214a6d9-2e63-4801-bc07-f61265d2cc24",
        "id": "GxGZIwLuz50v"
      },
      "outputs": [
        {
          "output_type": "execute_result",
          "data": {
            "text/plain": [
              "618.4545969546472"
            ]
          },
          "metadata": {},
          "execution_count": 114
        }
      ],
      "source": [
        "RMSE_mlp = mean_squared_error(y1_test, y_pred, squared=False)\n",
        "RMSE_mlp"
      ]
    },
    {
      "cell_type": "markdown",
      "source": [
        "data 2"
      ],
      "metadata": {
        "id": "y4e1Oecgpm8r"
      }
    },
    {
      "cell_type": "code",
      "execution_count": null,
      "metadata": {
        "id": "4HIiIBZtpa3R"
      },
      "outputs": [],
      "source": [
        "model = MLPRegressor(hidden_layer_sizes=(150, 50), activation='relu', solver='adam', max_iter=1000, verbose=True)\n",
        "model.fit(X2_train, y2_train)"
      ]
    },
    {
      "cell_type": "code",
      "execution_count": null,
      "metadata": {
        "colab": {
          "base_uri": "https://localhost:8080/"
        },
        "outputId": "a6a75f25-4216-48fc-d2f1-4b3e2b71f577",
        "id": "2NZablzVpa4J"
      },
      "outputs": [
        {
          "output_type": "execute_result",
          "data": {
            "text/plain": [
              "(0.9729884031428867, 0.9715447663250616)"
            ]
          },
          "metadata": {},
          "execution_count": 84
        }
      ],
      "source": [
        "model.score(X2_train, y2_train), model.score(X2_test, y2_test)"
      ]
    },
    {
      "cell_type": "code",
      "execution_count": null,
      "metadata": {
        "id": "XidP9Otppa4K"
      },
      "outputs": [],
      "source": [
        "y_pred = model.predict(X2_test)"
      ]
    },
    {
      "cell_type": "code",
      "execution_count": null,
      "metadata": {
        "colab": {
          "base_uri": "https://localhost:8080/"
        },
        "outputId": "81285122-c94f-4dad-eaeb-32d73bf2a26e",
        "id": "qmK23VZ-pa4K"
      },
      "outputs": [
        {
          "output_type": "execute_result",
          "data": {
            "text/plain": [
              "403.20493968516047"
            ]
          },
          "metadata": {},
          "execution_count": 86
        }
      ],
      "source": [
        "RMSE_mlp = mean_squared_error(y2_test, y_pred, squared=False)\n",
        "RMSE_mlp"
      ]
    },
    {
      "cell_type": "markdown",
      "source": [
        "Data 3"
      ],
      "metadata": {
        "id": "iSNSNviG3PQH"
      }
    },
    {
      "cell_type": "code",
      "execution_count": null,
      "metadata": {
        "colab": {
          "base_uri": "https://localhost:8080/",
          "height": 1000
        },
        "outputId": "b0ca65cf-4603-4ffb-dac8-b95db7f22cc0",
        "id": "JG9WBMW-3Q_n"
      },
      "outputs": [
        {
          "output_type": "stream",
          "name": "stdout",
          "text": [
            "Iteration 1, loss = 14951251.47658106\n",
            "Iteration 2, loss = 7549255.32416021\n",
            "Iteration 3, loss = 1980869.75695102\n",
            "Iteration 4, loss = 1088109.63749829\n",
            "Iteration 5, loss = 768629.66509598\n",
            "Iteration 6, loss = 657132.36413023\n",
            "Iteration 7, loss = 617471.18580102\n",
            "Iteration 8, loss = 596653.60303730\n",
            "Iteration 9, loss = 583371.37300576\n",
            "Iteration 10, loss = 571203.07836741\n",
            "Iteration 11, loss = 561155.53468679\n",
            "Iteration 12, loss = 552197.53696803\n",
            "Iteration 13, loss = 543109.29690380\n",
            "Iteration 14, loss = 534113.30496528\n",
            "Iteration 15, loss = 525553.79123066\n",
            "Iteration 16, loss = 517715.26241425\n",
            "Iteration 17, loss = 510585.90371837\n",
            "Iteration 18, loss = 502522.90623411\n",
            "Iteration 19, loss = 494945.27039262\n",
            "Iteration 20, loss = 487633.11012348\n",
            "Iteration 21, loss = 481458.69984656\n",
            "Iteration 22, loss = 474841.85356806\n",
            "Iteration 23, loss = 469174.12201152\n",
            "Iteration 24, loss = 463415.71396665\n",
            "Iteration 25, loss = 457159.69505830\n",
            "Iteration 26, loss = 452317.93901068\n",
            "Iteration 27, loss = 446305.59423578\n",
            "Iteration 28, loss = 441139.44265233\n",
            "Iteration 29, loss = 435183.82687233\n",
            "Iteration 30, loss = 430599.28318157\n",
            "Iteration 31, loss = 425792.29086204\n",
            "Iteration 32, loss = 420876.28967400\n",
            "Iteration 33, loss = 416128.50000881\n",
            "Iteration 34, loss = 411249.21522619\n",
            "Iteration 35, loss = 406866.47603188\n",
            "Iteration 36, loss = 403266.72673278\n",
            "Iteration 37, loss = 399708.92561831\n",
            "Iteration 38, loss = 394326.85009655\n",
            "Iteration 39, loss = 391554.92729703\n",
            "Iteration 40, loss = 387931.67023530\n",
            "Iteration 41, loss = 385774.39732372\n",
            "Iteration 42, loss = 382667.56573445\n",
            "Iteration 43, loss = 380197.59092420\n",
            "Iteration 44, loss = 377677.42993078\n",
            "Iteration 45, loss = 376021.09795849\n",
            "Iteration 46, loss = 374827.55404295\n",
            "Iteration 47, loss = 372190.60507224\n",
            "Iteration 48, loss = 371106.64400339\n",
            "Iteration 49, loss = 369681.19628953\n",
            "Iteration 50, loss = 368224.36901172\n",
            "Iteration 51, loss = 366737.73494341\n",
            "Iteration 52, loss = 365281.63254621\n",
            "Iteration 53, loss = 363614.53812925\n",
            "Iteration 54, loss = 363563.30951330\n",
            "Iteration 55, loss = 361910.26404617\n",
            "Iteration 56, loss = 361154.57872454\n",
            "Iteration 57, loss = 359775.16138654\n",
            "Iteration 58, loss = 359379.99410926\n",
            "Iteration 59, loss = 357536.67409389\n",
            "Iteration 60, loss = 357044.83044298\n",
            "Iteration 61, loss = 355875.11791616\n",
            "Iteration 62, loss = 355361.27836181\n",
            "Iteration 63, loss = 354935.22700911\n",
            "Iteration 64, loss = 353466.00270894\n",
            "Iteration 65, loss = 353013.04834846\n",
            "Iteration 66, loss = 350910.82061127\n",
            "Iteration 67, loss = 350161.03335276\n",
            "Iteration 68, loss = 348882.20737028\n",
            "Iteration 69, loss = 347324.75481759\n",
            "Iteration 70, loss = 346954.46649752\n",
            "Iteration 71, loss = 345107.83352660\n",
            "Iteration 72, loss = 343235.45014966\n",
            "Iteration 73, loss = 340580.23488964\n",
            "Iteration 74, loss = 338777.27534087\n",
            "Iteration 75, loss = 336752.81941472\n",
            "Iteration 76, loss = 334932.28921796\n",
            "Iteration 77, loss = 331931.42335179\n",
            "Iteration 78, loss = 328876.51327498\n",
            "Iteration 79, loss = 326936.26655206\n",
            "Iteration 80, loss = 322065.92570685\n",
            "Iteration 81, loss = 317491.76618012\n",
            "Iteration 82, loss = 311949.76195389\n",
            "Iteration 83, loss = 307483.53035107\n",
            "Iteration 84, loss = 302888.65783343\n",
            "Iteration 85, loss = 296508.98137450\n",
            "Iteration 86, loss = 292268.90812242\n",
            "Iteration 87, loss = 287587.62762560\n",
            "Iteration 88, loss = 284050.14954143\n",
            "Iteration 89, loss = 281436.78206282\n",
            "Iteration 90, loss = 278525.72974167\n",
            "Iteration 91, loss = 276766.11320344\n",
            "Iteration 92, loss = 275168.82335470\n",
            "Iteration 93, loss = 273497.12075150\n",
            "Iteration 94, loss = 272524.32888095\n",
            "Iteration 95, loss = 270239.01499356\n",
            "Iteration 96, loss = 269054.10804260\n",
            "Iteration 97, loss = 268634.41316686\n",
            "Iteration 98, loss = 266469.01277767\n",
            "Iteration 99, loss = 265517.86677907\n",
            "Iteration 100, loss = 264236.58128988\n",
            "Iteration 101, loss = 263354.28778918\n",
            "Iteration 102, loss = 261218.87994509\n",
            "Iteration 103, loss = 260892.97907883\n",
            "Iteration 104, loss = 258792.37456272\n",
            "Iteration 105, loss = 258947.95729699\n",
            "Iteration 106, loss = 256615.19372969\n",
            "Iteration 107, loss = 255705.30378538\n",
            "Iteration 108, loss = 254614.53505469\n",
            "Iteration 109, loss = 253084.94295905\n",
            "Iteration 110, loss = 251758.53606721\n",
            "Iteration 111, loss = 251861.46646880\n",
            "Iteration 112, loss = 249486.73607512\n",
            "Iteration 113, loss = 250235.24662474\n",
            "Iteration 114, loss = 247713.27695945\n",
            "Iteration 115, loss = 246228.73339113\n",
            "Iteration 116, loss = 246240.12145576\n",
            "Iteration 117, loss = 244023.22532130\n",
            "Iteration 118, loss = 244056.83753200\n",
            "Iteration 119, loss = 242416.00798630\n",
            "Iteration 120, loss = 240760.60818808\n",
            "Iteration 121, loss = 240191.98555160\n",
            "Iteration 122, loss = 239700.63755047\n",
            "Iteration 123, loss = 238709.76961083\n",
            "Iteration 124, loss = 237239.77689774\n",
            "Iteration 125, loss = 236846.19414669\n",
            "Iteration 126, loss = 235799.43288723\n",
            "Iteration 127, loss = 233891.15832142\n",
            "Iteration 128, loss = 233337.35511582\n",
            "Iteration 129, loss = 232250.59955761\n",
            "Iteration 130, loss = 231850.91202800\n",
            "Iteration 131, loss = 230993.17942850\n",
            "Iteration 132, loss = 230477.00720082\n",
            "Iteration 133, loss = 229596.66983690\n",
            "Iteration 134, loss = 228048.56063497\n",
            "Iteration 135, loss = 227154.34699003\n",
            "Iteration 136, loss = 225878.57496916\n",
            "Iteration 137, loss = 226064.40499939\n",
            "Iteration 138, loss = 224854.30432523\n",
            "Iteration 139, loss = 224463.33764115\n",
            "Iteration 140, loss = 223556.34315057\n",
            "Iteration 141, loss = 223168.32252606\n",
            "Iteration 142, loss = 222026.73170381\n",
            "Iteration 143, loss = 221740.43691542\n",
            "Iteration 144, loss = 221570.16003783\n",
            "Iteration 145, loss = 220512.70017557\n",
            "Iteration 146, loss = 219363.47102017\n",
            "Iteration 147, loss = 218776.96528488\n",
            "Iteration 148, loss = 217971.46646255\n",
            "Iteration 149, loss = 217985.78618146\n",
            "Iteration 150, loss = 217077.43422313\n",
            "Iteration 151, loss = 215897.02400249\n",
            "Iteration 152, loss = 216069.98813218\n",
            "Iteration 153, loss = 216687.84976511\n",
            "Iteration 154, loss = 215793.15635921\n",
            "Iteration 155, loss = 214545.17318570\n",
            "Iteration 156, loss = 214894.28148746\n",
            "Iteration 157, loss = 213478.72194860\n",
            "Iteration 158, loss = 213170.17359735\n",
            "Iteration 159, loss = 213776.55981472\n",
            "Iteration 160, loss = 212259.77442801\n",
            "Iteration 161, loss = 211651.34466819\n",
            "Iteration 162, loss = 211570.06257973\n",
            "Iteration 163, loss = 210430.70271007\n",
            "Iteration 164, loss = 210972.35477572\n",
            "Iteration 165, loss = 209708.11355877\n",
            "Iteration 166, loss = 210159.19212865\n",
            "Iteration 167, loss = 209463.85344492\n",
            "Iteration 168, loss = 208911.91866407\n",
            "Iteration 169, loss = 207940.26478567\n",
            "Iteration 170, loss = 208131.85066407\n",
            "Iteration 171, loss = 207594.56802862\n",
            "Iteration 172, loss = 207773.58592711\n",
            "Iteration 173, loss = 206761.05392946\n",
            "Iteration 174, loss = 206193.99614743\n",
            "Iteration 175, loss = 206114.84143032\n",
            "Iteration 176, loss = 205786.27935146\n",
            "Iteration 177, loss = 206063.18686279\n",
            "Iteration 178, loss = 204564.77737382\n",
            "Iteration 179, loss = 204971.78632600\n",
            "Iteration 180, loss = 204530.78971588\n",
            "Iteration 181, loss = 204403.50130409\n",
            "Iteration 182, loss = 203753.87398134\n",
            "Iteration 183, loss = 203329.41666836\n",
            "Iteration 184, loss = 203387.18969077\n",
            "Iteration 185, loss = 202421.60766393\n",
            "Iteration 186, loss = 202755.75905277\n",
            "Iteration 187, loss = 202620.34628752\n",
            "Iteration 188, loss = 202613.23111879\n",
            "Iteration 189, loss = 201014.95183790\n",
            "Iteration 190, loss = 200682.44651859\n",
            "Iteration 191, loss = 200354.81803051\n",
            "Iteration 192, loss = 199995.11304315\n",
            "Iteration 193, loss = 200226.59099512\n",
            "Iteration 194, loss = 199222.19810825\n",
            "Iteration 195, loss = 199296.98661865\n",
            "Iteration 196, loss = 199168.66642814\n",
            "Iteration 197, loss = 198547.54315361\n",
            "Iteration 198, loss = 198498.47219330\n",
            "Iteration 199, loss = 198744.15967229\n",
            "Iteration 200, loss = 197800.81805012\n",
            "Iteration 201, loss = 197893.13100818\n",
            "Iteration 202, loss = 198160.17269536\n",
            "Iteration 203, loss = 197439.53436487\n",
            "Iteration 204, loss = 196749.95577289\n",
            "Iteration 205, loss = 196978.62265835\n",
            "Iteration 206, loss = 196309.14239976\n",
            "Iteration 207, loss = 196114.18876434\n",
            "Iteration 208, loss = 195386.43701529\n",
            "Iteration 209, loss = 195958.99041897\n",
            "Iteration 210, loss = 195445.12388301\n",
            "Iteration 211, loss = 195113.41864261\n",
            "Iteration 212, loss = 194827.18510114\n",
            "Iteration 213, loss = 194372.05874556\n",
            "Iteration 214, loss = 194387.01894476\n",
            "Iteration 215, loss = 194320.24129459\n",
            "Iteration 216, loss = 193727.37630644\n",
            "Iteration 217, loss = 194037.58236761\n",
            "Iteration 218, loss = 193713.09246950\n",
            "Iteration 219, loss = 193400.42184540\n",
            "Iteration 220, loss = 193205.46756357\n",
            "Iteration 221, loss = 192441.94482011\n",
            "Iteration 222, loss = 193016.80512423\n",
            "Iteration 223, loss = 192858.89327230\n",
            "Iteration 224, loss = 191710.81507084\n",
            "Iteration 225, loss = 191522.06857769\n",
            "Iteration 226, loss = 191169.16441493\n",
            "Iteration 227, loss = 191824.10615176\n",
            "Iteration 228, loss = 191159.01006857\n",
            "Iteration 229, loss = 190870.32397185\n",
            "Iteration 230, loss = 191315.15850486\n",
            "Iteration 231, loss = 190406.79171688\n",
            "Iteration 232, loss = 190553.21789298\n",
            "Iteration 233, loss = 190360.40820928\n",
            "Iteration 234, loss = 189768.79005734\n",
            "Iteration 235, loss = 190244.28083583\n",
            "Iteration 236, loss = 189713.70843754\n",
            "Iteration 237, loss = 189777.22888899\n",
            "Iteration 238, loss = 189677.31106121\n",
            "Iteration 239, loss = 188686.47068910\n",
            "Iteration 240, loss = 188770.01592887\n",
            "Iteration 241, loss = 188793.87194169\n",
            "Iteration 242, loss = 188560.55165023\n",
            "Iteration 243, loss = 188545.24158861\n",
            "Iteration 244, loss = 188330.56276253\n",
            "Iteration 245, loss = 188207.40029025\n",
            "Iteration 246, loss = 187753.81968483\n",
            "Iteration 247, loss = 187899.45503417\n",
            "Iteration 248, loss = 187574.01792693\n",
            "Iteration 249, loss = 187613.77634900\n",
            "Iteration 250, loss = 187249.79110733\n",
            "Iteration 251, loss = 186900.75192742\n",
            "Iteration 252, loss = 187249.12630358\n",
            "Iteration 253, loss = 186759.76001002\n",
            "Iteration 254, loss = 187099.02286218\n",
            "Iteration 255, loss = 186119.02437355\n",
            "Iteration 256, loss = 185926.86504596\n",
            "Iteration 257, loss = 187349.99654943\n",
            "Iteration 258, loss = 186218.41074998\n",
            "Iteration 259, loss = 185500.77062469\n",
            "Iteration 260, loss = 186409.66765693\n",
            "Iteration 261, loss = 185368.59233423\n",
            "Iteration 262, loss = 185787.50554208\n",
            "Iteration 263, loss = 185526.38938108\n",
            "Iteration 264, loss = 184815.87466835\n",
            "Iteration 265, loss = 184756.30849385\n",
            "Iteration 266, loss = 185323.03739979\n",
            "Iteration 267, loss = 184566.30887968\n",
            "Iteration 268, loss = 184617.69728869\n",
            "Iteration 269, loss = 184333.42756607\n",
            "Iteration 270, loss = 183829.96606817\n",
            "Iteration 271, loss = 184477.00144427\n",
            "Iteration 272, loss = 184217.98255533\n",
            "Iteration 273, loss = 183720.43429925\n",
            "Iteration 274, loss = 183501.84987370\n",
            "Iteration 275, loss = 183424.56769911\n",
            "Iteration 276, loss = 183787.12820265\n",
            "Iteration 277, loss = 183564.58919522\n",
            "Iteration 278, loss = 182367.08428509\n",
            "Iteration 279, loss = 182415.85918113\n",
            "Iteration 280, loss = 182817.18110922\n",
            "Iteration 281, loss = 182829.68340069\n",
            "Iteration 282, loss = 182277.31314575\n",
            "Iteration 283, loss = 182904.78145430\n",
            "Iteration 284, loss = 182412.44627185\n",
            "Iteration 285, loss = 182180.18735461\n",
            "Iteration 286, loss = 181998.43380820\n",
            "Iteration 287, loss = 181700.79830777\n",
            "Iteration 288, loss = 181600.49094324\n",
            "Iteration 289, loss = 181093.65550343\n",
            "Iteration 290, loss = 181609.22902203\n",
            "Iteration 291, loss = 181076.50042284\n",
            "Iteration 292, loss = 181317.75153713\n",
            "Iteration 293, loss = 181128.90146414\n",
            "Iteration 294, loss = 181474.46859449\n",
            "Iteration 295, loss = 181246.56642511\n",
            "Iteration 296, loss = 180543.48975924\n",
            "Iteration 297, loss = 180639.80694706\n",
            "Iteration 298, loss = 180318.30597282\n",
            "Iteration 299, loss = 180300.52498915\n",
            "Iteration 300, loss = 179868.07594701\n",
            "Iteration 301, loss = 179832.65786706\n",
            "Iteration 302, loss = 179835.18091692\n",
            "Iteration 303, loss = 180077.31011569\n",
            "Iteration 304, loss = 179574.36863569\n",
            "Iteration 305, loss = 179839.15713573\n",
            "Iteration 306, loss = 180221.29805340\n",
            "Iteration 307, loss = 179679.46573182\n",
            "Iteration 308, loss = 179220.39324385\n",
            "Iteration 309, loss = 178682.76331305\n",
            "Iteration 310, loss = 178793.84338401\n",
            "Iteration 311, loss = 178515.87363800\n",
            "Iteration 312, loss = 178607.82467665\n",
            "Iteration 313, loss = 178992.57313472\n",
            "Iteration 314, loss = 178436.94894128\n",
            "Iteration 315, loss = 179366.65202062\n",
            "Iteration 316, loss = 178439.00905197\n",
            "Iteration 317, loss = 178728.83017575\n",
            "Iteration 318, loss = 178189.19412754\n",
            "Iteration 319, loss = 177783.97641848\n",
            "Iteration 320, loss = 178137.52009008\n",
            "Iteration 321, loss = 177508.86825266\n",
            "Iteration 322, loss = 177650.06778397\n",
            "Iteration 323, loss = 177154.90744422\n",
            "Iteration 324, loss = 177332.30444039\n",
            "Iteration 325, loss = 177788.76480566\n",
            "Iteration 326, loss = 177002.76504170\n",
            "Iteration 327, loss = 177212.22009282\n",
            "Iteration 328, loss = 176937.95838648\n",
            "Iteration 329, loss = 177025.28761262\n",
            "Iteration 330, loss = 176610.54282767\n",
            "Iteration 331, loss = 176606.59128665\n",
            "Iteration 332, loss = 176596.67394020\n",
            "Iteration 333, loss = 176498.85383650\n",
            "Iteration 334, loss = 176427.97832937\n",
            "Iteration 335, loss = 175947.62816821\n",
            "Iteration 336, loss = 175773.34750789\n",
            "Iteration 337, loss = 176321.63134514\n",
            "Iteration 338, loss = 176229.30378469\n",
            "Iteration 339, loss = 176230.35630406\n",
            "Iteration 340, loss = 175481.29741767\n",
            "Iteration 341, loss = 175389.32007268\n",
            "Iteration 342, loss = 175064.88475413\n",
            "Iteration 343, loss = 175698.16669970\n",
            "Iteration 344, loss = 175029.64544481\n",
            "Iteration 345, loss = 174718.34285883\n",
            "Iteration 346, loss = 174942.40970004\n",
            "Iteration 347, loss = 175179.77767911\n",
            "Iteration 348, loss = 175251.89815896\n",
            "Iteration 349, loss = 174772.54574476\n",
            "Iteration 350, loss = 174655.17319037\n",
            "Iteration 351, loss = 174251.19115958\n",
            "Iteration 352, loss = 174064.76198155\n",
            "Iteration 353, loss = 173701.72537044\n",
            "Iteration 354, loss = 175160.02566515\n",
            "Iteration 355, loss = 174895.44475618\n",
            "Iteration 356, loss = 173852.56753314\n",
            "Iteration 357, loss = 173448.75112291\n",
            "Iteration 358, loss = 173815.34700848\n",
            "Iteration 359, loss = 173399.16752211\n",
            "Iteration 360, loss = 173303.56366504\n",
            "Iteration 361, loss = 173950.03665979\n",
            "Iteration 362, loss = 172932.67622915\n",
            "Iteration 363, loss = 173187.20106864\n",
            "Iteration 364, loss = 173052.75284809\n",
            "Iteration 365, loss = 172952.52842523\n",
            "Iteration 366, loss = 172961.23363921\n",
            "Iteration 367, loss = 171684.80707282\n",
            "Iteration 368, loss = 172578.19597331\n",
            "Iteration 369, loss = 172781.17550102\n",
            "Iteration 370, loss = 172078.09348605\n",
            "Iteration 371, loss = 172254.36029468\n",
            "Iteration 372, loss = 171894.70341247\n",
            "Iteration 373, loss = 172453.93540010\n",
            "Iteration 374, loss = 172361.56361400\n",
            "Iteration 375, loss = 172227.41574604\n",
            "Iteration 376, loss = 171888.98815928\n",
            "Iteration 377, loss = 171532.68977120\n",
            "Iteration 378, loss = 170772.15054888\n",
            "Iteration 379, loss = 171516.20831087\n",
            "Iteration 380, loss = 171105.21365954\n",
            "Iteration 381, loss = 171117.24965014\n",
            "Iteration 382, loss = 171980.47895347\n",
            "Iteration 383, loss = 171778.23367869\n",
            "Iteration 384, loss = 170925.82818730\n",
            "Iteration 385, loss = 170796.84713267\n",
            "Iteration 386, loss = 170442.20263908\n",
            "Iteration 387, loss = 170653.43116029\n",
            "Iteration 388, loss = 170496.94603397\n",
            "Iteration 389, loss = 170025.65975707\n",
            "Iteration 390, loss = 170674.71966985\n",
            "Iteration 391, loss = 170619.22228048\n",
            "Iteration 392, loss = 170820.10758035\n",
            "Iteration 393, loss = 170596.93872022\n",
            "Iteration 394, loss = 170146.87544105\n",
            "Iteration 395, loss = 169837.81941636\n",
            "Iteration 396, loss = 169886.94050608\n",
            "Iteration 397, loss = 169280.60575910\n",
            "Iteration 398, loss = 169413.25286946\n",
            "Iteration 399, loss = 169591.36947505\n",
            "Iteration 400, loss = 169536.41248382\n",
            "Iteration 401, loss = 170331.71733922\n",
            "Iteration 402, loss = 168996.60429301\n",
            "Iteration 403, loss = 169497.31112097\n",
            "Iteration 404, loss = 169291.12443307\n",
            "Iteration 405, loss = 169016.03129591\n",
            "Iteration 406, loss = 169061.03326109\n",
            "Iteration 407, loss = 168814.12503969\n",
            "Iteration 408, loss = 168741.87434930\n",
            "Iteration 409, loss = 168957.86222073\n",
            "Iteration 410, loss = 169255.65126670\n",
            "Iteration 411, loss = 167663.38666896\n",
            "Iteration 412, loss = 168609.84362237\n",
            "Iteration 413, loss = 168101.06552006\n",
            "Iteration 414, loss = 168437.44420383\n",
            "Iteration 415, loss = 168406.73580691\n",
            "Iteration 416, loss = 168121.51184669\n",
            "Iteration 417, loss = 167968.30639700\n",
            "Iteration 418, loss = 167934.32306665\n",
            "Iteration 419, loss = 167646.53840185\n",
            "Iteration 420, loss = 168100.41287749\n",
            "Iteration 421, loss = 167128.20953902\n",
            "Iteration 422, loss = 167900.81404717\n",
            "Iteration 423, loss = 168666.71671404\n",
            "Iteration 424, loss = 168389.98373819\n",
            "Iteration 425, loss = 167705.95346348\n",
            "Iteration 426, loss = 168001.34984018\n",
            "Iteration 427, loss = 167430.99853259\n",
            "Iteration 428, loss = 167421.13817997\n",
            "Iteration 429, loss = 166764.39914447\n",
            "Iteration 430, loss = 167661.03718623\n",
            "Iteration 431, loss = 167419.65787472\n",
            "Iteration 432, loss = 166612.85475451\n",
            "Iteration 433, loss = 166946.24521467\n",
            "Iteration 434, loss = 166351.42488052\n",
            "Iteration 435, loss = 166469.93737236\n",
            "Iteration 436, loss = 166372.35576476\n",
            "Iteration 437, loss = 166949.00414120\n",
            "Iteration 438, loss = 166360.56619704\n",
            "Iteration 439, loss = 165904.13478709\n",
            "Iteration 440, loss = 166645.04450317\n",
            "Iteration 441, loss = 166232.97958141\n",
            "Iteration 442, loss = 166534.08223404\n",
            "Iteration 443, loss = 165850.08171652\n",
            "Iteration 444, loss = 166315.46848502\n",
            "Iteration 445, loss = 165811.38909673\n",
            "Iteration 446, loss = 165978.43701318\n",
            "Iteration 447, loss = 165629.96125829\n",
            "Iteration 448, loss = 166348.40871763\n",
            "Iteration 449, loss = 166450.20679578\n",
            "Iteration 450, loss = 165112.83845294\n",
            "Iteration 451, loss = 165407.22498799\n",
            "Iteration 452, loss = 164673.34783154\n",
            "Iteration 453, loss = 165272.10216103\n",
            "Iteration 454, loss = 164544.10566571\n",
            "Iteration 455, loss = 164365.82294136\n",
            "Iteration 456, loss = 164356.06443599\n",
            "Iteration 457, loss = 164504.32446034\n",
            "Iteration 458, loss = 164612.62236845\n",
            "Iteration 459, loss = 164622.34823807\n",
            "Iteration 460, loss = 164480.31172352\n",
            "Iteration 461, loss = 164311.26838945\n",
            "Iteration 462, loss = 165009.49995880\n",
            "Iteration 463, loss = 164533.26917726\n",
            "Iteration 464, loss = 165063.22137698\n",
            "Iteration 465, loss = 163998.40330218\n",
            "Iteration 466, loss = 164010.82106892\n",
            "Iteration 467, loss = 163855.18355193\n",
            "Iteration 468, loss = 163724.29412251\n",
            "Iteration 469, loss = 163964.06007647\n",
            "Iteration 470, loss = 163761.14506065\n",
            "Iteration 471, loss = 163215.86643066\n",
            "Iteration 472, loss = 163648.90327645\n",
            "Iteration 473, loss = 163405.62396914\n",
            "Iteration 474, loss = 163708.91010442\n",
            "Iteration 475, loss = 163703.52083200\n",
            "Iteration 476, loss = 163801.47648513\n",
            "Iteration 477, loss = 163600.69998578\n",
            "Iteration 478, loss = 163077.01722601\n",
            "Iteration 479, loss = 162952.80759562\n",
            "Iteration 480, loss = 163466.38617074\n",
            "Iteration 481, loss = 162803.42352315\n",
            "Iteration 482, loss = 162775.41480485\n",
            "Iteration 483, loss = 163715.37085460\n",
            "Iteration 484, loss = 163388.70284103\n",
            "Iteration 485, loss = 162810.18760123\n",
            "Iteration 486, loss = 162861.33017002\n",
            "Iteration 487, loss = 162631.67365152\n",
            "Iteration 488, loss = 162639.06188592\n",
            "Iteration 489, loss = 162294.90128345\n",
            "Iteration 490, loss = 162499.78718915\n",
            "Iteration 491, loss = 162419.71877086\n",
            "Iteration 492, loss = 162262.78069415\n",
            "Iteration 493, loss = 162358.29543898\n",
            "Iteration 494, loss = 162202.89744034\n",
            "Iteration 495, loss = 162468.25080275\n",
            "Iteration 496, loss = 162350.93885852\n",
            "Iteration 497, loss = 162318.29177886\n",
            "Iteration 498, loss = 161524.86471799\n",
            "Iteration 499, loss = 162278.88638379\n",
            "Iteration 500, loss = 161697.32845468\n",
            "Iteration 501, loss = 161748.11046348\n",
            "Iteration 502, loss = 161355.72879668\n",
            "Iteration 503, loss = 161260.57520829\n",
            "Iteration 504, loss = 161530.20707697\n",
            "Iteration 505, loss = 160763.01477008\n",
            "Iteration 506, loss = 160926.01738385\n",
            "Iteration 507, loss = 160759.15844031\n",
            "Iteration 508, loss = 161816.11442881\n",
            "Iteration 509, loss = 160669.31916682\n",
            "Iteration 510, loss = 160830.52821787\n",
            "Iteration 511, loss = 161262.10642251\n",
            "Iteration 512, loss = 161753.89901710\n",
            "Iteration 513, loss = 160757.30159411\n",
            "Iteration 514, loss = 160996.56248445\n",
            "Iteration 515, loss = 160510.97589150\n",
            "Iteration 516, loss = 161245.00040153\n",
            "Iteration 517, loss = 160531.10200804\n",
            "Iteration 518, loss = 161511.01426819\n",
            "Iteration 519, loss = 160716.29205597\n",
            "Iteration 520, loss = 160242.26650767\n",
            "Iteration 521, loss = 160869.16132391\n",
            "Iteration 522, loss = 160453.35789254\n",
            "Iteration 523, loss = 160090.75395103\n",
            "Iteration 524, loss = 159872.34226934\n",
            "Iteration 525, loss = 160302.37522597\n",
            "Iteration 526, loss = 160417.72460732\n",
            "Iteration 527, loss = 160698.57206374\n",
            "Iteration 528, loss = 160168.84181739\n",
            "Iteration 529, loss = 159852.10909786\n",
            "Iteration 530, loss = 159786.88280238\n",
            "Iteration 531, loss = 159585.40965796\n",
            "Iteration 532, loss = 159960.46940237\n",
            "Iteration 533, loss = 159725.85741619\n",
            "Iteration 534, loss = 159974.73690337\n",
            "Iteration 535, loss = 160054.76896609\n",
            "Iteration 536, loss = 159750.93675573\n",
            "Iteration 537, loss = 160400.07085199\n",
            "Iteration 538, loss = 159666.93013993\n",
            "Iteration 539, loss = 159576.33314760\n",
            "Iteration 540, loss = 159636.68780750\n",
            "Iteration 541, loss = 159676.83647468\n",
            "Iteration 542, loss = 160565.77042804\n",
            "Iteration 543, loss = 159374.97279749\n",
            "Iteration 544, loss = 159172.14024364\n",
            "Iteration 545, loss = 159234.69635549\n",
            "Iteration 546, loss = 159185.37310122\n",
            "Iteration 547, loss = 158922.74291390\n",
            "Iteration 548, loss = 158912.87800513\n",
            "Iteration 549, loss = 159275.72136884\n",
            "Iteration 550, loss = 159100.69372448\n",
            "Iteration 551, loss = 158717.52052381\n",
            "Iteration 552, loss = 158731.00232599\n",
            "Iteration 553, loss = 158470.17051768\n",
            "Iteration 554, loss = 158653.24001231\n",
            "Iteration 555, loss = 159034.53317975\n",
            "Iteration 556, loss = 159300.23658869\n",
            "Iteration 557, loss = 158979.61629377\n",
            "Iteration 558, loss = 158413.82585010\n",
            "Iteration 559, loss = 158854.09577080\n",
            "Iteration 560, loss = 158208.07713047\n",
            "Iteration 561, loss = 158940.58523440\n",
            "Iteration 562, loss = 158696.05198794\n",
            "Iteration 563, loss = 158271.40585535\n",
            "Iteration 564, loss = 157673.81710347\n",
            "Iteration 565, loss = 157562.99444631\n",
            "Iteration 566, loss = 157889.83653497\n",
            "Iteration 567, loss = 157962.44714046\n",
            "Iteration 568, loss = 158324.28709296\n",
            "Iteration 569, loss = 158052.92511865\n",
            "Iteration 570, loss = 158455.53644207\n",
            "Iteration 571, loss = 157673.17128530\n",
            "Iteration 572, loss = 157776.27310152\n",
            "Iteration 573, loss = 158123.66361405\n",
            "Iteration 574, loss = 157856.63811772\n",
            "Iteration 575, loss = 157437.63373769\n",
            "Iteration 576, loss = 157776.15509650\n",
            "Iteration 577, loss = 157196.58456081\n",
            "Iteration 578, loss = 158187.37334136\n",
            "Iteration 579, loss = 157521.89029086\n",
            "Iteration 580, loss = 157485.52602110\n",
            "Iteration 581, loss = 157354.76358951\n",
            "Iteration 582, loss = 156891.66674834\n",
            "Iteration 583, loss = 157652.60172666\n",
            "Iteration 584, loss = 157701.01998153\n",
            "Iteration 585, loss = 157257.96653817\n",
            "Iteration 586, loss = 157346.97133499\n",
            "Iteration 587, loss = 156951.31453584\n",
            "Iteration 588, loss = 156750.73268784\n",
            "Iteration 589, loss = 157237.15527840\n",
            "Iteration 590, loss = 156416.13480722\n",
            "Iteration 591, loss = 157160.77028869\n",
            "Iteration 592, loss = 156386.93768385\n",
            "Iteration 593, loss = 156469.29627024\n",
            "Iteration 594, loss = 156634.95173805\n",
            "Iteration 595, loss = 156686.74181245\n",
            "Iteration 596, loss = 156976.17490765\n",
            "Iteration 597, loss = 156059.54941625\n",
            "Iteration 598, loss = 156193.98401349\n",
            "Iteration 599, loss = 156340.16148745\n",
            "Iteration 600, loss = 156881.92667925\n",
            "Iteration 601, loss = 155993.18325646\n",
            "Iteration 602, loss = 156447.06342607\n",
            "Iteration 603, loss = 156102.05243705\n",
            "Iteration 604, loss = 156383.96439370\n",
            "Iteration 605, loss = 156300.30500355\n",
            "Iteration 606, loss = 155981.09543715\n",
            "Iteration 607, loss = 155877.07427325\n",
            "Iteration 608, loss = 155887.53875739\n",
            "Iteration 609, loss = 155681.30820927\n",
            "Iteration 610, loss = 155739.32995079\n",
            "Iteration 611, loss = 156267.17224881\n",
            "Iteration 612, loss = 155348.82110335\n",
            "Iteration 613, loss = 155723.13329104\n",
            "Iteration 614, loss = 155962.10474735\n",
            "Iteration 615, loss = 155537.95362728\n",
            "Iteration 616, loss = 155114.25322978\n",
            "Iteration 617, loss = 155914.49527994\n",
            "Iteration 618, loss = 155487.41348298\n",
            "Iteration 619, loss = 156243.89551100\n",
            "Iteration 620, loss = 155179.39258576\n",
            "Iteration 621, loss = 155608.68717345\n",
            "Iteration 622, loss = 155170.77708048\n",
            "Iteration 623, loss = 155503.04634748\n",
            "Iteration 624, loss = 155023.87298872\n",
            "Iteration 625, loss = 155498.47095289\n",
            "Iteration 626, loss = 154691.04544334\n",
            "Iteration 627, loss = 155007.01193970\n",
            "Iteration 628, loss = 155154.46828851\n",
            "Iteration 629, loss = 155046.91325859\n",
            "Iteration 630, loss = 154937.01073512\n",
            "Iteration 631, loss = 155073.74011359\n",
            "Iteration 632, loss = 155230.86684446\n",
            "Iteration 633, loss = 155000.23331887\n",
            "Iteration 634, loss = 154970.11501271\n",
            "Iteration 635, loss = 154396.94552685\n",
            "Iteration 636, loss = 154427.71590485\n",
            "Iteration 637, loss = 154952.77425321\n",
            "Iteration 638, loss = 154456.94534998\n",
            "Iteration 639, loss = 155088.56442866\n",
            "Iteration 640, loss = 154229.18504221\n",
            "Iteration 641, loss = 154328.95046531\n",
            "Iteration 642, loss = 154784.09744827\n",
            "Iteration 643, loss = 154008.97353537\n",
            "Iteration 644, loss = 153837.48468391\n",
            "Iteration 645, loss = 154507.38249142\n",
            "Iteration 646, loss = 153994.02418295\n",
            "Iteration 647, loss = 154249.42095371\n",
            "Iteration 648, loss = 154008.27455617\n",
            "Iteration 649, loss = 153954.10399115\n",
            "Iteration 650, loss = 153617.57994223\n",
            "Iteration 651, loss = 154600.30089677\n",
            "Iteration 652, loss = 153802.82879430\n",
            "Iteration 653, loss = 153862.32292345\n",
            "Iteration 654, loss = 153817.21006604\n",
            "Iteration 655, loss = 153674.50796726\n",
            "Iteration 656, loss = 153488.52340320\n",
            "Iteration 657, loss = 153841.71410376\n",
            "Iteration 658, loss = 153676.93862956\n",
            "Iteration 659, loss = 153750.84441012\n",
            "Iteration 660, loss = 153466.63932157\n",
            "Iteration 661, loss = 153613.24448284\n",
            "Iteration 662, loss = 153171.69044728\n",
            "Iteration 663, loss = 153685.78416144\n",
            "Iteration 664, loss = 154344.36770569\n",
            "Iteration 665, loss = 153181.82594331\n",
            "Iteration 666, loss = 152798.06725964\n",
            "Iteration 667, loss = 153452.93815418\n",
            "Iteration 668, loss = 154054.29476976\n",
            "Iteration 669, loss = 153242.94737849\n",
            "Iteration 670, loss = 153317.47178109\n",
            "Iteration 671, loss = 153308.55153624\n",
            "Iteration 672, loss = 153091.84784155\n",
            "Iteration 673, loss = 152602.62911600\n",
            "Iteration 674, loss = 153028.56662110\n",
            "Iteration 675, loss = 153553.19042111\n",
            "Iteration 676, loss = 152896.20138103\n",
            "Iteration 677, loss = 152981.36803364\n",
            "Iteration 678, loss = 152197.54310277\n",
            "Iteration 679, loss = 153101.38073239\n",
            "Iteration 680, loss = 153058.35399305\n",
            "Iteration 681, loss = 152645.77195185\n"
          ]
        },
        {
          "output_type": "stream",
          "name": "stderr",
          "text": [
            "/usr/local/lib/python3.10/dist-packages/sklearn/neural_network/_multilayer_perceptron.py:693: UserWarning: Training interrupted by user.\n",
            "  warnings.warn(\"Training interrupted by user.\")\n"
          ]
        },
        {
          "output_type": "execute_result",
          "data": {
            "text/plain": [
              "MLPRegressor(hidden_layer_sizes=(150, 50), max_iter=1000, verbose=True)"
            ],
            "text/html": [
              "<style>#sk-container-id-1 {color: black;background-color: white;}#sk-container-id-1 pre{padding: 0;}#sk-container-id-1 div.sk-toggleable {background-color: white;}#sk-container-id-1 label.sk-toggleable__label {cursor: pointer;display: block;width: 100%;margin-bottom: 0;padding: 0.3em;box-sizing: border-box;text-align: center;}#sk-container-id-1 label.sk-toggleable__label-arrow:before {content: \"▸\";float: left;margin-right: 0.25em;color: #696969;}#sk-container-id-1 label.sk-toggleable__label-arrow:hover:before {color: black;}#sk-container-id-1 div.sk-estimator:hover label.sk-toggleable__label-arrow:before {color: black;}#sk-container-id-1 div.sk-toggleable__content {max-height: 0;max-width: 0;overflow: hidden;text-align: left;background-color: #f0f8ff;}#sk-container-id-1 div.sk-toggleable__content pre {margin: 0.2em;color: black;border-radius: 0.25em;background-color: #f0f8ff;}#sk-container-id-1 input.sk-toggleable__control:checked~div.sk-toggleable__content {max-height: 200px;max-width: 100%;overflow: auto;}#sk-container-id-1 input.sk-toggleable__control:checked~label.sk-toggleable__label-arrow:before {content: \"▾\";}#sk-container-id-1 div.sk-estimator input.sk-toggleable__control:checked~label.sk-toggleable__label {background-color: #d4ebff;}#sk-container-id-1 div.sk-label input.sk-toggleable__control:checked~label.sk-toggleable__label {background-color: #d4ebff;}#sk-container-id-1 input.sk-hidden--visually {border: 0;clip: rect(1px 1px 1px 1px);clip: rect(1px, 1px, 1px, 1px);height: 1px;margin: -1px;overflow: hidden;padding: 0;position: absolute;width: 1px;}#sk-container-id-1 div.sk-estimator {font-family: monospace;background-color: #f0f8ff;border: 1px dotted black;border-radius: 0.25em;box-sizing: border-box;margin-bottom: 0.5em;}#sk-container-id-1 div.sk-estimator:hover {background-color: #d4ebff;}#sk-container-id-1 div.sk-parallel-item::after {content: \"\";width: 100%;border-bottom: 1px solid gray;flex-grow: 1;}#sk-container-id-1 div.sk-label:hover label.sk-toggleable__label {background-color: #d4ebff;}#sk-container-id-1 div.sk-serial::before {content: \"\";position: absolute;border-left: 1px solid gray;box-sizing: border-box;top: 0;bottom: 0;left: 50%;z-index: 0;}#sk-container-id-1 div.sk-serial {display: flex;flex-direction: column;align-items: center;background-color: white;padding-right: 0.2em;padding-left: 0.2em;position: relative;}#sk-container-id-1 div.sk-item {position: relative;z-index: 1;}#sk-container-id-1 div.sk-parallel {display: flex;align-items: stretch;justify-content: center;background-color: white;position: relative;}#sk-container-id-1 div.sk-item::before, #sk-container-id-1 div.sk-parallel-item::before {content: \"\";position: absolute;border-left: 1px solid gray;box-sizing: border-box;top: 0;bottom: 0;left: 50%;z-index: -1;}#sk-container-id-1 div.sk-parallel-item {display: flex;flex-direction: column;z-index: 1;position: relative;background-color: white;}#sk-container-id-1 div.sk-parallel-item:first-child::after {align-self: flex-end;width: 50%;}#sk-container-id-1 div.sk-parallel-item:last-child::after {align-self: flex-start;width: 50%;}#sk-container-id-1 div.sk-parallel-item:only-child::after {width: 0;}#sk-container-id-1 div.sk-dashed-wrapped {border: 1px dashed gray;margin: 0 0.4em 0.5em 0.4em;box-sizing: border-box;padding-bottom: 0.4em;background-color: white;}#sk-container-id-1 div.sk-label label {font-family: monospace;font-weight: bold;display: inline-block;line-height: 1.2em;}#sk-container-id-1 div.sk-label-container {text-align: center;}#sk-container-id-1 div.sk-container {/* jupyter's `normalize.less` sets `[hidden] { display: none; }` but bootstrap.min.css set `[hidden] { display: none !important; }` so we also need the `!important` here to be able to override the default hidden behavior on the sphinx rendered scikit-learn.org. See: https://github.com/scikit-learn/scikit-learn/issues/21755 */display: inline-block !important;position: relative;}#sk-container-id-1 div.sk-text-repr-fallback {display: none;}</style><div id=\"sk-container-id-1\" class=\"sk-top-container\"><div class=\"sk-text-repr-fallback\"><pre>MLPRegressor(hidden_layer_sizes=(150, 50), max_iter=1000, verbose=True)</pre><b>In a Jupyter environment, please rerun this cell to show the HTML representation or trust the notebook. <br />On GitHub, the HTML representation is unable to render, please try loading this page with nbviewer.org.</b></div><div class=\"sk-container\" hidden><div class=\"sk-item\"><div class=\"sk-estimator sk-toggleable\"><input class=\"sk-toggleable__control sk-hidden--visually\" id=\"sk-estimator-id-1\" type=\"checkbox\" checked><label for=\"sk-estimator-id-1\" class=\"sk-toggleable__label sk-toggleable__label-arrow\">MLPRegressor</label><div class=\"sk-toggleable__content\"><pre>MLPRegressor(hidden_layer_sizes=(150, 50), max_iter=1000, verbose=True)</pre></div></div></div></div></div>"
            ]
          },
          "metadata": {},
          "execution_count": 49
        }
      ],
      "source": [
        "model = MLPRegressor(hidden_layer_sizes=(150, 50), activation='relu', solver='adam', max_iter=1000, verbose=True)\n",
        "model.fit(X_train, y_train)"
      ]
    },
    {
      "cell_type": "code",
      "execution_count": null,
      "metadata": {
        "colab": {
          "base_uri": "https://localhost:8080/"
        },
        "outputId": "24f417c5-5ba1-477e-e9e6-1d61f1427e82",
        "id": "RwdYbP1H3Q_p"
      },
      "outputs": [
        {
          "output_type": "execute_result",
          "data": {
            "text/plain": [
              "(0.9809084182069115, 0.9819571526558803)"
            ]
          },
          "metadata": {},
          "execution_count": 50
        }
      ],
      "source": [
        "model.score(X_train, y_train), model.score(X_test, y_test)"
      ]
    },
    {
      "cell_type": "code",
      "execution_count": null,
      "metadata": {
        "id": "GB7RAmDR3Q_r"
      },
      "outputs": [],
      "source": [
        "y_pred = model.predict(X_test)"
      ]
    },
    {
      "cell_type": "code",
      "execution_count": null,
      "metadata": {
        "colab": {
          "base_uri": "https://localhost:8080/"
        },
        "outputId": "ee59d046-1183-4cac-d8a0-f8d1b6b35eda",
        "id": "U3qsFx-o3Q_s"
      },
      "outputs": [
        {
          "output_type": "execute_result",
          "data": {
            "text/plain": [
              "536.5942734784675"
            ]
          },
          "metadata": {},
          "execution_count": 52
        }
      ],
      "source": [
        "RMSE_mlp = mean_squared_error(y_test, y_pred, squared=False)\n",
        "RMSE_mlp"
      ]
    }
  ]
}