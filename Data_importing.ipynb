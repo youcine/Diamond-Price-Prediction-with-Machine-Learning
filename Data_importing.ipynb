{
  "nbformat": 4,
  "nbformat_minor": 0,
  "metadata": {
    "colab": {
      "provenance": [],
      "authorship_tag": "ABX9TyMhxm2GWzeP4XGEklUlFjhe",
      "include_colab_link": true
    },
    "kernelspec": {
      "name": "python3",
      "display_name": "Python 3"
    },
    "language_info": {
      "name": "python"
    }
  },
  "cells": [
    {
      "cell_type": "markdown",
      "metadata": {
        "id": "view-in-github",
        "colab_type": "text"
      },
      "source": [
        "<a href=\"https://colab.research.google.com/github/youcine/Diamond-Price-Prediction-with-Machine-Learning/blob/main/Data_importing.ipynb\" target=\"_parent\"><img src=\"https://colab.research.google.com/assets/colab-badge.svg\" alt=\"Open In Colab\"/></a>"
      ]
    },
    {
      "cell_type": "markdown",
      "metadata": {
        "id": "ipmAMWvsmmT1"
      },
      "source": [
        "#  **Data Importing**"
      ]
    },
    {
      "cell_type": "code",
      "execution_count": null,
      "metadata": {
        "id": "kHPUqFkslzeA"
      },
      "outputs": [],
      "source": [
        "import pandas as pd\n",
        "import numpy as np\n",
        "import matplotlib.pyplot as plt\n",
        "import seaborn as sns\n",
        "from sklearn.model_selection import train_test_split\n",
        "from sklearn.preprocessing import StandardScaler, MinMaxScaler\n",
        "from sklearn.metrics import mean_squared_error"
      ]
    },
    {
      "cell_type": "code",
      "execution_count": null,
      "metadata": {
        "id": "wMe4LQDHmt7B"
      },
      "outputs": [],
      "source": [
        "from sklearn.impute import SimpleImputer\n",
        "from sklearn.preprocessing import LabelEncoder, OneHotEncoder, FunctionTransformer\n",
        "from sklearn.pipeline import Pipeline\n",
        "from sklearn.compose import ColumnTransformer\n",
        "from sklearn.linear_model import LinearRegression, Ridge, Lasso, LogisticRegression\n",
        "from lightgbm import LGBMRegressor\n",
        "from xgboost import XGBRegressor\n",
        "from sklearn.tree import DecisionTreeRegressor\n",
        "from sklearn.ensemble import RandomForestRegressor\n",
        "from sklearn.neural_network import MLPRegressor\n",
        "from sklearn.model_selection import cross_val_score\n",
        "from sklearn.model_selection import GridSearchCV, RandomizedSearchCV\n",
        "import joblib"
      ]
    },
    {
      "cell_type": "code",
      "execution_count": null,
      "metadata": {
        "colab": {
          "base_uri": "https://localhost:8080/"
        },
        "id": "7FEKjMfCid_r",
        "outputId": "c379a721-8abe-4c6a-a0aa-8e860675a0a8"
      },
      "outputs": [
        {
          "output_type": "stream",
          "name": "stdout",
          "text": [
            "Mounted at /content/drive\n"
          ]
        }
      ],
      "source": [
        "from google.colab import drive\n",
        "drive.mount('/content/drive')"
      ]
    },
    {
      "cell_type": "code",
      "execution_count": null,
      "metadata": {
        "id": "shSMyewsgLnY"
      },
      "outputs": [],
      "source": [
        "df = pd.read_csv(\"/content/drive/MyDrive/train.csv\")\n",
        "test_data = pd.read_csv(\"/content/drive/MyDrive/test.csv\")\n",
        "\n",
        "#df = pd.read_csv(\"/content/train.csv\")\n",
        "#test_data = pd.read_csv(\"/content/test.csv\")\n"
      ]
    },
    {
      "cell_type": "code",
      "execution_count": null,
      "metadata": {
        "colab": {
          "base_uri": "https://localhost:8080/"
        },
        "id": "HcRpZDZsgSKU",
        "outputId": "cd687460-08e4-4272-82d8-af17027c0859"
      },
      "outputs": [
        {
          "output_type": "stream",
          "name": "stdout",
          "text": [
            "<class 'pandas.core.frame.DataFrame'>\n",
            "RangeIndex: 43152 entries, 0 to 43151\n",
            "Data columns (total 11 columns):\n",
            " #   Column   Non-Null Count  Dtype  \n",
            "---  ------   --------------  -----  \n",
            " 0   Id       43152 non-null  int64  \n",
            " 1   carat    43152 non-null  float64\n",
            " 2   cut      43152 non-null  object \n",
            " 3   color    43152 non-null  object \n",
            " 4   clarity  43152 non-null  object \n",
            " 5   depth    43152 non-null  float64\n",
            " 6   table    43152 non-null  float64\n",
            " 7   price    43152 non-null  int64  \n",
            " 8   x        43152 non-null  float64\n",
            " 9   y        43152 non-null  float64\n",
            " 10  z        43152 non-null  float64\n",
            "dtypes: float64(6), int64(2), object(3)\n",
            "memory usage: 3.6+ MB\n"
          ]
        }
      ],
      "source": [
        "df.info()"
      ]
    },
    {
      "cell_type": "code",
      "execution_count": null,
      "metadata": {
        "colab": {
          "base_uri": "https://localhost:8080/",
          "height": 206
        },
        "id": "n_p69Nk-gSSZ",
        "outputId": "06bbaca0-6f3b-4a7a-a956-0e6221fb8f87"
      },
      "outputs": [
        {
          "output_type": "execute_result",
          "data": {
            "text/plain": [
              "   Id  carat      cut color clarity  depth  table  price     x     y     z\n",
              "0   1   1.06    Ideal     I     SI2   61.8   57.0   4270  6.57  6.60  4.07\n",
              "1   2   1.51  Premium     G    VVS2   60.9   58.0  15164  7.38  7.42  4.51\n",
              "2   3   0.32    Ideal     F     VS2   61.3   56.0    828  4.43  4.41  2.71\n",
              "3   4   0.53    Ideal     G     VS2   61.2   56.0   1577  5.19  5.22  3.19\n",
              "4   5   0.70  Premium     H    VVS2   61.0   57.0   2596  5.76  5.72  3.50"
            ],
            "text/html": [
              "\n",
              "  <div id=\"df-824d356b-2034-4b0d-a994-f9b67d04727a\" class=\"colab-df-container\">\n",
              "    <div>\n",
              "<style scoped>\n",
              "    .dataframe tbody tr th:only-of-type {\n",
              "        vertical-align: middle;\n",
              "    }\n",
              "\n",
              "    .dataframe tbody tr th {\n",
              "        vertical-align: top;\n",
              "    }\n",
              "\n",
              "    .dataframe thead th {\n",
              "        text-align: right;\n",
              "    }\n",
              "</style>\n",
              "<table border=\"1\" class=\"dataframe\">\n",
              "  <thead>\n",
              "    <tr style=\"text-align: right;\">\n",
              "      <th></th>\n",
              "      <th>Id</th>\n",
              "      <th>carat</th>\n",
              "      <th>cut</th>\n",
              "      <th>color</th>\n",
              "      <th>clarity</th>\n",
              "      <th>depth</th>\n",
              "      <th>table</th>\n",
              "      <th>price</th>\n",
              "      <th>x</th>\n",
              "      <th>y</th>\n",
              "      <th>z</th>\n",
              "    </tr>\n",
              "  </thead>\n",
              "  <tbody>\n",
              "    <tr>\n",
              "      <th>0</th>\n",
              "      <td>1</td>\n",
              "      <td>1.06</td>\n",
              "      <td>Ideal</td>\n",
              "      <td>I</td>\n",
              "      <td>SI2</td>\n",
              "      <td>61.8</td>\n",
              "      <td>57.0</td>\n",
              "      <td>4270</td>\n",
              "      <td>6.57</td>\n",
              "      <td>6.60</td>\n",
              "      <td>4.07</td>\n",
              "    </tr>\n",
              "    <tr>\n",
              "      <th>1</th>\n",
              "      <td>2</td>\n",
              "      <td>1.51</td>\n",
              "      <td>Premium</td>\n",
              "      <td>G</td>\n",
              "      <td>VVS2</td>\n",
              "      <td>60.9</td>\n",
              "      <td>58.0</td>\n",
              "      <td>15164</td>\n",
              "      <td>7.38</td>\n",
              "      <td>7.42</td>\n",
              "      <td>4.51</td>\n",
              "    </tr>\n",
              "    <tr>\n",
              "      <th>2</th>\n",
              "      <td>3</td>\n",
              "      <td>0.32</td>\n",
              "      <td>Ideal</td>\n",
              "      <td>F</td>\n",
              "      <td>VS2</td>\n",
              "      <td>61.3</td>\n",
              "      <td>56.0</td>\n",
              "      <td>828</td>\n",
              "      <td>4.43</td>\n",
              "      <td>4.41</td>\n",
              "      <td>2.71</td>\n",
              "    </tr>\n",
              "    <tr>\n",
              "      <th>3</th>\n",
              "      <td>4</td>\n",
              "      <td>0.53</td>\n",
              "      <td>Ideal</td>\n",
              "      <td>G</td>\n",
              "      <td>VS2</td>\n",
              "      <td>61.2</td>\n",
              "      <td>56.0</td>\n",
              "      <td>1577</td>\n",
              "      <td>5.19</td>\n",
              "      <td>5.22</td>\n",
              "      <td>3.19</td>\n",
              "    </tr>\n",
              "    <tr>\n",
              "      <th>4</th>\n",
              "      <td>5</td>\n",
              "      <td>0.70</td>\n",
              "      <td>Premium</td>\n",
              "      <td>H</td>\n",
              "      <td>VVS2</td>\n",
              "      <td>61.0</td>\n",
              "      <td>57.0</td>\n",
              "      <td>2596</td>\n",
              "      <td>5.76</td>\n",
              "      <td>5.72</td>\n",
              "      <td>3.50</td>\n",
              "    </tr>\n",
              "  </tbody>\n",
              "</table>\n",
              "</div>\n",
              "    <div class=\"colab-df-buttons\">\n",
              "\n",
              "  <div class=\"colab-df-container\">\n",
              "    <button class=\"colab-df-convert\" onclick=\"convertToInteractive('df-824d356b-2034-4b0d-a994-f9b67d04727a')\"\n",
              "            title=\"Convert this dataframe to an interactive table.\"\n",
              "            style=\"display:none;\">\n",
              "\n",
              "  <svg xmlns=\"http://www.w3.org/2000/svg\" height=\"24px\" viewBox=\"0 -960 960 960\">\n",
              "    <path d=\"M120-120v-720h720v720H120Zm60-500h600v-160H180v160Zm220 220h160v-160H400v160Zm0 220h160v-160H400v160ZM180-400h160v-160H180v160Zm440 0h160v-160H620v160ZM180-180h160v-160H180v160Zm440 0h160v-160H620v160Z\"/>\n",
              "  </svg>\n",
              "    </button>\n",
              "\n",
              "  <style>\n",
              "    .colab-df-container {\n",
              "      display:flex;\n",
              "      gap: 12px;\n",
              "    }\n",
              "\n",
              "    .colab-df-convert {\n",
              "      background-color: #E8F0FE;\n",
              "      border: none;\n",
              "      border-radius: 50%;\n",
              "      cursor: pointer;\n",
              "      display: none;\n",
              "      fill: #1967D2;\n",
              "      height: 32px;\n",
              "      padding: 0 0 0 0;\n",
              "      width: 32px;\n",
              "    }\n",
              "\n",
              "    .colab-df-convert:hover {\n",
              "      background-color: #E2EBFA;\n",
              "      box-shadow: 0px 1px 2px rgba(60, 64, 67, 0.3), 0px 1px 3px 1px rgba(60, 64, 67, 0.15);\n",
              "      fill: #174EA6;\n",
              "    }\n",
              "\n",
              "    .colab-df-buttons div {\n",
              "      margin-bottom: 4px;\n",
              "    }\n",
              "\n",
              "    [theme=dark] .colab-df-convert {\n",
              "      background-color: #3B4455;\n",
              "      fill: #D2E3FC;\n",
              "    }\n",
              "\n",
              "    [theme=dark] .colab-df-convert:hover {\n",
              "      background-color: #434B5C;\n",
              "      box-shadow: 0px 1px 3px 1px rgba(0, 0, 0, 0.15);\n",
              "      filter: drop-shadow(0px 1px 2px rgba(0, 0, 0, 0.3));\n",
              "      fill: #FFFFFF;\n",
              "    }\n",
              "  </style>\n",
              "\n",
              "    <script>\n",
              "      const buttonEl =\n",
              "        document.querySelector('#df-824d356b-2034-4b0d-a994-f9b67d04727a button.colab-df-convert');\n",
              "      buttonEl.style.display =\n",
              "        google.colab.kernel.accessAllowed ? 'block' : 'none';\n",
              "\n",
              "      async function convertToInteractive(key) {\n",
              "        const element = document.querySelector('#df-824d356b-2034-4b0d-a994-f9b67d04727a');\n",
              "        const dataTable =\n",
              "          await google.colab.kernel.invokeFunction('convertToInteractive',\n",
              "                                                    [key], {});\n",
              "        if (!dataTable) return;\n",
              "\n",
              "        const docLinkHtml = 'Like what you see? Visit the ' +\n",
              "          '<a target=\"_blank\" href=https://colab.research.google.com/notebooks/data_table.ipynb>data table notebook</a>'\n",
              "          + ' to learn more about interactive tables.';\n",
              "        element.innerHTML = '';\n",
              "        dataTable['output_type'] = 'display_data';\n",
              "        await google.colab.output.renderOutput(dataTable, element);\n",
              "        const docLink = document.createElement('div');\n",
              "        docLink.innerHTML = docLinkHtml;\n",
              "        element.appendChild(docLink);\n",
              "      }\n",
              "    </script>\n",
              "  </div>\n",
              "\n",
              "\n",
              "<div id=\"df-142216e8-7d25-4215-90ec-4a34cb1b2f83\">\n",
              "  <button class=\"colab-df-quickchart\" onclick=\"quickchart('df-142216e8-7d25-4215-90ec-4a34cb1b2f83')\"\n",
              "            title=\"Suggest charts\"\n",
              "            style=\"display:none;\">\n",
              "\n",
              "<svg xmlns=\"http://www.w3.org/2000/svg\" height=\"24px\"viewBox=\"0 0 24 24\"\n",
              "     width=\"24px\">\n",
              "    <g>\n",
              "        <path d=\"M19 3H5c-1.1 0-2 .9-2 2v14c0 1.1.9 2 2 2h14c1.1 0 2-.9 2-2V5c0-1.1-.9-2-2-2zM9 17H7v-7h2v7zm4 0h-2V7h2v10zm4 0h-2v-4h2v4z\"/>\n",
              "    </g>\n",
              "</svg>\n",
              "  </button>\n",
              "\n",
              "<style>\n",
              "  .colab-df-quickchart {\n",
              "      --bg-color: #E8F0FE;\n",
              "      --fill-color: #1967D2;\n",
              "      --hover-bg-color: #E2EBFA;\n",
              "      --hover-fill-color: #174EA6;\n",
              "      --disabled-fill-color: #AAA;\n",
              "      --disabled-bg-color: #DDD;\n",
              "  }\n",
              "\n",
              "  [theme=dark] .colab-df-quickchart {\n",
              "      --bg-color: #3B4455;\n",
              "      --fill-color: #D2E3FC;\n",
              "      --hover-bg-color: #434B5C;\n",
              "      --hover-fill-color: #FFFFFF;\n",
              "      --disabled-bg-color: #3B4455;\n",
              "      --disabled-fill-color: #666;\n",
              "  }\n",
              "\n",
              "  .colab-df-quickchart {\n",
              "    background-color: var(--bg-color);\n",
              "    border: none;\n",
              "    border-radius: 50%;\n",
              "    cursor: pointer;\n",
              "    display: none;\n",
              "    fill: var(--fill-color);\n",
              "    height: 32px;\n",
              "    padding: 0;\n",
              "    width: 32px;\n",
              "  }\n",
              "\n",
              "  .colab-df-quickchart:hover {\n",
              "    background-color: var(--hover-bg-color);\n",
              "    box-shadow: 0 1px 2px rgba(60, 64, 67, 0.3), 0 1px 3px 1px rgba(60, 64, 67, 0.15);\n",
              "    fill: var(--button-hover-fill-color);\n",
              "  }\n",
              "\n",
              "  .colab-df-quickchart-complete:disabled,\n",
              "  .colab-df-quickchart-complete:disabled:hover {\n",
              "    background-color: var(--disabled-bg-color);\n",
              "    fill: var(--disabled-fill-color);\n",
              "    box-shadow: none;\n",
              "  }\n",
              "\n",
              "  .colab-df-spinner {\n",
              "    border: 2px solid var(--fill-color);\n",
              "    border-color: transparent;\n",
              "    border-bottom-color: var(--fill-color);\n",
              "    animation:\n",
              "      spin 1s steps(1) infinite;\n",
              "  }\n",
              "\n",
              "  @keyframes spin {\n",
              "    0% {\n",
              "      border-color: transparent;\n",
              "      border-bottom-color: var(--fill-color);\n",
              "      border-left-color: var(--fill-color);\n",
              "    }\n",
              "    20% {\n",
              "      border-color: transparent;\n",
              "      border-left-color: var(--fill-color);\n",
              "      border-top-color: var(--fill-color);\n",
              "    }\n",
              "    30% {\n",
              "      border-color: transparent;\n",
              "      border-left-color: var(--fill-color);\n",
              "      border-top-color: var(--fill-color);\n",
              "      border-right-color: var(--fill-color);\n",
              "    }\n",
              "    40% {\n",
              "      border-color: transparent;\n",
              "      border-right-color: var(--fill-color);\n",
              "      border-top-color: var(--fill-color);\n",
              "    }\n",
              "    60% {\n",
              "      border-color: transparent;\n",
              "      border-right-color: var(--fill-color);\n",
              "    }\n",
              "    80% {\n",
              "      border-color: transparent;\n",
              "      border-right-color: var(--fill-color);\n",
              "      border-bottom-color: var(--fill-color);\n",
              "    }\n",
              "    90% {\n",
              "      border-color: transparent;\n",
              "      border-bottom-color: var(--fill-color);\n",
              "    }\n",
              "  }\n",
              "</style>\n",
              "\n",
              "  <script>\n",
              "    async function quickchart(key) {\n",
              "      const quickchartButtonEl =\n",
              "        document.querySelector('#' + key + ' button');\n",
              "      quickchartButtonEl.disabled = true;  // To prevent multiple clicks.\n",
              "      quickchartButtonEl.classList.add('colab-df-spinner');\n",
              "      try {\n",
              "        const charts = await google.colab.kernel.invokeFunction(\n",
              "            'suggestCharts', [key], {});\n",
              "      } catch (error) {\n",
              "        console.error('Error during call to suggestCharts:', error);\n",
              "      }\n",
              "      quickchartButtonEl.classList.remove('colab-df-spinner');\n",
              "      quickchartButtonEl.classList.add('colab-df-quickchart-complete');\n",
              "    }\n",
              "    (() => {\n",
              "      let quickchartButtonEl =\n",
              "        document.querySelector('#df-142216e8-7d25-4215-90ec-4a34cb1b2f83 button');\n",
              "      quickchartButtonEl.style.display =\n",
              "        google.colab.kernel.accessAllowed ? 'block' : 'none';\n",
              "    })();\n",
              "  </script>\n",
              "</div>\n",
              "\n",
              "    </div>\n",
              "  </div>\n"
            ],
            "application/vnd.google.colaboratory.intrinsic+json": {
              "type": "dataframe",
              "variable_name": "df",
              "summary": "{\n  \"name\": \"df\",\n  \"rows\": 43152,\n  \"fields\": [\n    {\n      \"column\": \"Id\",\n      \"properties\": {\n        \"dtype\": \"number\",\n        \"std\": 12457,\n        \"min\": 1,\n        \"max\": 43152,\n        \"num_unique_values\": 43152,\n        \"samples\": [\n          14769,\n          33288,\n          2182\n        ],\n        \"semantic_type\": \"\",\n        \"description\": \"\"\n      }\n    },\n    {\n      \"column\": \"carat\",\n      \"properties\": {\n        \"dtype\": \"number\",\n        \"std\": 0.4735936225855274,\n        \"min\": 0.2,\n        \"max\": 5.01,\n        \"num_unique_values\": 266,\n        \"samples\": [\n          1.32,\n          1.72,\n          0.47\n        ],\n        \"semantic_type\": \"\",\n        \"description\": \"\"\n      }\n    },\n    {\n      \"column\": \"cut\",\n      \"properties\": {\n        \"dtype\": \"category\",\n        \"num_unique_values\": 5,\n        \"samples\": [\n          \"Premium\",\n          \"Good\",\n          \"Very Good\"\n        ],\n        \"semantic_type\": \"\",\n        \"description\": \"\"\n      }\n    },\n    {\n      \"column\": \"color\",\n      \"properties\": {\n        \"dtype\": \"category\",\n        \"num_unique_values\": 7,\n        \"samples\": [\n          \"I\",\n          \"G\",\n          \"E\"\n        ],\n        \"semantic_type\": \"\",\n        \"description\": \"\"\n      }\n    },\n    {\n      \"column\": \"clarity\",\n      \"properties\": {\n        \"dtype\": \"category\",\n        \"num_unique_values\": 8,\n        \"samples\": [\n          \"VVS2\",\n          \"SI1\",\n          \"SI2\"\n        ],\n        \"semantic_type\": \"\",\n        \"description\": \"\"\n      }\n    },\n    {\n      \"column\": \"depth\",\n      \"properties\": {\n        \"dtype\": \"number\",\n        \"std\": 1.4354538744826075,\n        \"min\": 43.0,\n        \"max\": 79.0,\n        \"num_unique_values\": 179,\n        \"samples\": [\n          56.9,\n          58.6,\n          59.7\n        ],\n        \"semantic_type\": \"\",\n        \"description\": \"\"\n      }\n    },\n    {\n      \"column\": \"table\",\n      \"properties\": {\n        \"dtype\": \"number\",\n        \"std\": 2.233903841503702,\n        \"min\": 43.0,\n        \"max\": 95.0,\n        \"num_unique_values\": 121,\n        \"samples\": [\n          55.3,\n          58.5,\n          62.0\n        ],\n        \"semantic_type\": \"\",\n        \"description\": \"\"\n      }\n    },\n    {\n      \"column\": \"price\",\n      \"properties\": {\n        \"dtype\": \"number\",\n        \"std\": 3985,\n        \"min\": 326,\n        \"max\": 18823,\n        \"num_unique_values\": 10640,\n        \"samples\": [\n          3290,\n          12000,\n          4641\n        ],\n        \"semantic_type\": \"\",\n        \"description\": \"\"\n      }\n    },\n    {\n      \"column\": \"x\",\n      \"properties\": {\n        \"dtype\": \"number\",\n        \"std\": 1.1212789590326664,\n        \"min\": 0.0,\n        \"max\": 10.74,\n        \"num_unique_values\": 546,\n        \"samples\": [\n          7.66,\n          4.8,\n          5.93\n        ],\n        \"semantic_type\": \"\",\n        \"description\": \"\"\n      }\n    },\n    {\n      \"column\": \"y\",\n      \"properties\": {\n        \"dtype\": \"number\",\n        \"std\": 1.1488086491186182,\n        \"min\": 0.0,\n        \"max\": 58.9,\n        \"num_unique_values\": 543,\n        \"samples\": [\n          9.81,\n          8.49,\n          4.02\n        ],\n        \"semantic_type\": \"\",\n        \"description\": \"\"\n      }\n    },\n    {\n      \"column\": \"z\",\n      \"properties\": {\n        \"dtype\": \"number\",\n        \"std\": 0.7082377680754497,\n        \"min\": 0.0,\n        \"max\": 31.8,\n        \"num_unique_values\": 368,\n        \"samples\": [\n          3.11,\n          2.82,\n          3.2\n        ],\n        \"semantic_type\": \"\",\n        \"description\": \"\"\n      }\n    }\n  ]\n}"
            }
          },
          "metadata": {},
          "execution_count": 6
        }
      ],
      "source": [
        "df.head()"
      ]
    },
    {
      "cell_type": "code",
      "execution_count": null,
      "metadata": {
        "colab": {
          "base_uri": "https://localhost:8080/",
          "height": 300
        },
        "id": "sU3ok_TqlCzO",
        "outputId": "79ff3256-d703-4e19-c8a8-a20c7867b90a"
      },
      "outputs": [
        {
          "output_type": "execute_result",
          "data": {
            "text/plain": [
              "<pandas.io.formats.style.Styler at 0x7dd8ee676830>"
            ],
            "text/html": [
              "<style type=\"text/css\">\n",
              "#T_b49a8_row0_col0, #T_b49a8_row0_col1, #T_b49a8_row0_col2, #T_b49a8_row0_col3, #T_b49a8_row0_col4, #T_b49a8_row0_col5, #T_b49a8_row0_col6, #T_b49a8_row0_col7, #T_b49a8_row7_col0 {\n",
              "  background-color: #ffffff;\n",
              "  color: #000000;\n",
              "}\n",
              "#T_b49a8_row1_col0, #T_b49a8_row5_col0 {\n",
              "  background-color: #d0ac94;\n",
              "  color: #000000;\n",
              "}\n",
              "#T_b49a8_row1_col1, #T_b49a8_row1_col2, #T_b49a8_row1_col3, #T_b49a8_row1_col5, #T_b49a8_row1_col6, #T_b49a8_row1_col7, #T_b49a8_row2_col1, #T_b49a8_row2_col2, #T_b49a8_row2_col3, #T_b49a8_row2_col5, #T_b49a8_row2_col6, #T_b49a8_row2_col7, #T_b49a8_row3_col0, #T_b49a8_row3_col1, #T_b49a8_row3_col2, #T_b49a8_row3_col3, #T_b49a8_row3_col5, #T_b49a8_row3_col6, #T_b49a8_row3_col7, #T_b49a8_row4_col1, #T_b49a8_row4_col2, #T_b49a8_row4_col3, #T_b49a8_row4_col5, #T_b49a8_row4_col6, #T_b49a8_row4_col7, #T_b49a8_row5_col1, #T_b49a8_row5_col2, #T_b49a8_row5_col3, #T_b49a8_row5_col5, #T_b49a8_row5_col6, #T_b49a8_row5_col7, #T_b49a8_row6_col1, #T_b49a8_row6_col2, #T_b49a8_row6_col3, #T_b49a8_row6_col5, #T_b49a8_row6_col6, #T_b49a8_row6_col7, #T_b49a8_row7_col1, #T_b49a8_row7_col2, #T_b49a8_row7_col3, #T_b49a8_row7_col5, #T_b49a8_row7_col6, #T_b49a8_row7_col7 {\n",
              "  background-color: #1e0000;\n",
              "  color: #f1f1f1;\n",
              "}\n",
              "#T_b49a8_row1_col4, #T_b49a8_row2_col4 {\n",
              "  background-color: #643e3e;\n",
              "  color: #f1f1f1;\n",
              "}\n",
              "#T_b49a8_row2_col0 {\n",
              "  background-color: #ac6f6f;\n",
              "  color: #f1f1f1;\n",
              "}\n",
              "#T_b49a8_row3_col4 {\n",
              "  background-color: #230606;\n",
              "  color: #f1f1f1;\n",
              "}\n",
              "#T_b49a8_row4_col0 {\n",
              "  background-color: #a16868;\n",
              "  color: #f1f1f1;\n",
              "}\n",
              "#T_b49a8_row4_col4 {\n",
              "  background-color: #351d1d;\n",
              "  color: #f1f1f1;\n",
              "}\n",
              "#T_b49a8_row5_col4 {\n",
              "  background-color: #503131;\n",
              "  color: #f1f1f1;\n",
              "}\n",
              "#T_b49a8_row6_col0 {\n",
              "  background-color: #e9e9b6;\n",
              "  color: #000000;\n",
              "}\n",
              "#T_b49a8_row6_col4 {\n",
              "  background-color: #724949;\n",
              "  color: #f1f1f1;\n",
              "}\n",
              "#T_b49a8_row7_col4 {\n",
              "  background-color: #c99789;\n",
              "  color: #f1f1f1;\n",
              "}\n",
              "</style>\n",
              "<table id=\"T_b49a8\" class=\"dataframe\">\n",
              "  <thead>\n",
              "    <tr>\n",
              "      <th class=\"blank level0\" >&nbsp;</th>\n",
              "      <th id=\"T_b49a8_level0_col0\" class=\"col_heading level0 col0\" >Id</th>\n",
              "      <th id=\"T_b49a8_level0_col1\" class=\"col_heading level0 col1\" >carat</th>\n",
              "      <th id=\"T_b49a8_level0_col2\" class=\"col_heading level0 col2\" >depth</th>\n",
              "      <th id=\"T_b49a8_level0_col3\" class=\"col_heading level0 col3\" >table</th>\n",
              "      <th id=\"T_b49a8_level0_col4\" class=\"col_heading level0 col4\" >price</th>\n",
              "      <th id=\"T_b49a8_level0_col5\" class=\"col_heading level0 col5\" >x</th>\n",
              "      <th id=\"T_b49a8_level0_col6\" class=\"col_heading level0 col6\" >y</th>\n",
              "      <th id=\"T_b49a8_level0_col7\" class=\"col_heading level0 col7\" >z</th>\n",
              "    </tr>\n",
              "  </thead>\n",
              "  <tbody>\n",
              "    <tr>\n",
              "      <th id=\"T_b49a8_level0_row0\" class=\"row_heading level0 row0\" >count</th>\n",
              "      <td id=\"T_b49a8_row0_col0\" class=\"data row0 col0\" >43152.000000</td>\n",
              "      <td id=\"T_b49a8_row0_col1\" class=\"data row0 col1\" >43152.000000</td>\n",
              "      <td id=\"T_b49a8_row0_col2\" class=\"data row0 col2\" >43152.000000</td>\n",
              "      <td id=\"T_b49a8_row0_col3\" class=\"data row0 col3\" >43152.000000</td>\n",
              "      <td id=\"T_b49a8_row0_col4\" class=\"data row0 col4\" >43152.000000</td>\n",
              "      <td id=\"T_b49a8_row0_col5\" class=\"data row0 col5\" >43152.000000</td>\n",
              "      <td id=\"T_b49a8_row0_col6\" class=\"data row0 col6\" >43152.000000</td>\n",
              "      <td id=\"T_b49a8_row0_col7\" class=\"data row0 col7\" >43152.000000</td>\n",
              "    </tr>\n",
              "    <tr>\n",
              "      <th id=\"T_b49a8_level0_row1\" class=\"row_heading level0 row1\" >mean</th>\n",
              "      <td id=\"T_b49a8_row1_col0\" class=\"data row1 col0\" >21576.500000</td>\n",
              "      <td id=\"T_b49a8_row1_col1\" class=\"data row1 col1\" >0.797855</td>\n",
              "      <td id=\"T_b49a8_row1_col2\" class=\"data row1 col2\" >61.747177</td>\n",
              "      <td id=\"T_b49a8_row1_col3\" class=\"data row1 col3\" >57.458347</td>\n",
              "      <td id=\"T_b49a8_row1_col4\" class=\"data row1 col4\" >3929.491912</td>\n",
              "      <td id=\"T_b49a8_row1_col5\" class=\"data row1 col5\" >5.731568</td>\n",
              "      <td id=\"T_b49a8_row1_col6\" class=\"data row1 col6\" >5.735018</td>\n",
              "      <td id=\"T_b49a8_row1_col7\" class=\"data row1 col7\" >3.538568</td>\n",
              "    </tr>\n",
              "    <tr>\n",
              "      <th id=\"T_b49a8_level0_row2\" class=\"row_heading level0 row2\" >std</th>\n",
              "      <td id=\"T_b49a8_row2_col0\" class=\"data row2 col0\" >12457.053745</td>\n",
              "      <td id=\"T_b49a8_row2_col1\" class=\"data row2 col1\" >0.473594</td>\n",
              "      <td id=\"T_b49a8_row2_col2\" class=\"data row2 col2\" >1.435454</td>\n",
              "      <td id=\"T_b49a8_row2_col3\" class=\"data row2 col3\" >2.233904</td>\n",
              "      <td id=\"T_b49a8_row2_col4\" class=\"data row2 col4\" >3985.527795</td>\n",
              "      <td id=\"T_b49a8_row2_col5\" class=\"data row2 col5\" >1.121279</td>\n",
              "      <td id=\"T_b49a8_row2_col6\" class=\"data row2 col6\" >1.148809</td>\n",
              "      <td id=\"T_b49a8_row2_col7\" class=\"data row2 col7\" >0.708238</td>\n",
              "    </tr>\n",
              "    <tr>\n",
              "      <th id=\"T_b49a8_level0_row3\" class=\"row_heading level0 row3\" >min</th>\n",
              "      <td id=\"T_b49a8_row3_col0\" class=\"data row3 col0\" >1.000000</td>\n",
              "      <td id=\"T_b49a8_row3_col1\" class=\"data row3 col1\" >0.200000</td>\n",
              "      <td id=\"T_b49a8_row3_col2\" class=\"data row3 col2\" >43.000000</td>\n",
              "      <td id=\"T_b49a8_row3_col3\" class=\"data row3 col3\" >43.000000</td>\n",
              "      <td id=\"T_b49a8_row3_col4\" class=\"data row3 col4\" >326.000000</td>\n",
              "      <td id=\"T_b49a8_row3_col5\" class=\"data row3 col5\" >0.000000</td>\n",
              "      <td id=\"T_b49a8_row3_col6\" class=\"data row3 col6\" >0.000000</td>\n",
              "      <td id=\"T_b49a8_row3_col7\" class=\"data row3 col7\" >0.000000</td>\n",
              "    </tr>\n",
              "    <tr>\n",
              "      <th id=\"T_b49a8_level0_row4\" class=\"row_heading level0 row4\" >25%</th>\n",
              "      <td id=\"T_b49a8_row4_col0\" class=\"data row4 col0\" >10788.750000</td>\n",
              "      <td id=\"T_b49a8_row4_col1\" class=\"data row4 col1\" >0.400000</td>\n",
              "      <td id=\"T_b49a8_row4_col2\" class=\"data row4 col2\" >61.000000</td>\n",
              "      <td id=\"T_b49a8_row4_col3\" class=\"data row4 col3\" >56.000000</td>\n",
              "      <td id=\"T_b49a8_row4_col4\" class=\"data row4 col4\" >947.750000</td>\n",
              "      <td id=\"T_b49a8_row4_col5\" class=\"data row4 col5\" >4.710000</td>\n",
              "      <td id=\"T_b49a8_row4_col6\" class=\"data row4 col6\" >4.720000</td>\n",
              "      <td id=\"T_b49a8_row4_col7\" class=\"data row4 col7\" >2.910000</td>\n",
              "    </tr>\n",
              "    <tr>\n",
              "      <th id=\"T_b49a8_level0_row5\" class=\"row_heading level0 row5\" >50%</th>\n",
              "      <td id=\"T_b49a8_row5_col0\" class=\"data row5 col0\" >21576.500000</td>\n",
              "      <td id=\"T_b49a8_row5_col1\" class=\"data row5 col1\" >0.700000</td>\n",
              "      <td id=\"T_b49a8_row5_col2\" class=\"data row5 col2\" >61.800000</td>\n",
              "      <td id=\"T_b49a8_row5_col3\" class=\"data row5 col3\" >57.000000</td>\n",
              "      <td id=\"T_b49a8_row5_col4\" class=\"data row5 col4\" >2401.000000</td>\n",
              "      <td id=\"T_b49a8_row5_col5\" class=\"data row5 col5\" >5.700000</td>\n",
              "      <td id=\"T_b49a8_row5_col6\" class=\"data row5 col6\" >5.710000</td>\n",
              "      <td id=\"T_b49a8_row5_col7\" class=\"data row5 col7\" >3.530000</td>\n",
              "    </tr>\n",
              "    <tr>\n",
              "      <th id=\"T_b49a8_level0_row6\" class=\"row_heading level0 row6\" >75%</th>\n",
              "      <td id=\"T_b49a8_row6_col0\" class=\"data row6 col0\" >32364.250000</td>\n",
              "      <td id=\"T_b49a8_row6_col1\" class=\"data row6 col1\" >1.040000</td>\n",
              "      <td id=\"T_b49a8_row6_col2\" class=\"data row6 col2\" >62.500000</td>\n",
              "      <td id=\"T_b49a8_row6_col3\" class=\"data row6 col3\" >59.000000</td>\n",
              "      <td id=\"T_b49a8_row6_col4\" class=\"data row6 col4\" >5312.000000</td>\n",
              "      <td id=\"T_b49a8_row6_col5\" class=\"data row6 col5\" >6.540000</td>\n",
              "      <td id=\"T_b49a8_row6_col6\" class=\"data row6 col6\" >6.540000</td>\n",
              "      <td id=\"T_b49a8_row6_col7\" class=\"data row6 col7\" >4.040000</td>\n",
              "    </tr>\n",
              "    <tr>\n",
              "      <th id=\"T_b49a8_level0_row7\" class=\"row_heading level0 row7\" >max</th>\n",
              "      <td id=\"T_b49a8_row7_col0\" class=\"data row7 col0\" >43152.000000</td>\n",
              "      <td id=\"T_b49a8_row7_col1\" class=\"data row7 col1\" >5.010000</td>\n",
              "      <td id=\"T_b49a8_row7_col2\" class=\"data row7 col2\" >79.000000</td>\n",
              "      <td id=\"T_b49a8_row7_col3\" class=\"data row7 col3\" >95.000000</td>\n",
              "      <td id=\"T_b49a8_row7_col4\" class=\"data row7 col4\" >18823.000000</td>\n",
              "      <td id=\"T_b49a8_row7_col5\" class=\"data row7 col5\" >10.740000</td>\n",
              "      <td id=\"T_b49a8_row7_col6\" class=\"data row7 col6\" >58.900000</td>\n",
              "      <td id=\"T_b49a8_row7_col7\" class=\"data row7 col7\" >31.800000</td>\n",
              "    </tr>\n",
              "  </tbody>\n",
              "</table>\n"
            ]
          },
          "metadata": {},
          "execution_count": 6
        }
      ],
      "source": [
        "df.describe().style.background_gradient(cmap='pink',axis=None)"
      ]
    },
    {
      "cell_type": "code",
      "execution_count": null,
      "metadata": {
        "colab": {
          "base_uri": "https://localhost:8080/"
        },
        "id": "09looXKHgSO2",
        "outputId": "192c1965-a567-4270-adc8-d02007717576"
      },
      "outputs": [
        {
          "output_type": "execute_result",
          "data": {
            "text/plain": [
              "(43152, 11)"
            ]
          },
          "metadata": {},
          "execution_count": 7
        }
      ],
      "source": [
        "df.shape"
      ]
    },
    {
      "cell_type": "markdown",
      "metadata": {
        "id": "FW3jP6yrncKO"
      },
      "source": [
        "**Checking for null values: there is no null values**\n"
      ]
    },
    {
      "cell_type": "code",
      "execution_count": null,
      "metadata": {
        "colab": {
          "base_uri": "https://localhost:8080/"
        },
        "id": "38dbjG1BgZGk",
        "outputId": "89604b79-29d2-47a7-91e9-5fcdcaa243d8"
      },
      "outputs": [
        {
          "output_type": "execute_result",
          "data": {
            "text/plain": [
              "Id         0\n",
              "carat      0\n",
              "cut        0\n",
              "color      0\n",
              "clarity    0\n",
              "depth      0\n",
              "table      0\n",
              "price      0\n",
              "x          0\n",
              "y          0\n",
              "z          0\n",
              "dtype: int64"
            ]
          },
          "metadata": {},
          "execution_count": 7
        }
      ],
      "source": [
        "missing_count = df.isnull().sum()\n",
        "missing_count"
      ]
    },
    {
      "cell_type": "code",
      "execution_count": null,
      "metadata": {
        "colab": {
          "base_uri": "https://localhost:8080/"
        },
        "id": "_A8Vx1uHVmTD",
        "outputId": "fd7420fd-4334-4018-bc97-fc951d793279"
      },
      "outputs": [
        {
          "output_type": "execute_result",
          "data": {
            "text/plain": [
              "Id         0\n",
              "carat      0\n",
              "cut        0\n",
              "color      0\n",
              "clarity    0\n",
              "depth      0\n",
              "table      0\n",
              "x          0\n",
              "y          0\n",
              "z          0\n",
              "dtype: int64"
            ]
          },
          "metadata": {},
          "execution_count": 8
        }
      ],
      "source": [
        "missing_count = test_data.isnull().sum()\n",
        "missing_count"
      ]
    },
    {
      "cell_type": "markdown",
      "source": [
        "**Cheking for unique values**"
      ],
      "metadata": {
        "id": "2etnR5n7p5Zm"
      }
    },
    {
      "cell_type": "code",
      "execution_count": null,
      "metadata": {
        "colab": {
          "base_uri": "https://localhost:8080/"
        },
        "id": "QmMHblOekSFU",
        "outputId": "c58f9f33-99a8-4f00-ce80-75ea375726ef"
      },
      "outputs": [
        {
          "output_type": "execute_result",
          "data": {
            "text/plain": [
              "Id         43152\n",
              "carat        266\n",
              "cut            5\n",
              "color          7\n",
              "clarity        8\n",
              "depth        179\n",
              "table        121\n",
              "price      10640\n",
              "x            546\n",
              "y            543\n",
              "z            368\n",
              "dtype: int64"
            ]
          },
          "metadata": {},
          "execution_count": 11
        }
      ],
      "source": [
        "#cheking for unique values in every column so we can study the trends and make visualization\n",
        "df.nunique()"
      ]
    },
    {
      "cell_type": "markdown",
      "source": [
        "**Checking for duplicates: there is no duplicates**"
      ],
      "metadata": {
        "id": "vLV3frGeqLSQ"
      }
    },
    {
      "cell_type": "code",
      "execution_count": null,
      "metadata": {
        "colab": {
          "base_uri": "https://localhost:8080/"
        },
        "id": "oMsdWTu1kXWG",
        "outputId": "c56c3633-7c5d-4cae-a1ce-d2b7e16cc89b"
      },
      "outputs": [
        {
          "output_type": "execute_result",
          "data": {
            "text/plain": [
              "0"
            ]
          },
          "metadata": {},
          "execution_count": 12
        }
      ],
      "source": [
        "#Check for duplicate rows\n",
        "df.duplicated().sum()"
      ]
    },
    {
      "cell_type": "markdown",
      "metadata": {
        "id": "lFKgLXZXx5H7"
      },
      "source": [
        "**Checking for the categories and the unkwon values**"
      ]
    },
    {
      "cell_type": "code",
      "execution_count": null,
      "metadata": {
        "colab": {
          "base_uri": "https://localhost:8080/"
        },
        "id": "ZT5zDqv_xDuQ",
        "outputId": "8062879a-b078-4726-c1df-db29ec61fba6"
      },
      "outputs": [
        {
          "data": {
            "text/plain": [
              "array(['I', 'G', 'F', 'H', 'D', 'E', 'J'], dtype=object)"
            ]
          },
          "execution_count": 110,
          "metadata": {},
          "output_type": "execute_result"
        }
      ],
      "source": [
        "df['color'].unique()"
      ]
    },
    {
      "cell_type": "code",
      "execution_count": null,
      "metadata": {
        "colab": {
          "base_uri": "https://localhost:8080/"
        },
        "id": "cHAHgJWjxujT",
        "outputId": "6b9225dd-88fa-4f68-aab4-b2519a70f3b5"
      },
      "outputs": [
        {
          "data": {
            "text/plain": [
              "array(['SI2', 'VVS2', 'VS2', 'IF', 'VS1', 'SI1', 'VVS1', 'I1'],\n",
              "      dtype=object)"
            ]
          },
          "execution_count": 111,
          "metadata": {},
          "output_type": "execute_result"
        }
      ],
      "source": [
        "df['clarity'].unique()\n"
      ]
    },
    {
      "cell_type": "code",
      "execution_count": null,
      "metadata": {
        "colab": {
          "base_uri": "https://localhost:8080/"
        },
        "id": "b23qtuMexzbK",
        "outputId": "e89d308d-51fd-4563-9b5d-bf97729217dc"
      },
      "outputs": [
        {
          "data": {
            "text/plain": [
              "array(['Ideal', 'Premium', 'Very Good', 'Fair', 'Good'], dtype=object)"
            ]
          },
          "execution_count": 112,
          "metadata": {},
          "output_type": "execute_result"
        }
      ],
      "source": [
        "df['cut'].unique()\n"
      ]
    }
  ]
}